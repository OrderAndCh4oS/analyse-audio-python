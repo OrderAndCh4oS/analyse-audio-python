{
 "cells": [
  {
   "cell_type": "code",
   "execution_count": 60,
   "metadata": {
    "collapsed": true,
    "ExecuteTime": {
     "end_time": "2023-05-27T17:22:57.025136Z",
     "start_time": "2023-05-27T17:22:56.997288Z"
    }
   },
   "outputs": [],
   "source": [
    "import pickle\n",
    "\n",
    "import librosa\n",
    "import librosa.feature\n",
    "\n",
    "import numpy as np\n",
    "import tensorflow as tf\n",
    "\n",
    "from scipy import stats"
   ]
  },
  {
   "cell_type": "code",
   "execution_count": 61,
   "outputs": [],
   "source": [
    "def get_mfcc(y, sr):\n",
    "    return np.array(librosa.feature.mfcc(y=y, sr=sr))\n",
    "\n",
    "\n",
    "def get_mel_spectrogram(y, sr):\n",
    "    return np.array(librosa.feature.melspectrogram(y=y, sr=sr))\n",
    "\n",
    "\n",
    "def get_chroma_stft(y, sr):\n",
    "    return np.array(librosa.feature.chroma_stft(y=y, sr=sr))\n",
    "\n",
    "\n",
    "def get_chroma_cens(y, sr):\n",
    "    return np.array(librosa.feature.chroma_cens(y=y, sr=sr))\n",
    "\n",
    "def get_tonnetz(y, sr):\n",
    "    return np.array(librosa.feature.tonnetz(y=y, sr=sr))\n",
    "\n",
    "\n",
    "def get_zero_crossing_rate(y):\n",
    "    return librosa.feature.zero_crossing_rate(y)\n",
    "\n",
    "\n",
    "def get_spectral_bandwidth(y, sr):\n",
    "    return librosa.feature.spectral_bandwidth(y=y, sr=sr)\n",
    "\n",
    "\n",
    "def get_spectral_centroid(y, sr):\n",
    "    return librosa.feature.spectral_centroid(y=y, sr=sr)\n",
    "\n",
    "\n",
    "def get_spectral_rolloff(y, sr):\n",
    "    return librosa.feature.spectral_rolloff(y=y, sr=sr)\n",
    "\n",
    "\n",
    "def get_spectral_contrast(y, sr):\n",
    "    return librosa.feature.spectral_contrast(y=y, sr=sr)\n",
    "\n",
    "\n",
    "def get_poly_features(y, sr):\n",
    "    return librosa.feature.poly_features(y=y, sr=sr)\n",
    "\n",
    "\n",
    "def get_feature_stats(values):\n",
    "    return {\n",
    "        'mean': np.mean(values, axis=1),\n",
    "        'std': np.std(values, axis=1),\n",
    "        'skew': stats.skew(values, axis=1),\n",
    "        'kurtosis': stats.kurtosis(values, axis=1),\n",
    "        'median': np.median(values, axis=1),\n",
    "        'min': np.min(values, axis=1),\n",
    "        'max': np.max(values, axis=1),\n",
    "    }\n",
    "\n",
    "\n",
    "def concatenate_feature_stats(feature_stats):\n",
    "    return np.concatenate((\n",
    "        feature_stats['mean'],\n",
    "        feature_stats['std'],\n",
    "        feature_stats['skew'],\n",
    "        feature_stats['kurtosis'],\n",
    "        feature_stats['median'],\n",
    "        feature_stats['min'],\n",
    "        feature_stats['max']\n",
    "    ))\n",
    "\n",
    "\n",
    "def get_feature(y, sr):\n",
    "    mfcc = get_mfcc(y, sr)\n",
    "    feature_stats = get_feature_stats(mfcc)\n",
    "    mfcc_feature = concatenate_feature_stats(feature_stats)\n",
    "\n",
    "    mel_spectrogram = get_mel_spectrogram(y, sr)\n",
    "    feature_stats = get_feature_stats(mel_spectrogram)\n",
    "    mel_spectrogram_feature = concatenate_feature_stats(feature_stats)\n",
    "\n",
    "    chroma_stft = get_chroma_stft(y, sr)\n",
    "    feature_stats = get_feature_stats(chroma_stft)\n",
    "    chroma_stft_feature = concatenate_feature_stats(feature_stats)\n",
    "\n",
    "    chroma_cens = get_chroma_cens(y, sr)\n",
    "    feature_stats = get_feature_stats(chroma_cens)\n",
    "    chroma_cens_feature = concatenate_feature_stats(feature_stats)\n",
    "\n",
    "    tonnetz = get_tonnetz(y, sr)\n",
    "    feature_stats = get_feature_stats(tonnetz)\n",
    "    tonnetz_feature = concatenate_feature_stats(feature_stats)\n",
    "\n",
    "    zero_crossing_rate = get_zero_crossing_rate(y)\n",
    "    feature_stats = get_feature_stats(zero_crossing_rate)\n",
    "    zero_crossing_rate_feature = concatenate_feature_stats(feature_stats)\n",
    "\n",
    "    spectral_bandwidth = get_spectral_bandwidth(y, sr)\n",
    "    feature_stats = get_feature_stats(spectral_bandwidth)\n",
    "    spectral_bandwidth_feature = concatenate_feature_stats(feature_stats)\n",
    "\n",
    "    spectral_rolloff = get_spectral_rolloff(y, sr)\n",
    "    feature_stats = get_feature_stats(spectral_rolloff)\n",
    "    spectral_rolloff_feature = concatenate_feature_stats(feature_stats)\n",
    "\n",
    "    spectral_centroid = get_spectral_centroid(y, sr)\n",
    "    feature_stats = get_feature_stats(spectral_centroid)\n",
    "    spectral_centroid_feature = concatenate_feature_stats(feature_stats)\n",
    "\n",
    "    spectral_contrast = get_spectral_contrast(y, sr)\n",
    "    feature_stats = get_feature_stats(spectral_contrast)\n",
    "    spectral_contrast_feature = concatenate_feature_stats(feature_stats)\n",
    "\n",
    "    poly_features = get_poly_features(y, sr)\n",
    "    feature_stats = get_feature_stats(poly_features)\n",
    "    poly_features_feature = concatenate_feature_stats(feature_stats)\n",
    "\n",
    "    return np.concatenate((\n",
    "        chroma_stft_feature,\n",
    "        chroma_cens_feature,\n",
    "        mel_spectrogram_feature,\n",
    "        mfcc_feature,\n",
    "        tonnetz_feature,\n",
    "        zero_crossing_rate_feature,\n",
    "        spectral_bandwidth_feature,\n",
    "        spectral_centroid_feature,\n",
    "        spectral_rolloff_feature,\n",
    "        spectral_contrast_feature,\n",
    "        poly_features_feature,\n",
    "    ))\n"
   ],
   "metadata": {
    "collapsed": false,
    "ExecuteTime": {
     "end_time": "2023-05-27T17:22:57.048776Z",
     "start_time": "2023-05-27T17:22:57.015356Z"
    }
   }
  },
  {
   "cell_type": "code",
   "execution_count": 62,
   "outputs": [],
   "source": [
    "def generate_features():\n",
    "    with open('../pickles/processed_data.pkl', 'rb') as f:\n",
    "        data = pickle.load(f)\n",
    "    xs = []\n",
    "    ys = []\n",
    "    filenames = []\n",
    "    for label, y, sr, filename in data:\n",
    "        features = get_feature(y, sr)\n",
    "        xs.append(features)\n",
    "        ys.append(label)\n",
    "        filenames.append(filename)\n",
    "    features = np.array(xs)\n",
    "    labels = np.array(ys)\n",
    "\n",
    "    with open('track_features.pkl', 'wb') as f:\n",
    "        pickle.dump({\"features\": features, \"labels\": labels, \"filenames\": filenames}, f)\n"
   ],
   "metadata": {
    "collapsed": false,
    "ExecuteTime": {
     "end_time": "2023-05-27T17:22:57.049097Z",
     "start_time": "2023-05-27T17:22:57.021590Z"
    }
   }
  },
  {
   "cell_type": "code",
   "execution_count": 63,
   "outputs": [],
   "source": [
    "generate_features()"
   ],
   "metadata": {
    "collapsed": false,
    "ExecuteTime": {
     "end_time": "2023-05-27T17:39:50.227534Z",
     "start_time": "2023-05-27T17:22:57.026821Z"
    }
   }
  },
  {
   "cell_type": "code",
   "execution_count": 64,
   "outputs": [
    {
     "name": "stderr",
     "output_type": "stream",
     "text": [
      "[INFO 23-05-27 18:39:53.8020 BST kernel.cc:1242] Loading model from path ../saved_models/random_forest_3/assets/ with prefix 4d3d74283d62459d\n"
     ]
    },
    {
     "name": "stdout",
     "output_type": "stream",
     "text": [
      "Model: \"random_forest_model_4\"\n",
      "_________________________________________________________________\n",
      " Layer (type)                Output Shape              Param #   \n",
      "=================================================================\n",
      "=================================================================\n",
      "Total params: 1\n",
      "Trainable params: 0\n",
      "Non-trainable params: 1\n",
      "_________________________________________________________________\n"
     ]
    },
    {
     "name": "stderr",
     "output_type": "stream",
     "text": [
      "[INFO 23-05-27 18:39:54.0989 BST decision_forest.cc:660] Model loaded with 300 root(s), 56508 node(s), and 1325 input feature(s).\n",
      "[INFO 23-05-27 18:39:54.0990 BST abstract_model.cc:1312] Engine \"RandomForestGeneric\" built\n",
      "[INFO 23-05-27 18:39:54.0995 BST kernel.cc:1074] Use fast generic engine\n"
     ]
    }
   ],
   "source": [
    "model = tf.keras.models.load_model('../saved_models/random_forest_3')\n",
    "model.summary()\n"
   ],
   "metadata": {
    "collapsed": false,
    "ExecuteTime": {
     "end_time": "2023-05-27T17:39:54.136315Z",
     "start_time": "2023-05-27T17:39:50.246871Z"
    }
   }
  },
  {
   "cell_type": "code",
   "execution_count": 65,
   "outputs": [],
   "source": [
    "def load_data():\n",
    "    with open('./track_features.pkl', 'rb') as f:\n",
    "        data = pickle.load(f)\n",
    "\n",
    "    return data\n"
   ],
   "metadata": {
    "collapsed": false,
    "ExecuteTime": {
     "end_time": "2023-05-27T17:39:54.140434Z",
     "start_time": "2023-05-27T17:39:54.137525Z"
    }
   }
  },
  {
   "cell_type": "code",
   "execution_count": 66,
   "outputs": [
    {
     "data": {
      "text/plain": "{'features': array([[ 4.15284574e-01,  1.88751370e-01,  2.38558665e-01, ...,\n          1.90051907e-01, -2.50370455e-05,  5.26561333e+00],\n        [ 3.05086821e-01,  4.11871135e-01,  3.02782238e-01, ...,\n          6.05055444e-01, -7.51342267e-05,  8.62808626e+00],\n        [ 4.24001545e-01,  3.10383350e-01,  3.85087997e-01, ...,\n          9.83716555e-01, -1.22716268e-04,  1.23256043e+01],\n        ...,\n        [ 3.03198457e-01,  3.16565067e-01,  5.12915492e-01, ...,\n          2.05824098e+00, -1.98326703e-04,  1.11196818e+01],\n        [ 5.12703180e-01,  3.51487219e-01,  3.12366277e-01, ...,\n          2.40252496e+00, -1.45308054e-04,  9.23447969e+00],\n        [ 3.60429823e-01,  4.77471173e-01,  4.03136909e-01, ...,\n          4.81110826e+00, -5.73429526e-04,  1.31817255e+01]]),\n 'labels': array([0, 0, 0, 0, 0, 0, 0, 0, 0, 0, 0, 0, 0, 0, 0, 0, 0, 0, 0, 0, 0, 0,\n        0, 0, 0, 0, 0, 0, 0, 0, 0, 0, 0, 0, 0, 0, 0, 0, 0, 0, 0, 0, 0, 0,\n        0, 0, 0, 0, 0, 0, 0, 0, 0, 0, 0, 0, 0, 0, 0, 0, 0, 0, 0, 0, 0, 0,\n        0, 0, 0, 0, 0, 0, 0, 0, 0, 0, 0, 0, 0, 0, 0, 0, 0, 0, 0, 0, 0, 0,\n        0, 0, 0, 0, 0, 0, 0, 0, 0, 0, 0, 0, 1, 1, 1, 1, 1, 1, 1, 1, 1, 1,\n        1, 1, 1, 1, 1, 1, 1, 1, 1, 1, 1, 1, 1, 1, 1, 1, 1, 1, 1, 1, 1, 1,\n        1, 1, 1, 1, 1, 1, 1, 1, 1, 1, 1, 1, 1, 1, 1, 1, 1, 1, 1, 1, 1, 1,\n        1, 1, 1, 1, 1, 1, 1, 1, 1, 1, 1, 1, 1, 1, 1, 1, 1, 1, 1, 1, 1, 1,\n        1, 1, 1, 1, 1, 1, 1, 1, 1, 1, 1, 1, 1, 1, 1, 1, 1, 1, 1, 1, 1, 1,\n        1, 1, 2, 2, 2, 2, 2, 2, 2, 2, 2, 2, 2, 2, 2, 2, 2, 2, 2, 2, 2, 2,\n        2, 2, 2, 2, 2, 2, 2, 2, 2, 2, 2, 2, 2, 2, 2, 2, 2, 2, 2, 2, 2, 2,\n        2, 2, 2, 2, 2, 2, 2, 2, 2, 2, 2, 2, 2, 2, 2, 2, 2, 2, 2, 2, 2, 2,\n        2, 2, 2, 2, 2, 2, 2, 2, 2, 2, 2, 2, 2, 2, 2, 2, 2, 2, 2, 2, 2, 2,\n        2, 2, 2, 2, 2, 2, 2, 2, 2, 2, 2, 2, 2, 2, 3, 3, 3, 3, 3, 3, 3, 3,\n        3, 3, 3, 3, 3, 3, 3, 3, 3, 3, 3, 3, 3, 3, 3, 3, 3, 3, 3, 3, 3, 3,\n        3, 3, 3, 3, 3, 3, 3, 3, 3, 3, 3, 3, 3, 3, 3, 3, 3, 3, 3, 3, 3, 3,\n        3, 3, 3, 3, 3, 3, 3, 3, 3, 3, 3, 3, 3, 3, 3, 3, 3, 3, 3, 3, 3, 3,\n        3, 3, 3, 3, 3, 3, 3, 3, 3, 3, 3, 3, 3, 3, 3, 3, 3, 3, 3, 3, 3, 3,\n        3, 3, 3, 3, 4, 4, 4, 4, 4, 4, 4, 4, 4, 4, 4, 4, 4, 4, 4, 4, 4, 4,\n        4, 4, 4, 4, 4, 4, 4, 4, 4, 4, 4, 4, 4, 4, 4, 4, 4, 4, 4, 4, 4, 4,\n        4, 4, 4, 4, 4, 4, 4, 4, 4, 4, 4, 4, 4, 4, 4, 4, 4, 4, 4, 4, 4, 4,\n        4, 4, 4, 4, 4, 4, 4, 4, 4, 4, 4, 4, 4, 4, 4, 4, 4, 4, 4, 4, 4, 4,\n        4, 4, 4, 4, 4, 4, 4, 4, 4, 4, 4, 4, 4, 4, 4, 4, 5, 5, 5, 5, 5, 5,\n        5, 5, 5, 5, 5, 5, 5, 5, 5, 5, 5, 5, 5, 5, 5, 5, 5, 5, 5, 5, 5, 5,\n        5, 5, 5, 5, 5, 5, 5, 5, 5, 5, 5, 5, 5, 5, 5, 5, 5, 5, 5, 5, 5, 5,\n        5, 5, 5, 5, 5, 5, 5, 5, 5, 5, 5, 5, 5, 5, 5, 5, 5, 5, 5, 5, 5, 5,\n        5, 5, 5, 5, 5, 5, 5, 5, 5, 5, 5, 5, 5, 5, 5, 5, 5, 5, 5, 5, 5, 5,\n        5, 5, 5, 5, 5, 6, 6, 6, 6, 6, 6, 6, 6, 6, 6, 6, 6, 6, 6, 6, 6, 6,\n        6, 6, 6, 6, 6, 6, 6, 6, 6, 6, 6, 6, 6, 6, 6, 6, 6, 6, 6, 6, 6, 6,\n        6, 6, 6, 6, 6, 6, 6, 6, 6, 6, 6, 6, 6, 6, 6, 6, 6, 6, 6, 6, 6, 6,\n        6, 6, 6, 6, 6, 6, 6, 6, 6, 6, 6, 6, 6, 6, 6, 6, 6, 6, 6, 6, 6, 6,\n        6, 6, 6, 6, 6, 6, 6, 6, 6, 6, 6, 6, 6, 6, 6, 6, 6, 7, 7, 7, 7, 7,\n        7, 7, 7, 7, 7, 7, 7, 7, 7, 7, 7, 7, 7, 7, 7, 7, 7, 7, 7, 7, 7, 7,\n        7, 7, 7, 7, 7, 7, 7, 7, 7, 7, 7, 7, 7, 7, 7, 7, 7, 7, 7, 7, 7, 7,\n        7, 7, 7, 7, 7, 7, 7, 7, 7, 7, 7, 7, 7, 7, 7, 7, 7, 7, 7, 7, 7, 7,\n        7, 7, 7, 7, 7, 7, 7, 7, 7, 7, 7, 7, 7, 7, 7, 7, 7, 7, 7, 7, 7, 7,\n        7, 7, 7, 7, 7, 7, 7, 8, 8, 8, 8, 8, 8, 8, 8, 8, 8, 8, 8, 8, 8, 8,\n        8, 8, 8, 8, 8, 8, 8, 8, 8, 8, 8, 8, 8, 8, 8, 8, 8, 8, 8, 8, 8, 8,\n        8, 8, 8, 8, 8, 8, 8, 8, 8, 8, 8, 8, 8, 8, 8, 8, 8, 8, 8, 8, 8, 8,\n        8, 8, 8, 8, 8, 8, 8, 8, 8, 8, 8, 8, 8, 8, 8, 8, 8, 8, 8, 8, 8, 8,\n        8, 8, 8, 8, 8, 8, 8, 8, 8, 8, 8, 8, 8, 8, 8, 8, 8, 8, 8, 9, 9, 9,\n        9, 9, 9, 9, 9, 9, 9, 9, 9, 9, 9, 9, 9, 9, 9, 9, 9, 9, 9, 9, 9, 9,\n        9, 9, 9, 9, 9, 9, 9, 9, 9, 9, 9, 9, 9, 9, 9, 9, 9, 9, 9, 9, 9, 9,\n        9, 9, 9, 9, 9, 9, 9, 9, 9, 9, 9, 9, 9, 9, 9, 9, 9, 9, 9, 9, 9, 9,\n        9, 9, 9, 9, 9, 9, 9, 9, 9, 9, 9, 9, 9, 9, 9, 9, 9, 9, 9, 9, 9, 9,\n        9, 9, 9, 9, 9, 9, 9, 9, 9]),\n 'filenames': ['blues.00093.wav',\n  'blues.00087.wav',\n  'blues.00050.wav',\n  'blues.00044.wav',\n  'blues.00078.wav',\n  'blues.00079.wav',\n  'blues.00045.wav',\n  'blues.00051.wav',\n  'blues.00086.wav',\n  'blues.00092.wav',\n  'blues.00084.wav',\n  'blues.00090.wav',\n  'blues.00047.wav',\n  'blues.00053.wav',\n  'blues.00052.wav',\n  'blues.00046.wav',\n  'blues.00091.wav',\n  'blues.00085.wav',\n  'blues.00081.wav',\n  'blues.00095.wav',\n  'blues.00042.wav',\n  'blues.00056.wav',\n  'blues.00057.wav',\n  'blues.00043.wav',\n  'blues.00094.wav',\n  'blues.00080.wav',\n  'blues.00096.wav',\n  'blues.00082.wav',\n  'blues.00069.wav',\n  'blues.00055.wav',\n  'blues.00041.wav',\n  'blues.00040.wav',\n  'blues.00054.wav',\n  'blues.00068.wav',\n  'blues.00083.wav',\n  'blues.00097.wav',\n  'blues.00033.wav',\n  'blues.00027.wav',\n  'blues.00026.wav',\n  'blues.00032.wav',\n  'blues.00024.wav',\n  'blues.00030.wav',\n  'blues.00018.wav',\n  'blues.00019.wav',\n  'blues.00031.wav',\n  'blues.00025.wav',\n  'blues.00009.wav',\n  'blues.00021.wav',\n  'blues.00035.wav',\n  'blues.00034.wav',\n  'blues.00020.wav',\n  'blues.00008.wav',\n  'blues.00036.wav',\n  'blues.00022.wav',\n  'blues.00023.wav',\n  'blues.00037.wav',\n  'blues.00012.wav',\n  'blues.00006.wav',\n  'blues.00007.wav',\n  'blues.00013.wav',\n  'blues.00005.wav',\n  'blues.00011.wav',\n  'blues.00039.wav',\n  'blues.00038.wav',\n  'blues.00010.wav',\n  'blues.00004.wav',\n  'blues.00028.wav',\n  'blues.00000.wav',\n  'blues.00014.wav',\n  'blues.00015.wav',\n  'blues.00001.wav',\n  'blues.00029.wav',\n  'blues.00017.wav',\n  'blues.00003.wav',\n  'blues.00002.wav',\n  'blues.00016.wav',\n  'blues.00071.wav',\n  'blues.00065.wav',\n  'blues.00059.wav',\n  'blues.00058.wav',\n  'blues.00064.wav',\n  'blues.00070.wav',\n  'blues.00099.wav',\n  'blues.00066.wav',\n  'blues.00072.wav',\n  'blues.00073.wav',\n  'blues.00067.wav',\n  'blues.00098.wav',\n  'blues.00088.wav',\n  'blues.00063.wav',\n  'blues.00077.wav',\n  'blues.00076.wav',\n  'blues.00062.wav',\n  'blues.00089.wav',\n  'blues.00048.wav',\n  'blues.00074.wav',\n  'blues.00060.wav',\n  'blues.00061.wav',\n  'blues.00075.wav',\n  'blues.00049.wav',\n  'classical.00079.wav',\n  'classical.00045.wav',\n  'classical.00051.wav',\n  'classical.00086.wav',\n  'classical.00092.wav',\n  'classical.00093.wav',\n  'classical.00087.wav',\n  'classical.00050.wav',\n  'classical.00044.wav',\n  'classical.00078.wav',\n  'classical.00052.wav',\n  'classical.00046.wav',\n  'classical.00091.wav',\n  'classical.00085.wav',\n  'classical.00084.wav',\n  'classical.00090.wav',\n  'classical.00047.wav',\n  'classical.00053.wav',\n  'classical.00057.wav',\n  'classical.00043.wav',\n  'classical.00094.wav',\n  'classical.00080.wav',\n  'classical.00081.wav',\n  'classical.00095.wav',\n  'classical.00042.wav',\n  'classical.00056.wav',\n  'classical.00040.wav',\n  'classical.00054.wav',\n  'classical.00068.wav',\n  'classical.00083.wav',\n  'classical.00097.wav',\n  'classical.00096.wav',\n  'classical.00082.wav',\n  'classical.00069.wav',\n  'classical.00055.wav',\n  'classical.00041.wav',\n  'classical.00026.wav',\n  'classical.00032.wav',\n  'classical.00033.wav',\n  'classical.00027.wav',\n  'classical.00019.wav',\n  'classical.00031.wav',\n  'classical.00025.wav',\n  'classical.00024.wav',\n  'classical.00030.wav',\n  'classical.00018.wav',\n  'classical.00034.wav',\n  'classical.00020.wav',\n  'classical.00008.wav',\n  'classical.00009.wav',\n  'classical.00021.wav',\n  'classical.00035.wav',\n  'classical.00023.wav',\n  'classical.00037.wav',\n  'classical.00036.wav',\n  'classical.00022.wav',\n  'classical.00007.wav',\n  'classical.00013.wav',\n  'classical.00012.wav',\n  'classical.00006.wav',\n  'classical.00038.wav',\n  'classical.00010.wav',\n  'classical.00004.wav',\n  'classical.00005.wav',\n  'classical.00011.wav',\n  'classical.00039.wav',\n  'classical.00015.wav',\n  'classical.00001.wav',\n  'classical.00029.wav',\n  'classical.00028.wav',\n  'classical.00000.wav',\n  'classical.00014.wav',\n  'classical.00002.wav',\n  'classical.00016.wav',\n  'classical.00017.wav',\n  'classical.00003.wav',\n  'classical.00058.wav',\n  'classical.00064.wav',\n  'classical.00070.wav',\n  'classical.00071.wav',\n  'classical.00065.wav',\n  'classical.00059.wav',\n  'classical.00073.wav',\n  'classical.00067.wav',\n  'classical.00098.wav',\n  'classical.00099.wav',\n  'classical.00066.wav',\n  'classical.00072.wav',\n  'classical.00076.wav',\n  'classical.00062.wav',\n  'classical.00089.wav',\n  'classical.00088.wav',\n  'classical.00063.wav',\n  'classical.00077.wav',\n  'classical.00061.wav',\n  'classical.00075.wav',\n  'classical.00049.wav',\n  'classical.00048.wav',\n  'classical.00074.wav',\n  'classical.00060.wav',\n  'country.00088.wav',\n  'country.00063.wav',\n  'country.00077.wav',\n  'country.00076.wav',\n  'country.00062.wav',\n  'country.00089.wav',\n  'country.00048.wav',\n  'country.00074.wav',\n  'country.00060.wav',\n  'country.00061.wav',\n  'country.00075.wav',\n  'country.00049.wav',\n  'country.00071.wav',\n  'country.00065.wav',\n  'country.00059.wav',\n  'country.00058.wav',\n  'country.00064.wav',\n  'country.00070.wav',\n  'country.00099.wav',\n  'country.00066.wav',\n  'country.00072.wav',\n  'country.00073.wav',\n  'country.00067.wav',\n  'country.00098.wav',\n  'country.00028.wav',\n  'country.00000.wav',\n  'country.00014.wav',\n  'country.00015.wav',\n  'country.00001.wav',\n  'country.00029.wav',\n  'country.00017.wav',\n  'country.00003.wav',\n  'country.00002.wav',\n  'country.00016.wav',\n  'country.00012.wav',\n  'country.00006.wav',\n  'country.00007.wav',\n  'country.00013.wav',\n  'country.00005.wav',\n  'country.00011.wav',\n  'country.00039.wav',\n  'country.00038.wav',\n  'country.00010.wav',\n  'country.00004.wav',\n  'country.00009.wav',\n  'country.00021.wav',\n  'country.00035.wav',\n  'country.00034.wav',\n  'country.00020.wav',\n  'country.00008.wav',\n  'country.00036.wav',\n  'country.00022.wav',\n  'country.00023.wav',\n  'country.00037.wav',\n  'country.00033.wav',\n  'country.00027.wav',\n  'country.00026.wav',\n  'country.00032.wav',\n  'country.00024.wav',\n  'country.00030.wav',\n  'country.00018.wav',\n  'country.00019.wav',\n  'country.00031.wav',\n  'country.00025.wav',\n  'country.00081.wav',\n  'country.00095.wav',\n  'country.00042.wav',\n  'country.00056.wav',\n  'country.00057.wav',\n  'country.00043.wav',\n  'country.00094.wav',\n  'country.00080.wav',\n  'country.00096.wav',\n  'country.00082.wav',\n  'country.00069.wav',\n  'country.00055.wav',\n  'country.00041.wav',\n  'country.00040.wav',\n  'country.00054.wav',\n  'country.00068.wav',\n  'country.00083.wav',\n  'country.00097.wav',\n  'country.00093.wav',\n  'country.00087.wav',\n  'country.00050.wav',\n  'country.00044.wav',\n  'country.00078.wav',\n  'country.00079.wav',\n  'country.00045.wav',\n  'country.00051.wav',\n  'country.00086.wav',\n  'country.00092.wav',\n  'country.00084.wav',\n  'country.00090.wav',\n  'country.00047.wav',\n  'country.00053.wav',\n  'country.00052.wav',\n  'country.00046.wav',\n  'country.00091.wav',\n  'country.00085.wav',\n  'disco.00052.wav',\n  'disco.00046.wav',\n  'disco.00091.wav',\n  'disco.00085.wav',\n  'disco.00084.wav',\n  'disco.00090.wav',\n  'disco.00047.wav',\n  'disco.00053.wav',\n  'disco.00045.wav',\n  'disco.00051.wav',\n  'disco.00079.wav',\n  'disco.00086.wav',\n  'disco.00092.wav',\n  'disco.00093.wav',\n  'disco.00087.wav',\n  'disco.00078.wav',\n  'disco.00050.wav',\n  'disco.00044.wav',\n  'disco.00068.wav',\n  'disco.00040.wav',\n  'disco.00054.wav',\n  'disco.00083.wav',\n  'disco.00097.wav',\n  'disco.00096.wav',\n  'disco.00082.wav',\n  'disco.00055.wav',\n  'disco.00041.wav',\n  'disco.00069.wav',\n  'disco.00057.wav',\n  'disco.00043.wav',\n  'disco.00094.wav',\n  'disco.00080.wav',\n  'disco.00081.wav',\n  'disco.00095.wav',\n  'disco.00042.wav',\n  'disco.00056.wav',\n  'disco.00031.wav',\n  'disco.00025.wav',\n  'disco.00019.wav',\n  'disco.00018.wav',\n  'disco.00024.wav',\n  'disco.00030.wav',\n  'disco.00026.wav',\n  'disco.00032.wav',\n  'disco.00033.wav',\n  'disco.00027.wav',\n  'disco.00023.wav',\n  'disco.00037.wav',\n  'disco.00036.wav',\n  'disco.00022.wav',\n  'disco.00008.wav',\n  'disco.00034.wav',\n  'disco.00020.wav',\n  'disco.00021.wav',\n  'disco.00035.wav',\n  'disco.00009.wav',\n  'disco.00010.wav',\n  'disco.00004.wav',\n  'disco.00038.wav',\n  'disco.00039.wav',\n  'disco.00005.wav',\n  'disco.00011.wav',\n  'disco.00007.wav',\n  'disco.00013.wav',\n  'disco.00012.wav',\n  'disco.00006.wav',\n  'disco.00002.wav',\n  'disco.00016.wav',\n  'disco.00017.wav',\n  'disco.00003.wav',\n  'disco.00029.wav',\n  'disco.00015.wav',\n  'disco.00001.wav',\n  'disco.00000.wav',\n  'disco.00014.wav',\n  'disco.00028.wav',\n  'disco.00073.wav',\n  'disco.00067.wav',\n  'disco.00098.wav',\n  'disco.00099.wav',\n  'disco.00066.wav',\n  'disco.00072.wav',\n  'disco.00064.wav',\n  'disco.00070.wav',\n  'disco.00058.wav',\n  'disco.00059.wav',\n  'disco.00071.wav',\n  'disco.00065.wav',\n  'disco.00049.wav',\n  'disco.00061.wav',\n  'disco.00075.wav',\n  'disco.00074.wav',\n  'disco.00060.wav',\n  'disco.00048.wav',\n  'disco.00076.wav',\n  'disco.00062.wav',\n  'disco.00089.wav',\n  'disco.00088.wav',\n  'disco.00063.wav',\n  'disco.00077.wav',\n  'hiphop.00022.wav',\n  'hiphop.00036.wav',\n  'hiphop.00037.wav',\n  'hiphop.00023.wav',\n  'hiphop.00009.wav',\n  'hiphop.00035.wav',\n  'hiphop.00021.wav',\n  'hiphop.00020.wav',\n  'hiphop.00034.wav',\n  'hiphop.00008.wav',\n  'hiphop.00030.wav',\n  'hiphop.00024.wav',\n  'hiphop.00018.wav',\n  'hiphop.00019.wav',\n  'hiphop.00025.wav',\n  'hiphop.00031.wav',\n  'hiphop.00027.wav',\n  'hiphop.00033.wav',\n  'hiphop.00032.wav',\n  'hiphop.00026.wav',\n  'hiphop.00069.wav',\n  'hiphop.00041.wav',\n  'hiphop.00055.wav',\n  'hiphop.00082.wav',\n  'hiphop.00096.wav',\n  'hiphop.00097.wav',\n  'hiphop.00083.wav',\n  'hiphop.00054.wav',\n  'hiphop.00040.wav',\n  'hiphop.00068.wav',\n  'hiphop.00056.wav',\n  'hiphop.00042.wav',\n  'hiphop.00095.wav',\n  'hiphop.00081.wav',\n  'hiphop.00080.wav',\n  'hiphop.00094.wav',\n  'hiphop.00043.wav',\n  'hiphop.00057.wav',\n  'hiphop.00053.wav',\n  'hiphop.00047.wav',\n  'hiphop.00090.wav',\n  'hiphop.00084.wav',\n  'hiphop.00085.wav',\n  'hiphop.00091.wav',\n  'hiphop.00046.wav',\n  'hiphop.00052.wav',\n  'hiphop.00044.wav',\n  'hiphop.00050.wav',\n  'hiphop.00078.wav',\n  'hiphop.00087.wav',\n  'hiphop.00093.wav',\n  'hiphop.00092.wav',\n  'hiphop.00086.wav',\n  'hiphop.00079.wav',\n  'hiphop.00051.wav',\n  'hiphop.00045.wav',\n  'hiphop.00048.wav',\n  'hiphop.00060.wav',\n  'hiphop.00074.wav',\n  'hiphop.00075.wav',\n  'hiphop.00061.wav',\n  'hiphop.00049.wav',\n  'hiphop.00077.wav',\n  'hiphop.00063.wav',\n  'hiphop.00088.wav',\n  'hiphop.00089.wav',\n  'hiphop.00062.wav',\n  'hiphop.00076.wav',\n  'hiphop.00072.wav',\n  'hiphop.00066.wav',\n  'hiphop.00099.wav',\n  'hiphop.00098.wav',\n  'hiphop.00067.wav',\n  'hiphop.00073.wav',\n  'hiphop.00065.wav',\n  'hiphop.00071.wav',\n  'hiphop.00059.wav',\n  'hiphop.00058.wav',\n  'hiphop.00070.wav',\n  'hiphop.00064.wav',\n  'hiphop.00003.wav',\n  'hiphop.00017.wav',\n  'hiphop.00016.wav',\n  'hiphop.00002.wav',\n  'hiphop.00028.wav',\n  'hiphop.00014.wav',\n  'hiphop.00000.wav',\n  'hiphop.00001.wav',\n  'hiphop.00015.wav',\n  'hiphop.00029.wav',\n  'hiphop.00011.wav',\n  'hiphop.00005.wav',\n  'hiphop.00039.wav',\n  'hiphop.00038.wav',\n  'hiphop.00004.wav',\n  'hiphop.00010.wav',\n  'hiphop.00006.wav',\n  'hiphop.00012.wav',\n  'hiphop.00013.wav',\n  'hiphop.00007.wav',\n  'jazz.00016.wav',\n  'jazz.00002.wav',\n  'jazz.00003.wav',\n  'jazz.00017.wav',\n  'jazz.00001.wav',\n  'jazz.00015.wav',\n  'jazz.00029.wav',\n  'jazz.00028.wav',\n  'jazz.00014.wav',\n  'jazz.00000.wav',\n  'jazz.00038.wav',\n  'jazz.00004.wav',\n  'jazz.00010.wav',\n  'jazz.00011.wav',\n  'jazz.00005.wav',\n  'jazz.00039.wav',\n  'jazz.00013.wav',\n  'jazz.00007.wav',\n  'jazz.00006.wav',\n  'jazz.00012.wav',\n  'jazz.00075.wav',\n  'jazz.00061.wav',\n  'jazz.00049.wav',\n  'jazz.00048.wav',\n  'jazz.00060.wav',\n  'jazz.00074.wav',\n  'jazz.00062.wav',\n  'jazz.00076.wav',\n  'jazz.00089.wav',\n  'jazz.00088.wav',\n  'jazz.00077.wav',\n  'jazz.00063.wav',\n  'jazz.00067.wav',\n  'jazz.00073.wav',\n  'jazz.00098.wav',\n  'jazz.00099.wav',\n  'jazz.00072.wav',\n  'jazz.00066.wav',\n  'jazz.00058.wav',\n  'jazz.00070.wav',\n  'jazz.00064.wav',\n  'jazz.00065.wav',\n  'jazz.00071.wav',\n  'jazz.00059.wav',\n  'jazz.00040.wav',\n  'jazz.00068.wav',\n  'jazz.00097.wav',\n  'jazz.00083.wav',\n  'jazz.00082.wav',\n  'jazz.00096.wav',\n  'jazz.00069.wav',\n  'jazz.00041.wav',\n  'jazz.00055.wav',\n  'jazz.00043.wav',\n  'jazz.00057.wav',\n  'jazz.00080.wav',\n  'jazz.00094.wav',\n  'jazz.00095.wav',\n  'jazz.00081.wav',\n  'jazz.00056.wav',\n  'jazz.00042.wav',\n  'jazz.00046.wav',\n  'jazz.00052.wav',\n  'jazz.00085.wav',\n  'jazz.00091.wav',\n  'jazz.00090.wav',\n  'jazz.00084.wav',\n  'jazz.00053.wav',\n  'jazz.00047.wav',\n  'jazz.00079.wav',\n  'jazz.00051.wav',\n  'jazz.00045.wav',\n  'jazz.00092.wav',\n  'jazz.00086.wav',\n  'jazz.00087.wav',\n  'jazz.00093.wav',\n  'jazz.00044.wav',\n  'jazz.00050.wav',\n  'jazz.00078.wav',\n  'jazz.00037.wav',\n  'jazz.00023.wav',\n  'jazz.00022.wav',\n  'jazz.00036.wav',\n  'jazz.00020.wav',\n  'jazz.00034.wav',\n  'jazz.00008.wav',\n  'jazz.00009.wav',\n  'jazz.00035.wav',\n  'jazz.00021.wav',\n  'jazz.00019.wav',\n  'jazz.00025.wav',\n  'jazz.00031.wav',\n  'jazz.00030.wav',\n  'jazz.00024.wav',\n  'jazz.00018.wav',\n  'jazz.00032.wav',\n  'jazz.00026.wav',\n  'jazz.00027.wav',\n  'jazz.00033.wav',\n  'metal.00022.wav',\n  'metal.00036.wav',\n  'metal.00037.wav',\n  'metal.00023.wav',\n  'metal.00009.wav',\n  'metal.00035.wav',\n  'metal.00021.wav',\n  'metal.00020.wav',\n  'metal.00034.wav',\n  'metal.00008.wav',\n  'metal.00030.wav',\n  'metal.00024.wav',\n  'metal.00018.wav',\n  'metal.00019.wav',\n  'metal.00025.wav',\n  'metal.00031.wav',\n  'metal.00027.wav',\n  'metal.00033.wav',\n  'metal.00032.wav',\n  'metal.00026.wav',\n  'metal.00082.wav',\n  'metal.00096.wav',\n  'metal.00069.wav',\n  'metal.00041.wav',\n  'metal.00055.wav',\n  'metal.00054.wav',\n  'metal.00040.wav',\n  'metal.00068.wav',\n  'metal.00097.wav',\n  'metal.00083.wav',\n  'metal.00095.wav',\n  'metal.00081.wav',\n  'metal.00056.wav',\n  'metal.00042.wav',\n  'metal.00043.wav',\n  'metal.00057.wav',\n  'metal.00080.wav',\n  'metal.00094.wav',\n  'metal.00090.wav',\n  'metal.00084.wav',\n  'metal.00053.wav',\n  'metal.00047.wav',\n  'metal.00046.wav',\n  'metal.00052.wav',\n  'metal.00085.wav',\n  'metal.00091.wav',\n  'metal.00087.wav',\n  'metal.00093.wav',\n  'metal.00044.wav',\n  'metal.00050.wav',\n  'metal.00078.wav',\n  'metal.00079.wav',\n  'metal.00051.wav',\n  'metal.00045.wav',\n  'metal.00092.wav',\n  'metal.00086.wav',\n  'metal.00048.wav',\n  'metal.00060.wav',\n  'metal.00074.wav',\n  'metal.00075.wav',\n  'metal.00061.wav',\n  'metal.00049.wav',\n  'metal.00088.wav',\n  'metal.00077.wav',\n  'metal.00063.wav',\n  'metal.00062.wav',\n  'metal.00076.wav',\n  'metal.00089.wav',\n  'metal.00099.wav',\n  'metal.00072.wav',\n  'metal.00066.wav',\n  'metal.00067.wav',\n  'metal.00073.wav',\n  'metal.00098.wav',\n  'metal.00065.wav',\n  'metal.00071.wav',\n  'metal.00059.wav',\n  'metal.00058.wav',\n  'metal.00070.wav',\n  'metal.00064.wav',\n  'metal.00003.wav',\n  'metal.00017.wav',\n  'metal.00016.wav',\n  'metal.00002.wav',\n  'metal.00028.wav',\n  'metal.00014.wav',\n  'metal.00000.wav',\n  'metal.00001.wav',\n  'metal.00015.wav',\n  'metal.00029.wav',\n  'metal.00011.wav',\n  'metal.00005.wav',\n  'metal.00039.wav',\n  'metal.00038.wav',\n  'metal.00004.wav',\n  'metal.00010.wav',\n  'metal.00006.wav',\n  'metal.00012.wav',\n  'metal.00013.wav',\n  'metal.00007.wav',\n  'pop.00027.wav',\n  'pop.00033.wav',\n  'pop.00032.wav',\n  'pop.00026.wav',\n  'pop.00030.wav',\n  'pop.00024.wav',\n  'pop.00018.wav',\n  'pop.00019.wav',\n  'pop.00025.wav',\n  'pop.00031.wav',\n  'pop.00009.wav',\n  'pop.00035.wav',\n  'pop.00021.wav',\n  'pop.00020.wav',\n  'pop.00034.wav',\n  'pop.00008.wav',\n  'pop.00022.wav',\n  'pop.00036.wav',\n  'pop.00037.wav',\n  'pop.00023.wav',\n  'pop.00044.wav',\n  'pop.00050.wav',\n  'pop.00078.wav',\n  'pop.00087.wav',\n  'pop.00093.wav',\n  'pop.00092.wav',\n  'pop.00086.wav',\n  'pop.00079.wav',\n  'pop.00051.wav',\n  'pop.00045.wav',\n  'pop.00053.wav',\n  'pop.00047.wav',\n  'pop.00090.wav',\n  'pop.00084.wav',\n  'pop.00085.wav',\n  'pop.00091.wav',\n  'pop.00046.wav',\n  'pop.00052.wav',\n  'pop.00056.wav',\n  'pop.00042.wav',\n  'pop.00095.wav',\n  'pop.00081.wav',\n  'pop.00080.wav',\n  'pop.00094.wav',\n  'pop.00043.wav',\n  'pop.00057.wav',\n  'pop.00069.wav',\n  'pop.00041.wav',\n  'pop.00055.wav',\n  'pop.00082.wav',\n  'pop.00096.wav',\n  'pop.00097.wav',\n  'pop.00083.wav',\n  'pop.00054.wav',\n  'pop.00040.wav',\n  'pop.00068.wav',\n  'pop.00065.wav',\n  'pop.00071.wav',\n  'pop.00059.wav',\n  'pop.00058.wav',\n  'pop.00070.wav',\n  'pop.00064.wav',\n  'pop.00072.wav',\n  'pop.00066.wav',\n  'pop.00099.wav',\n  'pop.00098.wav',\n  'pop.00067.wav',\n  'pop.00073.wav',\n  'pop.00077.wav',\n  'pop.00063.wav',\n  'pop.00088.wav',\n  'pop.00089.wav',\n  'pop.00062.wav',\n  'pop.00076.wav',\n  'pop.00048.wav',\n  'pop.00060.wav',\n  'pop.00074.wav',\n  'pop.00075.wav',\n  'pop.00061.wav',\n  'pop.00049.wav',\n  'pop.00006.wav',\n  'pop.00012.wav',\n  'pop.00013.wav',\n  'pop.00007.wav',\n  'pop.00011.wav',\n  'pop.00005.wav',\n  'pop.00039.wav',\n  'pop.00038.wav',\n  'pop.00004.wav',\n  'pop.00010.wav',\n  'pop.00028.wav',\n  'pop.00014.wav',\n  'pop.00000.wav',\n  'pop.00001.wav',\n  'pop.00015.wav',\n  'pop.00029.wav',\n  'pop.00003.wav',\n  'pop.00017.wav',\n  'pop.00016.wav',\n  'pop.00002.wav',\n  'reggae.00080.wav',\n  'reggae.00094.wav',\n  'reggae.00043.wav',\n  'reggae.00057.wav',\n  'reggae.00056.wav',\n  'reggae.00042.wav',\n  'reggae.00095.wav',\n  'reggae.00081.wav',\n  'reggae.00097.wav',\n  'reggae.00083.wav',\n  'reggae.00054.wav',\n  'reggae.00040.wav',\n  'reggae.00068.wav',\n  'reggae.00069.wav',\n  'reggae.00041.wav',\n  'reggae.00055.wav',\n  'reggae.00082.wav',\n  'reggae.00096.wav',\n  'reggae.00092.wav',\n  'reggae.00086.wav',\n  'reggae.00079.wav',\n  'reggae.00051.wav',\n  'reggae.00045.wav',\n  'reggae.00044.wav',\n  'reggae.00050.wav',\n  'reggae.00078.wav',\n  'reggae.00087.wav',\n  'reggae.00093.wav',\n  'reggae.00085.wav',\n  'reggae.00091.wav',\n  'reggae.00046.wav',\n  'reggae.00052.wav',\n  'reggae.00053.wav',\n  'reggae.00047.wav',\n  'reggae.00090.wav',\n  'reggae.00084.wav',\n  'reggae.00020.wav',\n  'reggae.00034.wav',\n  'reggae.00008.wav',\n  'reggae.00009.wav',\n  'reggae.00035.wav',\n  'reggae.00021.wav',\n  'reggae.00037.wav',\n  'reggae.00023.wav',\n  'reggae.00022.wav',\n  'reggae.00036.wav',\n  'reggae.00032.wav',\n  'reggae.00026.wav',\n  'reggae.00027.wav',\n  'reggae.00033.wav',\n  'reggae.00019.wav',\n  'reggae.00025.wav',\n  'reggae.00031.wav',\n  'reggae.00030.wav',\n  'reggae.00024.wav',\n  'reggae.00018.wav',\n  'reggae.00001.wav',\n  'reggae.00015.wav',\n  'reggae.00029.wav',\n  'reggae.00028.wav',\n  'reggae.00014.wav',\n  'reggae.00000.wav',\n  'reggae.00016.wav',\n  'reggae.00002.wav',\n  'reggae.00003.wav',\n  'reggae.00017.wav',\n  'reggae.00013.wav',\n  'reggae.00007.wav',\n  'reggae.00006.wav',\n  'reggae.00012.wav',\n  'reggae.00038.wav',\n  'reggae.00004.wav',\n  'reggae.00010.wav',\n  'reggae.00011.wav',\n  'reggae.00005.wav',\n  'reggae.00039.wav',\n  'reggae.00089.wav',\n  'reggae.00062.wav',\n  'reggae.00076.wav',\n  'reggae.00077.wav',\n  'reggae.00063.wav',\n  'reggae.00088.wav',\n  'reggae.00075.wav',\n  'reggae.00061.wav',\n  'reggae.00049.wav',\n  'reggae.00048.wav',\n  'reggae.00060.wav',\n  'reggae.00074.wav',\n  'reggae.00058.wav',\n  'reggae.00070.wav',\n  'reggae.00064.wav',\n  'reggae.00065.wav',\n  'reggae.00071.wav',\n  'reggae.00059.wav',\n  'reggae.00098.wav',\n  'reggae.00067.wav',\n  'reggae.00073.wav',\n  'reggae.00072.wav',\n  'reggae.00066.wav',\n  'reggae.00099.wav',\n  'rock.00011.wav',\n  'rock.00005.wav',\n  'rock.00039.wav',\n  'rock.00038.wav',\n  'rock.00004.wav',\n  'rock.00010.wav',\n  'rock.00006.wav',\n  'rock.00012.wav',\n  'rock.00013.wav',\n  'rock.00007.wav',\n  'rock.00003.wav',\n  'rock.00017.wav',\n  'rock.00016.wav',\n  'rock.00002.wav',\n  'rock.00028.wav',\n  'rock.00014.wav',\n  'rock.00000.wav',\n  'rock.00001.wav',\n  'rock.00015.wav',\n  'rock.00029.wav',\n  'rock.00099.wav',\n  'rock.00072.wav',\n  'rock.00066.wav',\n  'rock.00067.wav',\n  'rock.00073.wav',\n  'rock.00098.wav',\n  'rock.00065.wav',\n  'rock.00071.wav',\n  'rock.00059.wav',\n  'rock.00058.wav',\n  'rock.00070.wav',\n  'rock.00064.wav',\n  'rock.00048.wav',\n  'rock.00060.wav',\n  'rock.00074.wav',\n  'rock.00075.wav',\n  'rock.00061.wav',\n  'rock.00049.wav',\n  'rock.00088.wav',\n  'rock.00077.wav',\n  'rock.00063.wav',\n  'rock.00062.wav',\n  'rock.00076.wav',\n  'rock.00089.wav',\n  'rock.00090.wav',\n  'rock.00084.wav',\n  'rock.00053.wav',\n  'rock.00047.wav',\n  'rock.00046.wav',\n  'rock.00052.wav',\n  'rock.00085.wav',\n  'rock.00091.wav',\n  'rock.00087.wav',\n  'rock.00093.wav',\n  'rock.00044.wav',\n  'rock.00050.wav',\n  'rock.00078.wav',\n  'rock.00079.wav',\n  'rock.00051.wav',\n  'rock.00045.wav',\n  'rock.00092.wav',\n  'rock.00086.wav',\n  'rock.00082.wav',\n  'rock.00096.wav',\n  'rock.00069.wav',\n  'rock.00041.wav',\n  'rock.00055.wav',\n  'rock.00054.wav',\n  'rock.00040.wav',\n  'rock.00068.wav',\n  'rock.00097.wav',\n  'rock.00083.wav',\n  'rock.00095.wav',\n  'rock.00081.wav',\n  'rock.00056.wav',\n  'rock.00042.wav',\n  'rock.00043.wav',\n  'rock.00057.wav',\n  'rock.00080.wav',\n  'rock.00094.wav',\n  'rock.00030.wav',\n  'rock.00024.wav',\n  'rock.00018.wav',\n  'rock.00019.wav',\n  'rock.00025.wav',\n  'rock.00031.wav',\n  'rock.00027.wav',\n  'rock.00033.wav',\n  'rock.00032.wav',\n  'rock.00026.wav',\n  'rock.00022.wav',\n  'rock.00036.wav',\n  'rock.00037.wav',\n  'rock.00023.wav',\n  'rock.00009.wav',\n  'rock.00035.wav',\n  'rock.00021.wav',\n  'rock.00020.wav',\n  'rock.00034.wav',\n  'rock.00008.wav']}"
     },
     "execution_count": 66,
     "metadata": {},
     "output_type": "execute_result"
    }
   ],
   "source": [
    "data = load_data()\n",
    "data\n"
   ],
   "metadata": {
    "collapsed": false,
    "ExecuteTime": {
     "end_time": "2023-05-27T17:39:54.206685Z",
     "start_time": "2023-05-27T17:39:54.141206Z"
    }
   }
  },
  {
   "cell_type": "code",
   "execution_count": 67,
   "outputs": [
    {
     "name": "stdout",
     "output_type": "stream",
     "text": [
      "32/32 [==============================] - 3s 4ms/step\n"
     ]
    },
    {
     "data": {
      "text/plain": "array([[0.33666644, 0.11333329, 0.15999992, ..., 0.01666667, 0.07666666,\n        0.07333333],\n       [0.6733328 , 0.00333333, 0.11666662, ..., 0.00666667, 0.07999999,\n        0.06666667],\n       [0.68666613, 0.00333333, 0.03666667, ..., 0.00333333, 0.01333333,\n        0.05333334],\n       ...,\n       [0.06666667, 0.00333333, 0.02333334, ..., 0.        , 0.00333333,\n        0.55666625],\n       [0.03333334, 0.00333333, 0.15333326, ..., 0.04333334, 0.02666667,\n        0.54666626],\n       [0.08666665, 0.00333333, 0.03666667, ..., 0.01      , 0.01      ,\n        0.6166662 ]], dtype=float32)"
     },
     "execution_count": 67,
     "metadata": {},
     "output_type": "execute_result"
    }
   ],
   "source": [
    "embeddings = model.predict(tf.constant(data[\"features\"]))\n",
    "embeddings\n"
   ],
   "metadata": {
    "collapsed": false,
    "ExecuteTime": {
     "end_time": "2023-05-27T17:39:57.204769Z",
     "start_time": "2023-05-27T17:39:54.196374Z"
    }
   }
  },
  {
   "cell_type": "code",
   "execution_count": 68,
   "outputs": [
    {
     "data": {
      "text/plain": "array([[250, 230, 222, 527, 229, 259, 125, 261, 294, 233, 197, 296, 919,\n        127, 262, 234, 274, 252, 216, 585, 306, 958, 224, 213, 206]])"
     },
     "execution_count": 68,
     "metadata": {},
     "output_type": "execute_result"
    }
   ],
   "source": [
    "from sklearn.neighbors import NearestNeighbors\n",
    "knn = NearestNeighbors(n_neighbors=25)\n",
    "knn.fit(embeddings)\n",
    "# select indices of k nearest neighbours\n",
    "neighbours = knn.kneighbors([embeddings[250]], return_distance = False)\n",
    "neighbours"
   ],
   "metadata": {
    "collapsed": false,
    "ExecuteTime": {
     "end_time": "2023-05-27T17:39:57.216601Z",
     "start_time": "2023-05-27T17:39:57.207519Z"
    }
   }
  },
  {
   "cell_type": "code",
   "execution_count": 69,
   "outputs": [
    {
     "name": "stdout",
     "output_type": "stream",
     "text": [
      "country.00036.wav\n",
      "country.00017.wav\n",
      "country.00067.wav\n",
      "jazz.00076.wav\n",
      "country.00029.wav\n",
      "country.00030.wav\n",
      "classical.00056.wav\n",
      "country.00019.wav\n",
      "country.00047.wav\n",
      "country.00016.wav\n",
      "classical.00048.wav\n",
      "country.00052.wav\n",
      "rock.00099.wav\n",
      "classical.00054.wav\n",
      "country.00031.wav\n",
      "country.00012.wav\n",
      "country.00069.wav\n",
      "country.00023.wav\n",
      "country.00064.wav\n",
      "jazz.00008.wav\n",
      "disco.00047.wav\n",
      "rock.00045.wav\n",
      "country.00028.wav\n",
      "country.00065.wav\n",
      "country.00048.wav\n"
     ]
    }
   ],
   "source": [
    "for index in neighbours[0]:\n",
    "    print(data[\"filenames\"][index])\n"
   ],
   "metadata": {
    "collapsed": false,
    "ExecuteTime": {
     "end_time": "2023-05-27T17:39:57.235620Z",
     "start_time": "2023-05-27T17:39:57.217386Z"
    }
   }
  }
 ],
 "metadata": {
  "kernelspec": {
   "display_name": "Python 3",
   "language": "python",
   "name": "python3"
  },
  "language_info": {
   "codemirror_mode": {
    "name": "ipython",
    "version": 2
   },
   "file_extension": ".py",
   "mimetype": "text/x-python",
   "name": "python",
   "nbconvert_exporter": "python",
   "pygments_lexer": "ipython2",
   "version": "2.7.6"
  }
 },
 "nbformat": 4,
 "nbformat_minor": 0
}
