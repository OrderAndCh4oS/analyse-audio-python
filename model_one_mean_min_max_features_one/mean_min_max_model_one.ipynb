{
 "cells": [
  {
   "cell_type": "code",
   "execution_count": 5,
   "metadata": {
    "collapsed": true,
    "ExecuteTime": {
     "end_time": "2023-05-18T10:17:20.632553Z",
     "start_time": "2023-05-18T10:17:20.547429Z"
    }
   },
   "outputs": [],
   "source": [
    "import pickle\n",
    "\n",
    "import librosa.feature\n",
    "import numpy as np\n",
    "\n",
    "import matplotlib.pyplot as plt\n",
    "\n",
    "from keras import Input, Model\n",
    "from keras.layers import Dense, Dropout\n",
    "from keras.losses import SparseCategoricalCrossentropy\n",
    "from keras.metrics import SparseCategoricalAccuracy\n",
    "from keras.optimizers import Adam\n",
    "\n",
    "from utilities.training_plots import plot_sparse_categorical_accuracy, plot_loss"
   ]
  },
  {
   "cell_type": "markdown",
   "source": [
    "## Define Feature Extraction"
   ],
   "metadata": {
    "collapsed": false
   }
  },
  {
   "cell_type": "code",
   "execution_count": 6,
   "outputs": [],
   "source": [
    "\n",
    "def get_mfcc(y, sr):\n",
    "    return np.array(librosa.feature.mfcc(y=y, sr=sr))\n",
    "\n",
    "\n",
    "def get_mel_spectrogram(y, sr):\n",
    "    return np.array(librosa.feature.melspectrogram(y=y, sr=sr))\n",
    "\n",
    "\n",
    "def get_chroma_vector(y, sr):\n",
    "    return np.array(librosa.feature.chroma_stft(y=y, sr=sr))\n",
    "\n",
    "\n",
    "def get_tonnetz(y, sr):\n",
    "    return np.array(librosa.feature.tonnetz(y=y, sr=sr))\n",
    "\n",
    "\n",
    "def get_feature(y, sr):\n",
    "    mfcc = get_mfcc(y, sr)\n",
    "    mfcc_mean = mfcc.mean(axis=1)\n",
    "    mfcc_min = mfcc.min(axis=1)\n",
    "    mfcc_max = mfcc.max(axis=1)\n",
    "    mfcc_feature = np.concatenate((mfcc_mean, mfcc_min, mfcc_max))\n",
    "\n",
    "    mel_spectrogram = get_mel_spectrogram(y, sr)\n",
    "    mel_spectrogram_mean = mel_spectrogram.mean(axis=1)\n",
    "    mel_spectrogram_min = mel_spectrogram.min(axis=1)\n",
    "    mel_spectrogram_max = mel_spectrogram.max(axis=1)\n",
    "    mel_spectrogram_feature = np.concatenate((mel_spectrogram_mean, mel_spectrogram_min, mel_spectrogram_max))\n",
    "\n",
    "    chroma = get_chroma_vector(y, sr)\n",
    "    chroma_mean = chroma.mean(axis=1)\n",
    "    chroma_min = chroma.min(axis=1)\n",
    "    chroma_max = chroma.max(axis=1)\n",
    "    chroma_feature = np.concatenate((chroma_mean, chroma_min, chroma_max))\n",
    "\n",
    "    tonnetz = get_tonnetz(y, sr)\n",
    "    tonnetz_mean = tonnetz.mean(axis=1)\n",
    "    tonnetz_min = tonnetz.min(axis=1)\n",
    "    tonnetz_max = tonnetz.max(axis=1)\n",
    "    tonnetz_feature = np.concatenate((tonnetz_mean, tonnetz_min, tonnetz_max))\n",
    "\n",
    "    return np.concatenate((chroma_feature, mel_spectrogram_feature, mfcc_feature, tonnetz_feature))"
   ],
   "metadata": {
    "collapsed": false,
    "ExecuteTime": {
     "end_time": "2023-05-18T10:17:20.739734Z",
     "start_time": "2023-05-18T10:17:20.565769Z"
    }
   }
  },
  {
   "cell_type": "markdown",
   "source": [
    "## Make Training Data"
   ],
   "metadata": {
    "collapsed": false
   }
  },
  {
   "cell_type": "code",
   "execution_count": 7,
   "outputs": [],
   "source": [
    "def make_training_data():\n",
    "    with open('../pickles/processed_data.pkl', 'rb') as f:\n",
    "        data = pickle.load(f)\n",
    "    xs = []\n",
    "    ys = []\n",
    "    for label, y, sr in data:\n",
    "        xs.append(get_feature(y, sr))\n",
    "        ys.append(label)\n",
    "    xs = np.array(xs)\n",
    "    # ys = tf.one_hot(np.array(ys), 10)\n",
    "    ys = np.array(ys)\n",
    "    print(xs.shape)\n",
    "    print(ys.shape)\n",
    "    permutations = np.random.permutation(999)\n",
    "    features = np.array(xs)[permutations]\n",
    "    labels = np.array(ys)[permutations]\n",
    "    features_train = features[0:700]\n",
    "    labels_train = labels[0:700]\n",
    "    features_validate = features[700:850]\n",
    "    labels_validate = labels[700:850]\n",
    "    features_test = features[850:999]\n",
    "    labels_test = labels[850:999]\n",
    "    data_set = (\n",
    "        (labels_train, features_train),\n",
    "        (labels_validate, features_validate),\n",
    "        (labels_test, features_test)\n",
    "    )\n",
    "    with open('data_set.pkl', 'wb') as f:\n",
    "        pickle.dump(data_set, f)"
   ],
   "metadata": {
    "collapsed": false,
    "ExecuteTime": {
     "end_time": "2023-05-18T10:17:20.741275Z",
     "start_time": "2023-05-18T10:17:20.586961Z"
    }
   }
  },
  {
   "cell_type": "code",
   "execution_count": 8,
   "outputs": [
    {
     "name": "stdout",
     "output_type": "stream",
     "text": [
      "(999, 498)\n",
      "(999,)\n"
     ]
    }
   ],
   "source": [
    "make_training_data()"
   ],
   "metadata": {
    "collapsed": false,
    "ExecuteTime": {
     "end_time": "2023-05-18T10:24:12.525874Z",
     "start_time": "2023-05-18T10:17:20.590740Z"
    }
   }
  },
  {
   "cell_type": "markdown",
   "source": [
    "## Define Training Data Loader"
   ],
   "metadata": {
    "collapsed": false
   }
  },
  {
   "cell_type": "code",
   "execution_count": 9,
   "outputs": [],
   "source": [
    "def load_data():\n",
    "    with open('data_set.pkl', 'rb') as f:\n",
    "        data_set = pickle.load(f)\n",
    "\n",
    "    return data_set"
   ],
   "metadata": {
    "collapsed": false,
    "ExecuteTime": {
     "end_time": "2023-05-18T10:24:12.531648Z",
     "start_time": "2023-05-18T10:24:12.529131Z"
    }
   }
  },
  {
   "cell_type": "markdown",
   "source": [
    "## Define Build Model, Train and Evaluate Model"
   ],
   "metadata": {
    "collapsed": false
   }
  },
  {
   "cell_type": "code",
   "execution_count": 15,
   "outputs": [],
   "source": [
    "def build_model():\n",
    "    inputs = Input(shape=498, name=\"feature\")\n",
    "    x = Dense(512, activation=\"relu\", name=\"dense_1\")(inputs)\n",
    "    x = Dropout(0.1, name=\"dropout_1\")(x)\n",
    "    x = Dense(256, activation=\"relu\", name=\"dense_2\")(x)\n",
    "    x = Dropout(0.1, name=\"dropout_2\")(x)\n",
    "    x = Dense(128, activation=\"relu\", name=\"dense_3\")(x)\n",
    "    outputs = Dense(10, activation=\"softmax\", name=\"predictions\")(x)\n",
    "    model = Model(inputs=inputs, outputs=outputs)\n",
    "    model.compile(\n",
    "        optimizer=Adam(),\n",
    "        loss=SparseCategoricalCrossentropy(),\n",
    "        metrics=[SparseCategoricalAccuracy()],\n",
    "    )\n",
    "\n",
    "    return model\n",
    "\n",
    "\n",
    "def train(model, data_set):\n",
    "    return model.fit(\n",
    "        x=data_set[0][1].tolist(),\n",
    "        y=data_set[0][0].tolist(),\n",
    "        verbose=1,\n",
    "        validation_data=(data_set[1][1].tolist(), data_set[1][0].tolist()),\n",
    "        epochs=30\n",
    "    )\n",
    "\n",
    "\n",
    "def evaluate_model(model, data_set):\n",
    "    return model.evaluate(x=data_set[2][1].tolist(), y=data_set[2][0].tolist(), verbose=0, return_dict=True)\n"
   ],
   "metadata": {
    "collapsed": false,
    "ExecuteTime": {
     "end_time": "2023-05-18T10:26:20.076939Z",
     "start_time": "2023-05-18T10:26:20.057614Z"
    }
   }
  },
  {
   "cell_type": "markdown",
   "source": [
    "## Load Training Data"
   ],
   "metadata": {
    "collapsed": false
   }
  },
  {
   "cell_type": "code",
   "execution_count": 11,
   "outputs": [],
   "source": [
    "data_set = load_data()"
   ],
   "metadata": {
    "collapsed": false,
    "ExecuteTime": {
     "end_time": "2023-05-18T10:24:12.587054Z",
     "start_time": "2023-05-18T10:24:12.542945Z"
    }
   }
  },
  {
   "cell_type": "markdown",
   "source": [
    "## Build Model"
   ],
   "metadata": {
    "collapsed": false
   }
  },
  {
   "cell_type": "code",
   "execution_count": 12,
   "outputs": [
    {
     "name": "stdout",
     "output_type": "stream",
     "text": [
      "Model: \"model\"\n",
      "_________________________________________________________________\n",
      " Layer (type)                Output Shape              Param #   \n",
      "=================================================================\n",
      " feature (InputLayer)        [(None, 498)]             0         \n",
      "                                                                 \n",
      " dense_1 (Dense)             (None, 512)               255488    \n",
      "                                                                 \n",
      " dropout_1 (Dropout)         (None, 512)               0         \n",
      "                                                                 \n",
      " dense_2 (Dense)             (None, 256)               131328    \n",
      "                                                                 \n",
      " dropout_2 (Dropout)         (None, 256)               0         \n",
      "                                                                 \n",
      " dense_3 (Dense)             (None, 128)               32896     \n",
      "                                                                 \n",
      " predictions (Dense)         (None, 10)                1290      \n",
      "                                                                 \n",
      "=================================================================\n",
      "Total params: 421,002\n",
      "Trainable params: 421,002\n",
      "Non-trainable params: 0\n",
      "_________________________________________________________________\n"
     ]
    }
   ],
   "source": [
    "model = build_model()\n",
    "model.summary()"
   ],
   "metadata": {
    "collapsed": false,
    "ExecuteTime": {
     "end_time": "2023-05-18T10:24:12.939631Z",
     "start_time": "2023-05-18T10:24:12.588372Z"
    }
   }
  },
  {
   "cell_type": "markdown",
   "source": [
    "## Train"
   ],
   "metadata": {
    "collapsed": false
   }
  },
  {
   "cell_type": "code",
   "execution_count": 13,
   "outputs": [
    {
     "name": "stdout",
     "output_type": "stream",
     "text": [
      "Epoch 1/30\n",
      "22/22 [==============================] - 1s 23ms/step - loss: 65.3025 - sparse_categorical_accuracy: 0.2286 - val_loss: 23.4969 - val_sparse_categorical_accuracy: 0.2867\n",
      "Epoch 2/30\n",
      "22/22 [==============================] - 0s 5ms/step - loss: 17.7558 - sparse_categorical_accuracy: 0.3471 - val_loss: 11.4345 - val_sparse_categorical_accuracy: 0.3333\n",
      "Epoch 3/30\n",
      "22/22 [==============================] - 0s 5ms/step - loss: 9.7346 - sparse_categorical_accuracy: 0.3929 - val_loss: 6.7830 - val_sparse_categorical_accuracy: 0.3800\n",
      "Epoch 4/30\n",
      "22/22 [==============================] - 0s 5ms/step - loss: 6.7491 - sparse_categorical_accuracy: 0.4329 - val_loss: 5.7821 - val_sparse_categorical_accuracy: 0.3733\n",
      "Epoch 5/30\n",
      "22/22 [==============================] - 0s 5ms/step - loss: 5.0183 - sparse_categorical_accuracy: 0.5014 - val_loss: 5.2941 - val_sparse_categorical_accuracy: 0.4333\n",
      "Epoch 6/30\n",
      "22/22 [==============================] - 0s 6ms/step - loss: 4.5542 - sparse_categorical_accuracy: 0.4786 - val_loss: 5.2952 - val_sparse_categorical_accuracy: 0.3533\n",
      "Epoch 7/30\n",
      "22/22 [==============================] - 0s 5ms/step - loss: 3.6713 - sparse_categorical_accuracy: 0.5286 - val_loss: 4.7944 - val_sparse_categorical_accuracy: 0.3800\n",
      "Epoch 8/30\n",
      "22/22 [==============================] - 0s 5ms/step - loss: 3.1134 - sparse_categorical_accuracy: 0.5343 - val_loss: 4.4721 - val_sparse_categorical_accuracy: 0.4200\n",
      "Epoch 9/30\n",
      "22/22 [==============================] - 0s 5ms/step - loss: 3.1049 - sparse_categorical_accuracy: 0.5700 - val_loss: 7.0489 - val_sparse_categorical_accuracy: 0.4133\n",
      "Epoch 10/30\n",
      "22/22 [==============================] - 0s 5ms/step - loss: 2.9085 - sparse_categorical_accuracy: 0.5543 - val_loss: 4.5259 - val_sparse_categorical_accuracy: 0.3933\n",
      "Epoch 11/30\n",
      "22/22 [==============================] - 0s 5ms/step - loss: 2.2175 - sparse_categorical_accuracy: 0.6429 - val_loss: 3.4832 - val_sparse_categorical_accuracy: 0.5067\n",
      "Epoch 12/30\n",
      "22/22 [==============================] - 0s 5ms/step - loss: 1.9044 - sparse_categorical_accuracy: 0.6114 - val_loss: 3.5158 - val_sparse_categorical_accuracy: 0.4600\n",
      "Epoch 13/30\n",
      "22/22 [==============================] - 0s 5ms/step - loss: 1.7902 - sparse_categorical_accuracy: 0.6343 - val_loss: 3.6654 - val_sparse_categorical_accuracy: 0.4733\n",
      "Epoch 14/30\n",
      "22/22 [==============================] - 0s 5ms/step - loss: 1.9369 - sparse_categorical_accuracy: 0.6514 - val_loss: 3.3028 - val_sparse_categorical_accuracy: 0.4467\n",
      "Epoch 15/30\n",
      "22/22 [==============================] - 0s 5ms/step - loss: 1.4501 - sparse_categorical_accuracy: 0.6729 - val_loss: 2.9199 - val_sparse_categorical_accuracy: 0.4800\n",
      "Epoch 16/30\n",
      "22/22 [==============================] - 0s 5ms/step - loss: 1.1542 - sparse_categorical_accuracy: 0.7371 - val_loss: 3.2869 - val_sparse_categorical_accuracy: 0.4867\n",
      "Epoch 17/30\n",
      "22/22 [==============================] - 0s 5ms/step - loss: 1.1402 - sparse_categorical_accuracy: 0.7443 - val_loss: 2.8515 - val_sparse_categorical_accuracy: 0.5133\n",
      "Epoch 18/30\n",
      "22/22 [==============================] - 0s 5ms/step - loss: 1.0330 - sparse_categorical_accuracy: 0.7429 - val_loss: 3.2675 - val_sparse_categorical_accuracy: 0.5000\n",
      "Epoch 19/30\n",
      "22/22 [==============================] - 0s 5ms/step - loss: 1.1629 - sparse_categorical_accuracy: 0.7571 - val_loss: 3.3700 - val_sparse_categorical_accuracy: 0.4533\n",
      "Epoch 20/30\n",
      "22/22 [==============================] - 0s 5ms/step - loss: 0.8945 - sparse_categorical_accuracy: 0.7757 - val_loss: 3.1314 - val_sparse_categorical_accuracy: 0.5200\n",
      "Epoch 21/30\n",
      "22/22 [==============================] - 0s 5ms/step - loss: 0.8519 - sparse_categorical_accuracy: 0.7743 - val_loss: 3.0332 - val_sparse_categorical_accuracy: 0.5133\n",
      "Epoch 22/30\n",
      "22/22 [==============================] - 0s 5ms/step - loss: 0.8075 - sparse_categorical_accuracy: 0.8071 - val_loss: 3.0253 - val_sparse_categorical_accuracy: 0.5667\n",
      "Epoch 23/30\n",
      "22/22 [==============================] - 0s 5ms/step - loss: 0.8387 - sparse_categorical_accuracy: 0.8043 - val_loss: 3.4705 - val_sparse_categorical_accuracy: 0.5200\n",
      "Epoch 24/30\n",
      "22/22 [==============================] - 0s 5ms/step - loss: 0.8261 - sparse_categorical_accuracy: 0.7929 - val_loss: 3.3041 - val_sparse_categorical_accuracy: 0.4667\n",
      "Epoch 25/30\n",
      "22/22 [==============================] - 0s 5ms/step - loss: 0.6798 - sparse_categorical_accuracy: 0.8229 - val_loss: 3.0658 - val_sparse_categorical_accuracy: 0.5467\n",
      "Epoch 26/30\n",
      "22/22 [==============================] - 0s 5ms/step - loss: 0.5731 - sparse_categorical_accuracy: 0.8557 - val_loss: 2.8890 - val_sparse_categorical_accuracy: 0.5533\n",
      "Epoch 27/30\n",
      "22/22 [==============================] - 0s 5ms/step - loss: 0.5956 - sparse_categorical_accuracy: 0.8586 - val_loss: 2.8581 - val_sparse_categorical_accuracy: 0.5400\n",
      "Epoch 28/30\n",
      "22/22 [==============================] - 0s 5ms/step - loss: 0.4964 - sparse_categorical_accuracy: 0.8657 - val_loss: 3.0371 - val_sparse_categorical_accuracy: 0.5333\n",
      "Epoch 29/30\n",
      "22/22 [==============================] - 0s 5ms/step - loss: 0.4901 - sparse_categorical_accuracy: 0.8871 - val_loss: 2.7770 - val_sparse_categorical_accuracy: 0.5267\n",
      "Epoch 30/30\n",
      "22/22 [==============================] - 0s 5ms/step - loss: 0.5054 - sparse_categorical_accuracy: 0.8700 - val_loss: 2.9550 - val_sparse_categorical_accuracy: 0.5333\n"
     ]
    }
   ],
   "source": [
    "history = train(model, data_set)"
   ],
   "metadata": {
    "collapsed": false,
    "ExecuteTime": {
     "end_time": "2023-05-18T10:24:18.942369Z",
     "start_time": "2023-05-18T10:24:13.153115Z"
    }
   }
  },
  {
   "cell_type": "markdown",
   "source": [
    "## Evaluate"
   ],
   "metadata": {
    "collapsed": false
   }
  },
  {
   "cell_type": "code",
   "execution_count": 16,
   "outputs": [
    {
     "name": "stdout",
     "output_type": "stream",
     "text": [
      "loss: 3.2820\n",
      "sparse_categorical_accuracy: 0.5570\n"
     ]
    }
   ],
   "source": [
    "evaluation = evaluate_model(model, data_set)\n",
    "\n",
    "for name, value in evaluation.items():\n",
    "    print(f\"{name}: {value:.4f}\")"
   ],
   "metadata": {
    "collapsed": false,
    "ExecuteTime": {
     "end_time": "2023-05-18T10:26:27.565934Z",
     "start_time": "2023-05-18T10:26:27.254610Z"
    }
   }
  },
  {
   "cell_type": "markdown",
   "source": [
    "## Plot Accuracy and Loss"
   ],
   "metadata": {
    "collapsed": false
   }
  },
  {
   "cell_type": "code",
   "execution_count": 17,
   "outputs": [
    {
     "data": {
      "text/plain": "<Figure size 640x480 with 1 Axes>",
      "image/png": "[encoded data removed]"
     },
     "metadata": {},
     "output_type": "display_data"
    },
    {
     "data": {
      "text/plain": "<Figure size 640x480 with 1 Axes>",
      "image/png": "[encoded data removed]"
     },
     "metadata": {},
     "output_type": "display_data"
    }
   ],
   "source": [
    "plot_sparse_categorical_accuracy(history)\n",
    "plot_loss(history)\n",
    "# plot_history(history)"
   ],
   "metadata": {
    "collapsed": false,
    "ExecuteTime": {
     "end_time": "2023-05-18T10:26:37.431613Z",
     "start_time": "2023-05-18T10:26:37.010922Z"
    }
   }
  },
  {
   "cell_type": "markdown",
   "source": [
    "## Save Model"
   ],
   "metadata": {
    "collapsed": false
   }
  },
  {
   "cell_type": "code",
   "execution_count": 18,
   "outputs": [
    {
     "name": "stderr",
     "output_type": "stream",
     "text": [
      "2023-05-18 11:26:52.945418: I tensorflow/core/common_runtime/executor.cc:1197] [/device:CPU:0] (DEBUG INFO) Executor start aborting (this does not indicate an error and you can ignore this message): INVALID_ARGUMENT: You must feed a value for placeholder tensor 'inputs' with dtype float and shape [?,512]\n",
      "\t [[{{node inputs}}]]\n",
      "2023-05-18 11:26:52.960791: I tensorflow/core/common_runtime/executor.cc:1197] [/device:CPU:0] (DEBUG INFO) Executor start aborting (this does not indicate an error and you can ignore this message): INVALID_ARGUMENT: You must feed a value for placeholder tensor 'inputs' with dtype float and shape [?,256]\n",
      "\t [[{{node inputs}}]]\n",
      "2023-05-18 11:26:53.228837: I tensorflow/core/common_runtime/executor.cc:1197] [/device:CPU:0] (DEBUG INFO) Executor start aborting (this does not indicate an error and you can ignore this message): INVALID_ARGUMENT: You must feed a value for placeholder tensor 'inputs' with dtype float and shape [?,512]\n",
      "\t [[{{node inputs}}]]\n",
      "2023-05-18 11:26:53.272445: I tensorflow/core/common_runtime/executor.cc:1197] [/device:CPU:0] (DEBUG INFO) Executor start aborting (this does not indicate an error and you can ignore this message): INVALID_ARGUMENT: You must feed a value for placeholder tensor 'inputs' with dtype float and shape [?,256]\n",
      "\t [[{{node inputs}}]]\n"
     ]
    },
    {
     "name": "stdout",
     "output_type": "stream",
     "text": [
      "INFO:tensorflow:Assets written to: ../saved_models/mean_min_max_model_1/assets\n"
     ]
    }
   ],
   "source": [
    "model.save('../saved_models/mean_min_max_model_1')"
   ],
   "metadata": {
    "collapsed": false,
    "ExecuteTime": {
     "end_time": "2023-05-18T10:26:53.769669Z",
     "start_time": "2023-05-18T10:26:52.716473Z"
    }
   }
  },
  {
   "cell_type": "markdown",
   "source": [],
   "metadata": {
    "collapsed": false
   }
  }
 ],
 "metadata": {
  "kernelspec": {
   "display_name": "Python 3",
   "language": "python",
   "name": "python3"
  },
  "language_info": {
   "codemirror_mode": {
    "name": "ipython",
    "version": 2
   },
   "file_extension": ".py",
   "mimetype": "text/x-python",
   "name": "python",
   "nbconvert_exporter": "python",
   "pygments_lexer": "ipython2",
   "version": "2.7.6"
  }
 },
 "nbformat": 4,
 "nbformat_minor": 0
}
