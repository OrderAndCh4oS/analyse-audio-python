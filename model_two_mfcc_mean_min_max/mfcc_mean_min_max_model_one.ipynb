{
 "cells": [
  {
   "cell_type": "code",
   "execution_count": 1,
   "metadata": {
    "collapsed": true,
    "ExecuteTime": {
     "end_time": "2023-05-18T12:16:10.914499Z",
     "start_time": "2023-05-18T12:16:04.708912Z"
    }
   },
   "outputs": [
    {
     "name": "stderr",
     "output_type": "stream",
     "text": [
      "2023-05-18 13:16:07.031947: I tensorflow/core/platform/cpu_feature_guard.cc:182] This TensorFlow binary is optimized to use available CPU instructions in performance-critical operations.\n",
      "To enable the following instructions: AVX2 FMA, in other operations, rebuild TensorFlow with the appropriate compiler flags.\n"
     ]
    }
   ],
   "source": [
    "import pickle\n",
    "\n",
    "import librosa.feature\n",
    "import numpy as np\n",
    "from keras import Input, Model\n",
    "from keras.layers import Dense, Dropout\n",
    "from keras.losses import SparseCategoricalCrossentropy, CategoricalCrossentropy\n",
    "from keras.metrics import SparseCategoricalAccuracy, CategoricalAccuracy\n",
    "from keras.optimizers import Adam\n",
    "\n",
    "from utilities.training_plots import plot_loss, plot_categorical_accuracy"
   ]
  },
  {
   "cell_type": "markdown",
   "source": [
    "## Define Feature Extraction"
   ],
   "metadata": {
    "collapsed": false
   }
  },
  {
   "cell_type": "code",
   "execution_count": 2,
   "outputs": [],
   "source": [
    "def get_feature(y, sr):\n",
    "    mfcc = np.array(librosa.feature.mfcc(y=y, sr=sr))\n",
    "    mfcc_mean = mfcc.mean(axis=1)\n",
    "    mfcc_min = mfcc.min(axis=1)\n",
    "    mfcc_max = mfcc.max(axis=1)\n",
    "\n",
    "    return np.concatenate((mfcc_mean, mfcc_min, mfcc_max))"
   ],
   "metadata": {
    "collapsed": false,
    "ExecuteTime": {
     "end_time": "2023-05-18T12:16:10.920768Z",
     "start_time": "2023-05-18T12:16:10.918796Z"
    }
   }
  },
  {
   "cell_type": "markdown",
   "source": [
    "## Make Training Data"
   ],
   "metadata": {
    "collapsed": false
   }
  },
  {
   "cell_type": "code",
   "execution_count": 3,
   "outputs": [],
   "source": [
    "def make_training_data(features_pickle):\n",
    "    with open(features_pickle, 'rb') as f:\n",
    "        xs, ys = pickle.load(f)\n",
    "    total = len(xs)\n",
    "    permutations = np.random.permutation(total)\n",
    "    features = np.array(xs)[permutations]\n",
    "    labels = np.array(ys)[permutations]\n",
    "    features_train = features[0:700]\n",
    "    labels_train = labels[0:700]\n",
    "    features_validate = features[700:850]\n",
    "    labels_validate = labels[700:850]\n",
    "    features_test = features[850:total]\n",
    "    labels_test = labels[850:total]\n",
    "    data_set = (\n",
    "        (labels_train, features_train),\n",
    "        (labels_validate, features_validate),\n",
    "        (labels_test, features_test)\n",
    "    )\n",
    "    with open('data_set.pkl', 'wb') as f:\n",
    "        pickle.dump(data_set, f)"
   ],
   "metadata": {
    "collapsed": false,
    "ExecuteTime": {
     "end_time": "2023-05-18T12:16:10.926464Z",
     "start_time": "2023-05-18T12:16:10.925117Z"
    }
   }
  },
  {
   "cell_type": "code",
   "execution_count": 4,
   "outputs": [],
   "source": [
    "make_training_data('./features.pkl')"
   ],
   "metadata": {
    "collapsed": false,
    "ExecuteTime": {
     "end_time": "2023-05-18T12:16:10.968749Z",
     "start_time": "2023-05-18T12:16:10.930386Z"
    }
   }
  },
  {
   "cell_type": "markdown",
   "source": [
    "## Define Training Data Loader"
   ],
   "metadata": {
    "collapsed": false
   }
  },
  {
   "cell_type": "code",
   "execution_count": 5,
   "outputs": [],
   "source": [
    "def load_data():\n",
    "    with open('data_set.pkl', 'rb') as f:\n",
    "        data_set = pickle.load(f)\n",
    "\n",
    "    return data_set"
   ],
   "metadata": {
    "collapsed": false,
    "ExecuteTime": {
     "end_time": "2023-05-18T12:16:10.969006Z",
     "start_time": "2023-05-18T12:16:10.954250Z"
    }
   }
  },
  {
   "cell_type": "markdown",
   "source": [
    "## Define Build Model, Train and Evaluate Model"
   ],
   "metadata": {
    "collapsed": false
   }
  },
  {
   "cell_type": "code",
   "execution_count": 10,
   "outputs": [],
   "source": [
    "def build_model():\n",
    "    inputs = Input(shape=60, name=\"feature\")\n",
    "    x = Dense(40, activation=\"relu\", name=\"dense_1\")(inputs)\n",
    "    x = Dense(20, activation=\"relu\", name=\"dense_2\")(x)\n",
    "    outputs = Dense(10, activation=\"softmax\", name=\"predictions\")(x)\n",
    "    model = Model(inputs=inputs, outputs=outputs)\n",
    "    model.compile(\n",
    "        optimizer=Adam(),\n",
    "        loss=CategoricalCrossentropy(),\n",
    "        metrics=[CategoricalAccuracy()],\n",
    "    )\n",
    "    model.summary()\n",
    "\n",
    "    return model\n",
    "\n",
    "\n",
    "def train(model, data_set):\n",
    "    return model.fit(\n",
    "        x=data_set[0][1].tolist(),\n",
    "        y=data_set[0][0].tolist(),\n",
    "        verbose=1,\n",
    "        validation_data=(data_set[1][1].tolist(), data_set[1][0].tolist()),\n",
    "        epochs=45\n",
    "    )\n",
    "\n",
    "\n",
    "def evaluate_model(model, data_set):\n",
    "    return model.evaluate(x=data_set[2][1].tolist(), y=data_set[2][0].tolist(), verbose=0, return_dict=True)\n"
   ],
   "metadata": {
    "collapsed": false,
    "ExecuteTime": {
     "end_time": "2023-05-18T12:16:58.826081Z",
     "start_time": "2023-05-18T12:16:58.724816Z"
    }
   }
  },
  {
   "cell_type": "markdown",
   "source": [
    "## Load Training Data"
   ],
   "metadata": {
    "collapsed": false
   }
  },
  {
   "cell_type": "code",
   "execution_count": 11,
   "outputs": [],
   "source": [
    "data_set = load_data()"
   ],
   "metadata": {
    "collapsed": false,
    "ExecuteTime": {
     "end_time": "2023-05-18T12:16:58.827187Z",
     "start_time": "2023-05-18T12:16:58.731642Z"
    }
   }
  },
  {
   "cell_type": "markdown",
   "source": [
    "## Build Model"
   ],
   "metadata": {
    "collapsed": false
   }
  },
  {
   "cell_type": "code",
   "execution_count": 17,
   "outputs": [
    {
     "name": "stdout",
     "output_type": "stream",
     "text": [
      "Model: \"model_2\"\n",
      "_________________________________________________________________\n",
      " Layer (type)                Output Shape              Param #   \n",
      "=================================================================\n",
      " feature (InputLayer)        [(None, 60)]              0         \n",
      "                                                                 \n",
      " dense_1 (Dense)             (None, 40)                2440      \n",
      "                                                                 \n",
      " dense_2 (Dense)             (None, 20)                820       \n",
      "                                                                 \n",
      " predictions (Dense)         (None, 10)                210       \n",
      "                                                                 \n",
      "=================================================================\n",
      "Total params: 3,470\n",
      "Trainable params: 3,470\n",
      "Non-trainable params: 0\n",
      "_________________________________________________________________\n",
      "Model: \"model_2\"\n",
      "_________________________________________________________________\n",
      " Layer (type)                Output Shape              Param #   \n",
      "=================================================================\n",
      " feature (InputLayer)        [(None, 60)]              0         \n",
      "                                                                 \n",
      " dense_1 (Dense)             (None, 40)                2440      \n",
      "                                                                 \n",
      " dense_2 (Dense)             (None, 20)                820       \n",
      "                                                                 \n",
      " predictions (Dense)         (None, 10)                210       \n",
      "                                                                 \n",
      "=================================================================\n",
      "Total params: 3,470\n",
      "Trainable params: 3,470\n",
      "Non-trainable params: 0\n",
      "_________________________________________________________________\n"
     ]
    }
   ],
   "source": [
    "model = build_model()\n",
    "model.summary()"
   ],
   "metadata": {
    "collapsed": false,
    "ExecuteTime": {
     "end_time": "2023-05-18T12:18:11.184959Z",
     "start_time": "2023-05-18T12:18:11.125641Z"
    }
   }
  },
  {
   "cell_type": "markdown",
   "source": [
    "## Train"
   ],
   "metadata": {
    "collapsed": false
   }
  },
  {
   "cell_type": "code",
   "execution_count": 18,
   "outputs": [
    {
     "name": "stdout",
     "output_type": "stream",
     "text": [
      "Epoch 1/45\n",
      "22/22 [==============================] - 1s 10ms/step - loss: 12.3697 - categorical_accuracy: 0.0929 - val_loss: 6.7542 - val_categorical_accuracy: 0.1800\n",
      "Epoch 2/45\n",
      "22/22 [==============================] - 0s 3ms/step - loss: 5.7790 - categorical_accuracy: 0.1900 - val_loss: 4.3924 - val_categorical_accuracy: 0.1800\n",
      "Epoch 3/45\n",
      "22/22 [==============================] - 0s 3ms/step - loss: 3.6811 - categorical_accuracy: 0.2186 - val_loss: 2.9185 - val_categorical_accuracy: 0.2867\n",
      "Epoch 4/45\n",
      "22/22 [==============================] - 0s 4ms/step - loss: 2.5968 - categorical_accuracy: 0.2400 - val_loss: 2.2101 - val_categorical_accuracy: 0.3133\n",
      "Epoch 5/45\n",
      "22/22 [==============================] - 0s 3ms/step - loss: 2.1383 - categorical_accuracy: 0.3043 - val_loss: 2.0033 - val_categorical_accuracy: 0.3267\n",
      "Epoch 6/45\n",
      "22/22 [==============================] - 0s 3ms/step - loss: 1.9959 - categorical_accuracy: 0.3386 - val_loss: 1.9709 - val_categorical_accuracy: 0.3067\n",
      "Epoch 7/45\n",
      "22/22 [==============================] - 0s 3ms/step - loss: 1.9584 - categorical_accuracy: 0.3157 - val_loss: 1.8667 - val_categorical_accuracy: 0.3133\n",
      "Epoch 8/45\n",
      "22/22 [==============================] - 0s 4ms/step - loss: 1.8929 - categorical_accuracy: 0.3443 - val_loss: 1.8939 - val_categorical_accuracy: 0.2933\n",
      "Epoch 9/45\n",
      "22/22 [==============================] - 0s 3ms/step - loss: 1.8929 - categorical_accuracy: 0.3186 - val_loss: 1.8969 - val_categorical_accuracy: 0.2933\n",
      "Epoch 10/45\n",
      "22/22 [==============================] - 0s 3ms/step - loss: 1.8545 - categorical_accuracy: 0.3443 - val_loss: 1.8400 - val_categorical_accuracy: 0.3133\n",
      "Epoch 11/45\n",
      "22/22 [==============================] - 0s 3ms/step - loss: 1.8190 - categorical_accuracy: 0.3600 - val_loss: 1.8367 - val_categorical_accuracy: 0.3200\n",
      "Epoch 12/45\n",
      "22/22 [==============================] - 0s 3ms/step - loss: 1.8037 - categorical_accuracy: 0.3529 - val_loss: 1.7814 - val_categorical_accuracy: 0.3467\n",
      "Epoch 13/45\n",
      "22/22 [==============================] - 0s 3ms/step - loss: 1.7635 - categorical_accuracy: 0.3757 - val_loss: 1.8327 - val_categorical_accuracy: 0.3333\n",
      "Epoch 14/45\n",
      "22/22 [==============================] - 0s 3ms/step - loss: 1.7527 - categorical_accuracy: 0.3800 - val_loss: 1.8409 - val_categorical_accuracy: 0.3600\n",
      "Epoch 15/45\n",
      "22/22 [==============================] - 0s 3ms/step - loss: 1.7415 - categorical_accuracy: 0.3971 - val_loss: 1.7836 - val_categorical_accuracy: 0.3667\n",
      "Epoch 16/45\n",
      "22/22 [==============================] - 0s 3ms/step - loss: 1.7052 - categorical_accuracy: 0.3986 - val_loss: 1.7425 - val_categorical_accuracy: 0.3733\n",
      "Epoch 17/45\n",
      "22/22 [==============================] - 0s 3ms/step - loss: 1.7094 - categorical_accuracy: 0.3829 - val_loss: 1.7558 - val_categorical_accuracy: 0.3800\n",
      "Epoch 18/45\n",
      "22/22 [==============================] - 0s 3ms/step - loss: 1.6874 - categorical_accuracy: 0.3957 - val_loss: 1.7720 - val_categorical_accuracy: 0.4200\n",
      "Epoch 19/45\n",
      "22/22 [==============================] - 0s 4ms/step - loss: 1.6475 - categorical_accuracy: 0.4371 - val_loss: 1.6666 - val_categorical_accuracy: 0.3800\n",
      "Epoch 20/45\n",
      "22/22 [==============================] - 0s 4ms/step - loss: 1.6047 - categorical_accuracy: 0.4257 - val_loss: 1.7100 - val_categorical_accuracy: 0.4200\n",
      "Epoch 21/45\n",
      "22/22 [==============================] - 0s 4ms/step - loss: 1.6175 - categorical_accuracy: 0.4286 - val_loss: 1.6760 - val_categorical_accuracy: 0.4133\n",
      "Epoch 22/45\n",
      "22/22 [==============================] - 0s 4ms/step - loss: 1.6061 - categorical_accuracy: 0.4314 - val_loss: 1.6976 - val_categorical_accuracy: 0.4200\n",
      "Epoch 23/45\n",
      "22/22 [==============================] - 0s 3ms/step - loss: 1.5701 - categorical_accuracy: 0.4329 - val_loss: 1.7024 - val_categorical_accuracy: 0.4200\n",
      "Epoch 24/45\n",
      "22/22 [==============================] - 0s 4ms/step - loss: 1.5517 - categorical_accuracy: 0.4600 - val_loss: 1.6369 - val_categorical_accuracy: 0.4467\n",
      "Epoch 25/45\n",
      "22/22 [==============================] - 0s 4ms/step - loss: 1.5254 - categorical_accuracy: 0.4671 - val_loss: 1.5816 - val_categorical_accuracy: 0.4467\n",
      "Epoch 26/45\n",
      "22/22 [==============================] - 0s 4ms/step - loss: 1.5186 - categorical_accuracy: 0.4529 - val_loss: 1.6039 - val_categorical_accuracy: 0.4533\n",
      "Epoch 27/45\n",
      "22/22 [==============================] - 0s 4ms/step - loss: 1.4910 - categorical_accuracy: 0.4786 - val_loss: 1.5775 - val_categorical_accuracy: 0.4933\n",
      "Epoch 28/45\n",
      "22/22 [==============================] - 0s 4ms/step - loss: 1.4809 - categorical_accuracy: 0.4700 - val_loss: 1.5718 - val_categorical_accuracy: 0.4733\n",
      "Epoch 29/45\n",
      "22/22 [==============================] - 0s 4ms/step - loss: 1.4680 - categorical_accuracy: 0.4686 - val_loss: 1.5481 - val_categorical_accuracy: 0.4867\n",
      "Epoch 30/45\n",
      "22/22 [==============================] - 0s 4ms/step - loss: 1.4527 - categorical_accuracy: 0.4729 - val_loss: 1.5773 - val_categorical_accuracy: 0.4867\n",
      "Epoch 31/45\n",
      "22/22 [==============================] - 0s 4ms/step - loss: 1.4262 - categorical_accuracy: 0.4957 - val_loss: 1.5264 - val_categorical_accuracy: 0.4933\n",
      "Epoch 32/45\n",
      "22/22 [==============================] - 0s 3ms/step - loss: 1.4178 - categorical_accuracy: 0.4943 - val_loss: 1.5155 - val_categorical_accuracy: 0.5067\n",
      "Epoch 33/45\n",
      "22/22 [==============================] - 0s 4ms/step - loss: 1.3952 - categorical_accuracy: 0.5014 - val_loss: 1.5351 - val_categorical_accuracy: 0.5067\n",
      "Epoch 34/45\n",
      "22/22 [==============================] - 0s 3ms/step - loss: 1.3976 - categorical_accuracy: 0.4871 - val_loss: 1.5079 - val_categorical_accuracy: 0.5067\n",
      "Epoch 35/45\n",
      "22/22 [==============================] - 0s 3ms/step - loss: 1.3688 - categorical_accuracy: 0.5043 - val_loss: 1.4807 - val_categorical_accuracy: 0.5200\n",
      "Epoch 36/45\n",
      "22/22 [==============================] - 0s 3ms/step - loss: 1.3598 - categorical_accuracy: 0.4986 - val_loss: 1.5230 - val_categorical_accuracy: 0.5000\n",
      "Epoch 37/45\n",
      "22/22 [==============================] - 0s 3ms/step - loss: 1.3633 - categorical_accuracy: 0.4986 - val_loss: 1.5467 - val_categorical_accuracy: 0.4800\n",
      "Epoch 38/45\n",
      "22/22 [==============================] - 0s 3ms/step - loss: 1.3580 - categorical_accuracy: 0.4971 - val_loss: 1.5135 - val_categorical_accuracy: 0.4933\n",
      "Epoch 39/45\n",
      "22/22 [==============================] - 0s 3ms/step - loss: 1.3239 - categorical_accuracy: 0.5086 - val_loss: 1.4613 - val_categorical_accuracy: 0.4933\n",
      "Epoch 40/45\n",
      "22/22 [==============================] - 0s 3ms/step - loss: 1.3006 - categorical_accuracy: 0.5371 - val_loss: 1.4984 - val_categorical_accuracy: 0.5133\n",
      "Epoch 41/45\n",
      "22/22 [==============================] - 0s 3ms/step - loss: 1.3160 - categorical_accuracy: 0.5100 - val_loss: 1.4957 - val_categorical_accuracy: 0.4867\n",
      "Epoch 42/45\n",
      "22/22 [==============================] - 0s 3ms/step - loss: 1.2847 - categorical_accuracy: 0.5343 - val_loss: 1.4255 - val_categorical_accuracy: 0.5200\n",
      "Epoch 43/45\n",
      "22/22 [==============================] - 0s 3ms/step - loss: 1.2368 - categorical_accuracy: 0.5386 - val_loss: 1.3988 - val_categorical_accuracy: 0.5400\n",
      "Epoch 44/45\n",
      "22/22 [==============================] - 0s 3ms/step - loss: 1.2189 - categorical_accuracy: 0.5671 - val_loss: 1.3786 - val_categorical_accuracy: 0.5267\n",
      "Epoch 45/45\n",
      "22/22 [==============================] - 0s 3ms/step - loss: 1.1981 - categorical_accuracy: 0.5629 - val_loss: 1.3801 - val_categorical_accuracy: 0.5667\n"
     ]
    }
   ],
   "source": [
    "history = train(model, data_set)"
   ],
   "metadata": {
    "collapsed": false,
    "ExecuteTime": {
     "end_time": "2023-05-18T12:18:20.093145Z",
     "start_time": "2023-05-18T12:18:15.364651Z"
    }
   }
  },
  {
   "cell_type": "markdown",
   "source": [
    "## Evaluate"
   ],
   "metadata": {
    "collapsed": false
   }
  },
  {
   "cell_type": "code",
   "execution_count": 19,
   "outputs": [
    {
     "name": "stdout",
     "output_type": "stream",
     "text": [
      "loss: 1.6472\n",
      "categorical_accuracy: 0.4228\n"
     ]
    }
   ],
   "source": [
    "evaluation = evaluate_model(model, data_set)\n",
    "\n",
    "for name, value in evaluation.items():\n",
    "    print(f\"{name}: {value:.4f}\")"
   ],
   "metadata": {
    "collapsed": false,
    "ExecuteTime": {
     "end_time": "2023-05-18T12:18:20.205167Z",
     "start_time": "2023-05-18T12:18:20.106280Z"
    }
   }
  },
  {
   "cell_type": "markdown",
   "source": [
    "## Plot Accuracy and Loss"
   ],
   "metadata": {
    "collapsed": false
   }
  },
  {
   "cell_type": "code",
   "execution_count": 20,
   "outputs": [
    {
     "data": {
      "text/plain": "<Figure size 640x480 with 1 Axes>",
      "image/png": "[encoded data removed]"
     },
     "metadata": {},
     "output_type": "display_data"
    },
    {
     "data": {
      "text/plain": "<Figure size 640x480 with 1 Axes>",
      "image/png": "[encoded data removed]"
     },
     "metadata": {},
     "output_type": "display_data"
    }
   ],
   "source": [
    "plot_categorical_accuracy(history)\n",
    "plot_loss(history)\n",
    "# plot_history(history)"
   ],
   "metadata": {
    "collapsed": false,
    "ExecuteTime": {
     "end_time": "2023-05-18T12:18:20.571449Z",
     "start_time": "2023-05-18T12:18:20.237933Z"
    }
   }
  },
  {
   "cell_type": "markdown",
   "source": [
    "## Save Model"
   ],
   "metadata": {
    "collapsed": false
   }
  },
  {
   "cell_type": "code",
   "execution_count": 21,
   "outputs": [
    {
     "name": "stdout",
     "output_type": "stream",
     "text": [
      "INFO:tensorflow:Assets written to: ../saved_models/random_forest_1/assets\n"
     ]
    }
   ],
   "source": [
    "model.save('../saved_models/random_forest_1')"
   ],
   "metadata": {
    "collapsed": false,
    "ExecuteTime": {
     "end_time": "2023-05-18T12:18:21.245235Z",
     "start_time": "2023-05-18T12:18:20.575148Z"
    }
   }
  },
  {
   "cell_type": "markdown",
   "source": [],
   "metadata": {
    "collapsed": false
   }
  }
 ],
 "metadata": {
  "kernelspec": {
   "display_name": "Python 3",
   "language": "python",
   "name": "python3"
  },
  "language_info": {
   "codemirror_mode": {
    "name": "ipython",
    "version": 2
   },
   "file_extension": ".py",
   "mimetype": "text/x-python",
   "name": "python",
   "nbconvert_exporter": "python",
   "pygments_lexer": "ipython2",
   "version": "2.7.6"
  }
 },
 "nbformat": 4,
 "nbformat_minor": 0
}
