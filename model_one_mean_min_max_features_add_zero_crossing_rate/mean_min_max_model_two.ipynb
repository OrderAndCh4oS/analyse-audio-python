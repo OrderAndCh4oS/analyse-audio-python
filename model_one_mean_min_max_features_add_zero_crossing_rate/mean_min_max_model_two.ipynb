{
 "cells": [
  {
   "cell_type": "code",
   "execution_count": 28,
   "metadata": {
    "collapsed": true,
    "ExecuteTime": {
     "end_time": "2023-05-18T10:51:13.847262Z",
     "start_time": "2023-05-18T10:51:13.748132Z"
    }
   },
   "outputs": [],
   "source": [
    "import pickle\n",
    "\n",
    "import librosa.feature\n",
    "import numpy as np\n",
    "import tensorflow as tf\n",
    "\n",
    "from keras import Input, Model\n",
    "from keras.layers import Dense, Dropout\n",
    "from keras.losses import CategoricalCrossentropy\n",
    "from keras.metrics import CategoricalAccuracy\n",
    "from keras.optimizers import Adam\n",
    "\n",
    "from utilities.training_plots import plot_loss, plot_categorical_accuracy"
   ]
  },
  {
   "cell_type": "markdown",
   "source": [
    "## Define Feature Extraction"
   ],
   "metadata": {
    "collapsed": false
   }
  },
  {
   "cell_type": "code",
   "execution_count": 29,
   "outputs": [],
   "source": [
    "def get_mfcc(y, sr):\n",
    "    return np.array(librosa.feature.mfcc(y=y, sr=sr))\n",
    "\n",
    "\n",
    "def get_mel_spectrogram(y, sr):\n",
    "    return np.array(librosa.feature.melspectrogram(y=y, sr=sr))\n",
    "\n",
    "\n",
    "def get_chroma_vector(y, sr):\n",
    "    return np.array(librosa.feature.chroma_stft(y=y, sr=sr))\n",
    "\n",
    "\n",
    "def get_tonnetz(y, sr):\n",
    "    return np.array(librosa.feature.tonnetz(y=y, sr=sr))\n",
    "\n",
    "\n",
    "def get_zero_crossings(y):\n",
    "    return librosa.zero_crossings(y, pad=False)\n",
    "\n",
    "\n",
    "def get_zero_crossing_rate(y):\n",
    "    return librosa.feature.zero_crossing_rate(y)\n",
    "\n",
    "\n",
    "def get_feature(y, sr):\n",
    "    mfcc = get_mfcc(y, sr)\n",
    "    mfcc_mean = mfcc.mean(axis=1)\n",
    "    mfcc_min = mfcc.min(axis=1)\n",
    "    mfcc_max = mfcc.max(axis=1)\n",
    "    mfcc_feature = np.concatenate((mfcc_mean, mfcc_min, mfcc_max))\n",
    "\n",
    "    mel_spectrogram = get_mel_spectrogram(y, sr)\n",
    "    mel_spectrogram_mean = mel_spectrogram.mean(axis=1)\n",
    "    mel_spectrogram_min = mel_spectrogram.min(axis=1)\n",
    "    mel_spectrogram_max = mel_spectrogram.max(axis=1)\n",
    "    mel_spectrogram_feature = np.concatenate((mel_spectrogram_mean, mel_spectrogram_min, mel_spectrogram_max))\n",
    "\n",
    "    chroma = get_chroma_vector(y, sr)\n",
    "    chroma_mean = chroma.mean(axis=1)\n",
    "    chroma_min = chroma.min(axis=1)\n",
    "    chroma_max = chroma.max(axis=1)\n",
    "    chroma_feature = np.concatenate((chroma_mean, chroma_min, chroma_max))\n",
    "\n",
    "    tonnetz = get_tonnetz(y, sr)\n",
    "    tonnetz_mean = tonnetz.mean(axis=1)\n",
    "    tonnetz_min = tonnetz.min(axis=1)\n",
    "    tonnetz_max = tonnetz.max(axis=1)\n",
    "    tonnetz_feature = np.concatenate((tonnetz_mean, tonnetz_min, tonnetz_max))\n",
    "\n",
    "    \"\"\"\n",
    "    Adding the zero crossing seems to have increased accuracy, it's now at ~60%\n",
    "    \"\"\"\n",
    "    zero_crossing_rate = get_zero_crossing_rate(y)\n",
    "    zero_crossing_rate_mean = zero_crossing_rate.mean(axis=1)\n",
    "    zero_crossing_rate_min = zero_crossing_rate.min(axis=1)\n",
    "    zero_crossing_rate_max = zero_crossing_rate.max(axis=1)\n",
    "    zero_crossing_feature = np.concatenate((\n",
    "        zero_crossing_rate_mean,\n",
    "        zero_crossing_rate_min,\n",
    "        zero_crossing_rate_max\n",
    "    ))\n",
    "\n",
    "    return np.concatenate((\n",
    "        chroma_feature,\n",
    "        mel_spectrogram_feature,\n",
    "        mfcc_feature,\n",
    "        tonnetz_feature,\n",
    "        zero_crossing_feature,\n",
    "    ))"
   ],
   "metadata": {
    "collapsed": false,
    "ExecuteTime": {
     "end_time": "2023-05-18T10:51:13.952645Z",
     "start_time": "2023-05-18T10:51:13.768869Z"
    }
   }
  },
  {
   "cell_type": "markdown",
   "source": [
    "## Make Training Data"
   ],
   "metadata": {
    "collapsed": false
   }
  },
  {
   "cell_type": "code",
   "execution_count": 30,
   "outputs": [],
   "source": [
    "def make_training_data():\n",
    "    with open('../pickles/processed_data.pkl', 'rb') as f:\n",
    "        data = pickle.load(f)\n",
    "    xs = []\n",
    "    ys = []\n",
    "    for label, y, sr in data:\n",
    "        features = get_feature(y, sr)\n",
    "        xs.append(features)\n",
    "        ys.append(label)\n",
    "    xs = np.array(xs)\n",
    "    ys = tf.one_hot(np.array(ys), 10)\n",
    "    print(xs.shape)\n",
    "    print(ys.shape)\n",
    "    permutations = np.random.permutation(999)\n",
    "    features = np.array(xs)[permutations]\n",
    "    labels = np.array(ys)[permutations]\n",
    "    features_train = features[0:700]\n",
    "    labels_train = labels[0:700]\n",
    "    features_validate = features[700:850]\n",
    "    labels_validate = labels[700:850]\n",
    "    features_test = features[850:999]\n",
    "    labels_test = labels[850:999]\n",
    "    data_set = (\n",
    "        (labels_train, features_train),\n",
    "        (labels_validate, features_validate),\n",
    "        (labels_test, features_test)\n",
    "    )\n",
    "    with open('data_set.pkl', 'wb') as f:\n",
    "        pickle.dump(data_set, f)"
   ],
   "metadata": {
    "collapsed": false,
    "ExecuteTime": {
     "end_time": "2023-05-18T10:51:13.987627Z",
     "start_time": "2023-05-18T10:51:13.777378Z"
    }
   }
  },
  {
   "cell_type": "code",
   "execution_count": 31,
   "outputs": [
    {
     "name": "stdout",
     "output_type": "stream",
     "text": [
      "(999, 501)\n",
      "(999, 10)\n"
     ]
    }
   ],
   "source": [
    "make_training_data()"
   ],
   "metadata": {
    "collapsed": false,
    "ExecuteTime": {
     "end_time": "2023-05-18T10:59:54.942177Z",
     "start_time": "2023-05-18T10:51:13.782279Z"
    }
   }
  },
  {
   "cell_type": "markdown",
   "source": [
    "## Define Training Data Loader"
   ],
   "metadata": {
    "collapsed": false
   }
  },
  {
   "cell_type": "code",
   "execution_count": 32,
   "outputs": [],
   "source": [
    "def load_data():\n",
    "    with open('data_set.pkl', 'rb') as f:\n",
    "        data_set = pickle.load(f)\n",
    "\n",
    "    return data_set"
   ],
   "metadata": {
    "collapsed": false,
    "ExecuteTime": {
     "end_time": "2023-05-18T10:59:54.997179Z",
     "start_time": "2023-05-18T10:59:54.963770Z"
    }
   }
  },
  {
   "cell_type": "markdown",
   "source": [
    "## Define Build Model, Train and Evaluate Model"
   ],
   "metadata": {
    "collapsed": false
   }
  },
  {
   "cell_type": "code",
   "execution_count": 33,
   "outputs": [],
   "source": [
    "def build_model():\n",
    "    inputs = Input(shape=501, name=\"feature\")\n",
    "    x = Dense(512, activation=\"relu\", name=\"dense_1\")(inputs)\n",
    "    x = Dense(256, activation=\"relu\", name=\"dense_2\")(x)\n",
    "    x = Dropout(0.1, name=\"dropout_1\")(x)\n",
    "    x = Dense(128, activation=\"relu\", name=\"dense_3\")(x)\n",
    "    x = Dropout(0.1, name=\"dropout_2\")(x)\n",
    "    outputs = Dense(10, activation=\"softmax\", name=\"predictions\")(x)\n",
    "    model = Model(inputs=inputs, outputs=outputs)\n",
    "    model.compile(\n",
    "        optimizer=Adam(),\n",
    "        loss=CategoricalCrossentropy(),\n",
    "        metrics=[CategoricalAccuracy()],\n",
    "    )\n",
    "    model.summary()\n",
    "\n",
    "    return model\n",
    "\n",
    "\n",
    "def train(model, data_set):\n",
    "    return model.fit(\n",
    "        x=data_set[0][1].tolist(),\n",
    "        y=data_set[0][0].tolist(),\n",
    "        verbose=1,\n",
    "        validation_data=(data_set[1][1].tolist(), data_set[1][0].tolist()),\n",
    "        epochs=30\n",
    "    )\n",
    "\n",
    "\n",
    "def evaluate_model(model, data_set):\n",
    "    return model.evaluate(x=data_set[2][1].tolist(), y=data_set[2][0].tolist(), verbose=0, return_dict=True)\n"
   ],
   "metadata": {
    "collapsed": false,
    "ExecuteTime": {
     "end_time": "2023-05-18T10:59:55.039420Z",
     "start_time": "2023-05-18T10:59:54.981246Z"
    }
   }
  },
  {
   "cell_type": "markdown",
   "source": [
    "## Load Training Data"
   ],
   "metadata": {
    "collapsed": false
   }
  },
  {
   "cell_type": "code",
   "execution_count": 34,
   "outputs": [],
   "source": [
    "data_set = load_data()"
   ],
   "metadata": {
    "collapsed": false,
    "ExecuteTime": {
     "end_time": "2023-05-18T10:59:55.039779Z",
     "start_time": "2023-05-18T10:59:54.998700Z"
    }
   }
  },
  {
   "cell_type": "markdown",
   "source": [
    "## Build Model"
   ],
   "metadata": {
    "collapsed": false
   }
  },
  {
   "cell_type": "code",
   "execution_count": 35,
   "outputs": [
    {
     "name": "stdout",
     "output_type": "stream",
     "text": [
      "Model: \"model_2\"\n",
      "_________________________________________________________________\n",
      " Layer (type)                Output Shape              Param #   \n",
      "=================================================================\n",
      " feature (InputLayer)        [(None, 501)]             0         \n",
      "                                                                 \n",
      " dense_1 (Dense)             (None, 512)               257024    \n",
      "                                                                 \n",
      " dense_2 (Dense)             (None, 256)               131328    \n",
      "                                                                 \n",
      " dropout_1 (Dropout)         (None, 256)               0         \n",
      "                                                                 \n",
      " dense_3 (Dense)             (None, 128)               32896     \n",
      "                                                                 \n",
      " dropout_2 (Dropout)         (None, 128)               0         \n",
      "                                                                 \n",
      " predictions (Dense)         (None, 10)                1290      \n",
      "                                                                 \n",
      "=================================================================\n",
      "Total params: 422,538\n",
      "Trainable params: 422,538\n",
      "Non-trainable params: 0\n",
      "_________________________________________________________________\n",
      "Model: \"model_2\"\n",
      "_________________________________________________________________\n",
      " Layer (type)                Output Shape              Param #   \n",
      "=================================================================\n",
      " feature (InputLayer)        [(None, 501)]             0         \n",
      "                                                                 \n",
      " dense_1 (Dense)             (None, 512)               257024    \n",
      "                                                                 \n",
      " dense_2 (Dense)             (None, 256)               131328    \n",
      "                                                                 \n",
      " dropout_1 (Dropout)         (None, 256)               0         \n",
      "                                                                 \n",
      " dense_3 (Dense)             (None, 128)               32896     \n",
      "                                                                 \n",
      " dropout_2 (Dropout)         (None, 128)               0         \n",
      "                                                                 \n",
      " predictions (Dense)         (None, 10)                1290      \n",
      "                                                                 \n",
      "=================================================================\n",
      "Total params: 422,538\n",
      "Trainable params: 422,538\n",
      "Non-trainable params: 0\n",
      "_________________________________________________________________\n"
     ]
    }
   ],
   "source": [
    "model = build_model()\n",
    "model.summary()"
   ],
   "metadata": {
    "collapsed": false,
    "ExecuteTime": {
     "end_time": "2023-05-18T10:59:55.457261Z",
     "start_time": "2023-05-18T10:59:55.093189Z"
    }
   }
  },
  {
   "cell_type": "markdown",
   "source": [
    "## Train"
   ],
   "metadata": {
    "collapsed": false
   }
  },
  {
   "cell_type": "code",
   "execution_count": 36,
   "outputs": [
    {
     "name": "stdout",
     "output_type": "stream",
     "text": [
      "Epoch 1/30\n",
      "22/22 [==============================] - 1s 24ms/step - loss: 60.8872 - categorical_accuracy: 0.2171 - val_loss: 15.9477 - val_categorical_accuracy: 0.3200\n",
      "Epoch 2/30\n",
      "22/22 [==============================] - 0s 6ms/step - loss: 15.6311 - categorical_accuracy: 0.3014 - val_loss: 7.8454 - val_categorical_accuracy: 0.3200\n",
      "Epoch 3/30\n",
      "22/22 [==============================] - 0s 6ms/step - loss: 7.6127 - categorical_accuracy: 0.3714 - val_loss: 7.6521 - val_categorical_accuracy: 0.3333\n",
      "Epoch 4/30\n",
      "22/22 [==============================] - 0s 6ms/step - loss: 5.4451 - categorical_accuracy: 0.4071 - val_loss: 4.8986 - val_categorical_accuracy: 0.4067\n",
      "Epoch 5/30\n",
      "22/22 [==============================] - 0s 6ms/step - loss: 3.8411 - categorical_accuracy: 0.4129 - val_loss: 3.6036 - val_categorical_accuracy: 0.3667\n",
      "Epoch 6/30\n",
      "22/22 [==============================] - 0s 6ms/step - loss: 3.0059 - categorical_accuracy: 0.4286 - val_loss: 3.0293 - val_categorical_accuracy: 0.3867\n",
      "Epoch 7/30\n",
      "22/22 [==============================] - 0s 7ms/step - loss: 2.8357 - categorical_accuracy: 0.4186 - val_loss: 3.4607 - val_categorical_accuracy: 0.3600\n",
      "Epoch 8/30\n",
      "22/22 [==============================] - 0s 6ms/step - loss: 2.4986 - categorical_accuracy: 0.3900 - val_loss: 2.8789 - val_categorical_accuracy: 0.3533\n",
      "Epoch 9/30\n",
      "22/22 [==============================] - 0s 7ms/step - loss: 1.9831 - categorical_accuracy: 0.4571 - val_loss: 2.6499 - val_categorical_accuracy: 0.4133\n",
      "Epoch 10/30\n",
      "22/22 [==============================] - 0s 6ms/step - loss: 2.0450 - categorical_accuracy: 0.5100 - val_loss: 3.3786 - val_categorical_accuracy: 0.3800\n",
      "Epoch 11/30\n",
      "22/22 [==============================] - 0s 7ms/step - loss: 1.8173 - categorical_accuracy: 0.5114 - val_loss: 2.7778 - val_categorical_accuracy: 0.3800\n",
      "Epoch 12/30\n",
      "22/22 [==============================] - 0s 7ms/step - loss: 1.7732 - categorical_accuracy: 0.5400 - val_loss: 2.2295 - val_categorical_accuracy: 0.3867\n",
      "Epoch 13/30\n",
      "22/22 [==============================] - 0s 6ms/step - loss: 1.6407 - categorical_accuracy: 0.5743 - val_loss: 2.5157 - val_categorical_accuracy: 0.3933\n",
      "Epoch 14/30\n",
      "22/22 [==============================] - 0s 7ms/step - loss: 1.6151 - categorical_accuracy: 0.5371 - val_loss: 2.5208 - val_categorical_accuracy: 0.4200\n",
      "Epoch 15/30\n",
      "22/22 [==============================] - 0s 7ms/step - loss: 1.5235 - categorical_accuracy: 0.5486 - val_loss: 2.1867 - val_categorical_accuracy: 0.4467\n",
      "Epoch 16/30\n",
      "22/22 [==============================] - 0s 9ms/step - loss: 1.3323 - categorical_accuracy: 0.6071 - val_loss: 2.4852 - val_categorical_accuracy: 0.4800\n",
      "Epoch 17/30\n",
      "22/22 [==============================] - 0s 7ms/step - loss: 1.1297 - categorical_accuracy: 0.6529 - val_loss: 2.7747 - val_categorical_accuracy: 0.4733\n",
      "Epoch 18/30\n",
      "22/22 [==============================] - 0s 7ms/step - loss: 1.2206 - categorical_accuracy: 0.6629 - val_loss: 2.7189 - val_categorical_accuracy: 0.4467\n",
      "Epoch 19/30\n",
      "22/22 [==============================] - 0s 6ms/step - loss: 1.2275 - categorical_accuracy: 0.6400 - val_loss: 2.6607 - val_categorical_accuracy: 0.4933\n",
      "Epoch 20/30\n",
      "22/22 [==============================] - 0s 7ms/step - loss: 1.0447 - categorical_accuracy: 0.6900 - val_loss: 2.7343 - val_categorical_accuracy: 0.5000\n",
      "Epoch 21/30\n",
      "22/22 [==============================] - 0s 8ms/step - loss: 1.0402 - categorical_accuracy: 0.7014 - val_loss: 2.9985 - val_categorical_accuracy: 0.4933\n",
      "Epoch 22/30\n",
      "22/22 [==============================] - 0s 8ms/step - loss: 0.9127 - categorical_accuracy: 0.7257 - val_loss: 2.5608 - val_categorical_accuracy: 0.5200\n",
      "Epoch 23/30\n",
      "22/22 [==============================] - 0s 7ms/step - loss: 0.7905 - categorical_accuracy: 0.7371 - val_loss: 2.9851 - val_categorical_accuracy: 0.5400\n",
      "Epoch 24/30\n",
      "22/22 [==============================] - 0s 7ms/step - loss: 0.8807 - categorical_accuracy: 0.7514 - val_loss: 3.3383 - val_categorical_accuracy: 0.4867\n",
      "Epoch 25/30\n",
      "22/22 [==============================] - 0s 7ms/step - loss: 0.8485 - categorical_accuracy: 0.7429 - val_loss: 2.7684 - val_categorical_accuracy: 0.4933\n",
      "Epoch 26/30\n",
      "22/22 [==============================] - 0s 7ms/step - loss: 0.8517 - categorical_accuracy: 0.7371 - val_loss: 3.0886 - val_categorical_accuracy: 0.4600\n",
      "Epoch 27/30\n",
      "22/22 [==============================] - 0s 8ms/step - loss: 0.9914 - categorical_accuracy: 0.7071 - val_loss: 3.0571 - val_categorical_accuracy: 0.5067\n",
      "Epoch 28/30\n",
      "22/22 [==============================] - 0s 9ms/step - loss: 0.7025 - categorical_accuracy: 0.7843 - val_loss: 2.7319 - val_categorical_accuracy: 0.5000\n",
      "Epoch 29/30\n",
      "22/22 [==============================] - 0s 7ms/step - loss: 0.7900 - categorical_accuracy: 0.7786 - val_loss: 2.6059 - val_categorical_accuracy: 0.4867\n",
      "Epoch 30/30\n",
      "22/22 [==============================] - 0s 7ms/step - loss: 0.7585 - categorical_accuracy: 0.7914 - val_loss: 2.8409 - val_categorical_accuracy: 0.4533\n"
     ]
    }
   ],
   "source": [
    "history = train(model, data_set)"
   ],
   "metadata": {
    "collapsed": false,
    "ExecuteTime": {
     "end_time": "2023-05-18T11:00:02.933263Z",
     "start_time": "2023-05-18T10:59:55.530015Z"
    }
   }
  },
  {
   "cell_type": "markdown",
   "source": [
    "## Evaluate"
   ],
   "metadata": {
    "collapsed": false
   }
  },
  {
   "cell_type": "code",
   "execution_count": 37,
   "outputs": [
    {
     "name": "stdout",
     "output_type": "stream",
     "text": [
      "loss: 3.3231\n",
      "categorical_accuracy: 0.4564\n"
     ]
    }
   ],
   "source": [
    "evaluation = evaluate_model(model, data_set)\n",
    "\n",
    "for name, value in evaluation.items():\n",
    "    print(f\"{name}: {value:.4f}\")"
   ],
   "metadata": {
    "collapsed": false,
    "ExecuteTime": {
     "end_time": "2023-05-18T11:00:03.345312Z",
     "start_time": "2023-05-18T11:00:03.044045Z"
    }
   }
  },
  {
   "cell_type": "markdown",
   "source": [
    "## Plot Accuracy and Loss"
   ],
   "metadata": {
    "collapsed": false
   }
  },
  {
   "cell_type": "code",
   "execution_count": 38,
   "outputs": [
    {
     "data": {
      "text/plain": "<Figure size 640x480 with 1 Axes>",
      "image/png": "[encoded data removed]"
     },
     "metadata": {},
     "output_type": "display_data"
    },
    {
     "data": {
      "text/plain": "<Figure size 640x480 with 1 Axes>",
      "image/png": "[encoded data removed]"
     },
     "metadata": {},
     "output_type": "display_data"
    }
   ],
   "source": [
    "plot_categorical_accuracy(history)\n",
    "plot_loss(history)\n",
    "# plot_history(history)"
   ],
   "metadata": {
    "collapsed": false,
    "ExecuteTime": {
     "end_time": "2023-05-18T11:00:04.072055Z",
     "start_time": "2023-05-18T11:00:03.363637Z"
    }
   }
  },
  {
   "cell_type": "markdown",
   "source": [
    "## Save Model"
   ],
   "metadata": {
    "collapsed": false
   }
  },
  {
   "cell_type": "code",
   "execution_count": 40,
   "outputs": [
    {
     "name": "stderr",
     "output_type": "stream",
     "text": [
      "2023-05-18 12:00:04.492711: I tensorflow/core/common_runtime/executor.cc:1197] [/device:CPU:0] (DEBUG INFO) Executor start aborting (this does not indicate an error and you can ignore this message): INVALID_ARGUMENT: You must feed a value for placeholder tensor 'inputs' with dtype float and shape [?,256]\n",
      "\t [[{{node inputs}}]]\n",
      "2023-05-18 12:00:04.508719: I tensorflow/core/common_runtime/executor.cc:1197] [/device:CPU:0] (DEBUG INFO) Executor start aborting (this does not indicate an error and you can ignore this message): INVALID_ARGUMENT: You must feed a value for placeholder tensor 'inputs' with dtype float and shape [?,128]\n",
      "\t [[{{node inputs}}]]\n",
      "2023-05-18 12:00:04.791130: I tensorflow/core/common_runtime/executor.cc:1197] [/device:CPU:0] (DEBUG INFO) Executor start aborting (this does not indicate an error and you can ignore this message): INVALID_ARGUMENT: You must feed a value for placeholder tensor 'inputs' with dtype float and shape [?,256]\n",
      "\t [[{{node inputs}}]]\n",
      "2023-05-18 12:00:04.842051: I tensorflow/core/common_runtime/executor.cc:1197] [/device:CPU:0] (DEBUG INFO) Executor start aborting (this does not indicate an error and you can ignore this message): INVALID_ARGUMENT: You must feed a value for placeholder tensor 'inputs' with dtype float and shape [?,128]\n",
      "\t [[{{node inputs}}]]\n"
     ]
    },
    {
     "name": "stdout",
     "output_type": "stream",
     "text": [
      "INFO:tensorflow:Assets written to: ../saved_models/mean_min_max_model_1/assets\n"
     ]
    },
    {
     "name": "stderr",
     "output_type": "stream",
     "text": [
      "2023-05-18 12:00:06.711031: I tensorflow/core/common_runtime/executor.cc:1197] [/device:CPU:0] (DEBUG INFO) Executor start aborting (this does not indicate an error and you can ignore this message): INVALID_ARGUMENT: You must feed a value for placeholder tensor 'inputs' with dtype float and shape [?,256]\n",
      "\t [[{{node inputs}}]]\n",
      "2023-05-18 12:00:06.725238: I tensorflow/core/common_runtime/executor.cc:1197] [/device:CPU:0] (DEBUG INFO) Executor start aborting (this does not indicate an error and you can ignore this message): INVALID_ARGUMENT: You must feed a value for placeholder tensor 'inputs' with dtype float and shape [?,128]\n",
      "\t [[{{node inputs}}]]\n",
      "2023-05-18 12:00:06.903542: I tensorflow/core/common_runtime/executor.cc:1197] [/device:CPU:0] (DEBUG INFO) Executor start aborting (this does not indicate an error and you can ignore this message): INVALID_ARGUMENT: You must feed a value for placeholder tensor 'inputs' with dtype float and shape [?,256]\n",
      "\t [[{{node inputs}}]]\n",
      "2023-05-18 12:00:06.932945: I tensorflow/core/common_runtime/executor.cc:1197] [/device:CPU:0] (DEBUG INFO) Executor start aborting (this does not indicate an error and you can ignore this message): INVALID_ARGUMENT: You must feed a value for placeholder tensor 'inputs' with dtype float and shape [?,128]\n",
      "\t [[{{node inputs}}]]\n"
     ]
    },
    {
     "name": "stdout",
     "output_type": "stream",
     "text": [
      "INFO:tensorflow:Assets written to: ../saved_models/mean_min_max_model_2/assets\n"
     ]
    }
   ],
   "source": [
    "model.save('../saved_models/mean_min_max_model_2')"
   ],
   "metadata": {
    "collapsed": false,
    "ExecuteTime": {
     "end_time": "2023-05-18T11:00:07.463888Z",
     "start_time": "2023-05-18T11:00:06.515166Z"
    }
   }
  },
  {
   "cell_type": "markdown",
   "source": [],
   "metadata": {
    "collapsed": false
   }
  }
 ],
 "metadata": {
  "kernelspec": {
   "display_name": "Python 3",
   "language": "python",
   "name": "python3"
  },
  "language_info": {
   "codemirror_mode": {
    "name": "ipython",
    "version": 2
   },
   "file_extension": ".py",
   "mimetype": "text/x-python",
   "name": "python",
   "nbconvert_exporter": "python",
   "pygments_lexer": "ipython2",
   "version": "2.7.6"
  }
 },
 "nbformat": 4,
 "nbformat_minor": 0
}
