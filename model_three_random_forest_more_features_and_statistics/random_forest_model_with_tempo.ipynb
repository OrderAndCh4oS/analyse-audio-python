{
 "cells": [
  {
   "cell_type": "code",
   "execution_count": 5,
   "metadata": {
    "collapsed": true,
    "ExecuteTime": {
     "end_time": "2023-05-18T20:03:32.546532Z",
     "start_time": "2023-05-18T20:03:32.472203Z"
    }
   },
   "outputs": [],
   "source": [
    "import pickle\n",
    "\n",
    "import librosa.feature\n",
    "import numpy as np\n",
    "from scipy import stats\n",
    "\n",
    "import matplotlib.pyplot as plt\n",
    "import tensorflow_decision_forests as tfdf"
   ]
  },
  {
   "cell_type": "markdown",
   "source": [
    "## Define Feature Extraction\n",
    "\n",
    "Extra feature and statistics ideas from: https://github.com/mdeff/fma/blob/master/features.py"
   ],
   "metadata": {
    "collapsed": false
   }
  },
  {
   "cell_type": "code",
   "execution_count": 6,
   "outputs": [],
   "source": [
    "def get_mfcc(y, sr):\n",
    "    return np.array(librosa.feature.mfcc(y=y, sr=sr))\n",
    "\n",
    "\n",
    "def get_mel_spectrogram(y, sr):\n",
    "    return np.array(librosa.feature.melspectrogram(y=y, sr=sr))\n",
    "\n",
    "\n",
    "def get_chroma_stft(y, sr):\n",
    "    return np.array(librosa.feature.chroma_stft(y=y, sr=sr))\n",
    "\n",
    "\n",
    "def get_chroma_cens(y, sr):\n",
    "    return np.array(librosa.feature.chroma_cens(y=y, sr=sr))\n",
    "\n",
    "def get_tonnetz(y, sr):\n",
    "    return np.array(librosa.feature.tonnetz(y=y, sr=sr))\n",
    "\n",
    "\n",
    "def get_zero_crossing_rate(y):\n",
    "    return librosa.feature.zero_crossing_rate(y)\n",
    "\n",
    "\n",
    "def get_spectral_bandwidth(y, sr):\n",
    "    return librosa.feature.spectral_bandwidth(y=y, sr=sr)\n",
    "\n",
    "\n",
    "def get_spectral_centroid(y, sr):\n",
    "    return librosa.feature.spectral_centroid(y=y, sr=sr)\n",
    "\n",
    "\n",
    "def get_spectral_rolloff(y, sr):\n",
    "    return librosa.feature.spectral_rolloff(y=y, sr=sr)\n",
    "\n",
    "\n",
    "def get_spectral_contrast(y, sr):\n",
    "    return librosa.feature.spectral_contrast(y=y, sr=sr)\n",
    "\n",
    "\n",
    "def get_poly_features(y, sr):\n",
    "    return librosa.feature.poly_features(y=y, sr=sr)\n",
    "\n",
    "\n",
    "def get_tempo(y, sr):\n",
    "    onset_envelope = librosa.onset.onset_strength(y=y, sr=sr)\n",
    "    prior_lognorm = stats.lognorm(loc=np.log(120), scale=120, s=1)\n",
    "    return librosa.feature.tempo(\n",
    "        onset_envelope=onset_envelope,\n",
    "        sr=sr,\n",
    "        aggregate=None,\n",
    "        prior=prior_lognorm,\n",
    "    )\n",
    "\n",
    "\n",
    "def get_feature_stats(values):\n",
    "    return {\n",
    "        'mean': np.mean(values, axis=1),\n",
    "        'std': np.std(values, axis=1),\n",
    "        'skew': stats.skew(values, axis=1),\n",
    "        'kurtosis': stats.kurtosis(values, axis=1),\n",
    "        'median': np.median(values, axis=1),\n",
    "        'min': np.min(values, axis=1),\n",
    "        'max': np.max(values, axis=1),\n",
    "    }\n",
    "\n",
    "\n",
    "def concatenate_feature_stats(feature_stats):\n",
    "    return np.concatenate((\n",
    "        feature_stats['mean'],\n",
    "        feature_stats['std'],\n",
    "        feature_stats['skew'],\n",
    "        feature_stats['kurtosis'],\n",
    "        feature_stats['median'],\n",
    "        feature_stats['min'],\n",
    "        feature_stats['max']\n",
    "    ))\n",
    "\n",
    "\n",
    "def get_feature(y, sr):\n",
    "    mfcc = get_mfcc(y, sr)\n",
    "    feature_stats = get_feature_stats(mfcc)\n",
    "    mfcc_feature = concatenate_feature_stats(feature_stats)\n",
    "\n",
    "    mel_spectrogram = get_mel_spectrogram(y, sr)\n",
    "    feature_stats = get_feature_stats(mel_spectrogram)\n",
    "    mel_spectrogram_feature = concatenate_feature_stats(feature_stats)\n",
    "\n",
    "    chroma_stft = get_chroma_stft(y, sr)\n",
    "    feature_stats = get_feature_stats(chroma_stft)\n",
    "    chroma_stft_feature = concatenate_feature_stats(feature_stats)\n",
    "\n",
    "    chroma_cens = get_chroma_cens(y, sr)\n",
    "    feature_stats = get_feature_stats(chroma_cens)\n",
    "    chroma_cens_feature = concatenate_feature_stats(feature_stats)\n",
    "\n",
    "    tonnetz = get_tonnetz(y, sr)\n",
    "    feature_stats = get_feature_stats(tonnetz)\n",
    "    tonnetz_feature = concatenate_feature_stats(feature_stats)\n",
    "\n",
    "    zero_crossing_rate = get_zero_crossing_rate(y)\n",
    "    feature_stats = get_feature_stats(zero_crossing_rate)\n",
    "    zero_crossing_rate_feature = concatenate_feature_stats(feature_stats)\n",
    "\n",
    "    spectral_bandwidth = get_spectral_bandwidth(y, sr)\n",
    "    feature_stats = get_feature_stats(spectral_bandwidth)\n",
    "    spectral_bandwidth_feature = concatenate_feature_stats(feature_stats)\n",
    "\n",
    "    spectral_rolloff = get_spectral_rolloff(y, sr)\n",
    "    feature_stats = get_feature_stats(spectral_rolloff)\n",
    "    spectral_rolloff_feature = concatenate_feature_stats(feature_stats)\n",
    "\n",
    "    spectral_centroid = get_spectral_centroid(y, sr)\n",
    "    feature_stats = get_feature_stats(spectral_centroid)\n",
    "    spectral_centroid_feature = concatenate_feature_stats(feature_stats)\n",
    "\n",
    "    spectral_contrast = get_spectral_contrast(y, sr)\n",
    "    feature_stats = get_feature_stats(spectral_contrast)\n",
    "    spectral_contrast_feature = concatenate_feature_stats(feature_stats)\n",
    "\n",
    "    poly_features = get_poly_features(y, sr)\n",
    "    feature_stats = get_feature_stats(poly_features)\n",
    "    poly_features_feature = concatenate_feature_stats(feature_stats)\n",
    "\n",
    "    tempo = get_tempo(y, sr)\n",
    "    tempo = np.expand_dims(tempo, axis=0)\n",
    "    feature_stats = get_feature_stats(tempo)\n",
    "    tempo_feature = concatenate_feature_stats(feature_stats)\n",
    "\n",
    "    return np.concatenate((\n",
    "        chroma_stft_feature,\n",
    "        chroma_cens_feature,\n",
    "        mel_spectrogram_feature,\n",
    "        mfcc_feature,\n",
    "        tonnetz_feature,\n",
    "        zero_crossing_rate_feature,\n",
    "        spectral_bandwidth_feature,\n",
    "        spectral_centroid_feature,\n",
    "        spectral_rolloff_feature,\n",
    "        spectral_contrast_feature,\n",
    "        poly_features_feature,\n",
    "        tempo_feature,\n",
    "    ))"
   ],
   "metadata": {
    "collapsed": false,
    "ExecuteTime": {
     "end_time": "2023-05-18T20:03:32.644287Z",
     "start_time": "2023-05-18T20:03:32.497436Z"
    }
   }
  },
  {
   "cell_type": "markdown",
   "source": [
    "## Make Training Data"
   ],
   "metadata": {
    "collapsed": false
   }
  },
  {
   "cell_type": "code",
   "execution_count": 7,
   "outputs": [],
   "source": [
    "def make_training_data():\n",
    "    with open('../pickles/processed_data.pkl', 'rb') as f:\n",
    "        data = pickle.load(f)\n",
    "    xs = []\n",
    "    ys = []\n",
    "    for label, y, sr in data:\n",
    "        features = get_feature(y, sr)\n",
    "        xs.append(features)\n",
    "        ys.append(label)\n",
    "    xs = np.array(xs)\n",
    "    ys = np.array(ys)\n",
    "    print(xs.shape)\n",
    "    print(ys.shape)\n",
    "    permutations = np.random.permutation(999)\n",
    "    features = np.array(xs)[permutations]\n",
    "    labels = np.array(ys)[permutations]\n",
    "    features_train = features[0:900]\n",
    "    labels_train = labels[0:900]\n",
    "    features_test = features[900:999]\n",
    "    labels_test = labels[900:999]\n",
    "    data_set = (\n",
    "        (labels_train, features_train),\n",
    "        (labels_test, features_test)\n",
    "    )\n",
    "    with open('data_set.pkl', 'wb') as f:\n",
    "        pickle.dump(data_set, f)"
   ],
   "metadata": {
    "collapsed": false,
    "ExecuteTime": {
     "end_time": "2023-05-18T20:03:32.647049Z",
     "start_time": "2023-05-18T20:03:32.508001Z"
    }
   }
  },
  {
   "cell_type": "code",
   "execution_count": 8,
   "outputs": [
    {
     "name": "stderr",
     "output_type": "stream",
     "text": [
      "/var/folders/kr/_kzfl2bd0_b4qw4dj2c4l_x00000gn/T/ipykernel_7929/1227500455.py:59: RuntimeWarning: Precision loss occurred in moment calculation due to catastrophic cancellation. This occurs when the data are nearly identical. Results may be unreliable.\n",
      "  'skew': stats.skew(values, axis=1),\n",
      "/var/folders/kr/_kzfl2bd0_b4qw4dj2c4l_x00000gn/T/ipykernel_7929/1227500455.py:60: RuntimeWarning: Precision loss occurred in moment calculation due to catastrophic cancellation. This occurs when the data are nearly identical. Results may be unreliable.\n",
      "  'kurtosis': stats.kurtosis(values, axis=1),\n"
     ]
    },
    {
     "name": "stdout",
     "output_type": "stream",
     "text": [
      "(999, 1344)\n",
      "(999,)\n"
     ]
    }
   ],
   "source": [
    "make_training_data()"
   ],
   "metadata": {
    "collapsed": false,
    "ExecuteTime": {
     "end_time": "2023-05-18T20:24:44.773669Z",
     "start_time": "2023-05-18T20:03:32.510885Z"
    }
   }
  },
  {
   "cell_type": "markdown",
   "source": [
    "## Define Training Data Loader"
   ],
   "metadata": {
    "collapsed": false
   }
  },
  {
   "cell_type": "code",
   "execution_count": 9,
   "outputs": [],
   "source": [
    "def load_data():\n",
    "    with open('data_set.pkl', 'rb') as f:\n",
    "        data_set = pickle.load(f)\n",
    "\n",
    "    return data_set"
   ],
   "metadata": {
    "collapsed": false,
    "ExecuteTime": {
     "end_time": "2023-05-18T20:24:44.809673Z",
     "start_time": "2023-05-18T20:24:44.793577Z"
    }
   }
  },
  {
   "cell_type": "markdown",
   "source": [
    "## Define Build Model, Train and Evaluate Model"
   ],
   "metadata": {
    "collapsed": false
   }
  },
  {
   "cell_type": "code",
   "execution_count": 10,
   "outputs": [],
   "source": [
    "def build_model():\n",
    "    \"\"\"\n",
    "    https://www.tensorflow.org/decision_forests/tutorials/beginner_colab\n",
    "    \"\"\"\n",
    "\n",
    "    model = tfdf.keras.RandomForestModel(task=tfdf.keras.Task.CLASSIFICATION)\n",
    "    model.compile(metrics=[\"accuracy\"])\n",
    "\n",
    "    return model\n",
    "\n",
    "\n",
    "def train(model, data_set):\n",
    "    return model.fit(\n",
    "        x=data_set[0][1].tolist(),\n",
    "        y=data_set[0][0].tolist(),\n",
    "    )\n",
    "\n",
    "\n",
    "def evaluate_model(model, data_set):\n",
    "    return model.evaluate(x=data_set[1][1].tolist(), y=data_set[1][0].tolist(), return_dict=True)\n"
   ],
   "metadata": {
    "collapsed": false,
    "ExecuteTime": {
     "end_time": "2023-05-18T20:24:44.832725Z",
     "start_time": "2023-05-18T20:24:44.811162Z"
    }
   }
  },
  {
   "cell_type": "markdown",
   "source": [
    "## Load Training Data"
   ],
   "metadata": {
    "collapsed": false
   }
  },
  {
   "cell_type": "code",
   "execution_count": 11,
   "outputs": [],
   "source": [
    "data_set = load_data()"
   ],
   "metadata": {
    "collapsed": false,
    "ExecuteTime": {
     "end_time": "2023-05-18T20:24:44.881048Z",
     "start_time": "2023-05-18T20:24:44.819029Z"
    }
   }
  },
  {
   "cell_type": "markdown",
   "source": [
    "## Build Model"
   ],
   "metadata": {
    "collapsed": false
   }
  },
  {
   "cell_type": "code",
   "execution_count": 12,
   "outputs": [
    {
     "name": "stdout",
     "output_type": "stream",
     "text": [
      "Use /var/folders/kr/_kzfl2bd0_b4qw4dj2c4l_x00000gn/T/tmp7_cuf7xy as temporary training directory\n"
     ]
    }
   ],
   "source": [
    "model = build_model()"
   ],
   "metadata": {
    "collapsed": false,
    "ExecuteTime": {
     "end_time": "2023-05-18T20:24:45.103537Z",
     "start_time": "2023-05-18T20:24:44.873180Z"
    }
   }
  },
  {
   "cell_type": "markdown",
   "source": [
    "## Train"
   ],
   "metadata": {
    "collapsed": false
   }
  },
  {
   "cell_type": "code",
   "execution_count": 13,
   "outputs": [
    {
     "name": "stdout",
     "output_type": "stream",
     "text": [
      "Reading training dataset...\n",
      "Training dataset read in 0:00:14.587300. Found 900 examples.\n",
      "Training model...\n"
     ]
    },
    {
     "name": "stderr",
     "output_type": "stream",
     "text": [
      "[INFO 23-05-18 21:25:01.6487 BST kernel.cc:1242] Loading model from path /var/folders/kr/_kzfl2bd0_b4qw4dj2c4l_x00000gn/T/tmp7_cuf7xy/model/ with prefix ce30c4b896cd4fe6\n"
     ]
    },
    {
     "name": "stdout",
     "output_type": "stream",
     "text": [
      "Model trained in 0:00:02.295257\n",
      "Compiling model...\n"
     ]
    },
    {
     "name": "stderr",
     "output_type": "stream",
     "text": [
      "IOPub data rate exceeded.\n",
      "The notebook server will temporarily stop sending output\n",
      "to the client in order to avoid crashing it.\n",
      "To change this limit, set the config variable\n",
      "`--NotebookApp.iopub_data_rate_limit`.\n",
      "\n",
      "Current values:\n",
      "NotebookApp.iopub_data_rate_limit=1000000.0 (bytes/sec)\n",
      "NotebookApp.rate_limit_window=3.0 (secs)\n",
      "\n",
      "[INFO 23-05-18 21:25:02.0024 BST decision_forest.cc:660] Model loaded with 300 root(s), 55984 node(s), and 1332 input feature(s).\n",
      "[INFO 23-05-18 21:25:02.0024 BST abstract_model.cc:1312] Engine \"RandomForestGeneric\" built\n",
      "[INFO 23-05-18 21:25:02.0028 BST kernel.cc:1074] Use fast generic engine\n",
      "IOPub data rate exceeded.\n",
      "The notebook server will temporarily stop sending output\n",
      "to the client in order to avoid crashing it.\n",
      "To change this limit, set the config variable\n",
      "`--NotebookApp.iopub_data_rate_limit`.\n",
      "\n",
      "Current values:\n",
      "NotebookApp.iopub_data_rate_limit=1000000.0 (bytes/sec)\n",
      "NotebookApp.rate_limit_window=3.0 (secs)\n",
      "\n"
     ]
    },
    {
     "name": "stdout",
     "output_type": "stream",
     "text": [
      "Model compiled.\n"
     ]
    }
   ],
   "source": [
    "history = train(model, data_set)"
   ],
   "metadata": {
    "collapsed": false,
    "ExecuteTime": {
     "end_time": "2023-05-18T20:25:04.386099Z",
     "start_time": "2023-05-18T20:24:45.137886Z"
    }
   }
  },
  {
   "cell_type": "markdown",
   "source": [
    "## Evaluate"
   ],
   "metadata": {
    "collapsed": false
   }
  },
  {
   "cell_type": "code",
   "execution_count": 14,
   "outputs": [
    {
     "name": "stdout",
     "output_type": "stream",
     "text": [
      "WARNING:tensorflow:AutoGraph could not transform <function simple_ml_inference_op_with_handle at 0x14af72280> and will run it as-is.\n",
      "Please report this to the TensorFlow team. When filing the bug, set the verbosity to 10 (on Linux, `export AUTOGRAPH_VERBOSITY=10`) and attach the full output.\n",
      "Cause: could not get source code\n",
      "To silence this warning, decorate the function with @tf.autograph.experimental.do_not_convert\n"
     ]
    },
    {
     "name": "stderr",
     "output_type": "stream",
     "text": [
      "WARNING:tensorflow:AutoGraph could not transform <function simple_ml_inference_op_with_handle at 0x14af72280> and will run it as-is.\n",
      "Please report this to the TensorFlow team. When filing the bug, set the verbosity to 10 (on Linux, `export AUTOGRAPH_VERBOSITY=10`) and attach the full output.\n",
      "Cause: could not get source code\n",
      "To silence this warning, decorate the function with @tf.autograph.experimental.do_not_convert\n"
     ]
    },
    {
     "name": "stdout",
     "output_type": "stream",
     "text": [
      "WARNING: AutoGraph could not transform <function simple_ml_inference_op_with_handle at 0x14af72280> and will run it as-is.\n",
      "Please report this to the TensorFlow team. When filing the bug, set the verbosity to 10 (on Linux, `export AUTOGRAPH_VERBOSITY=10`) and attach the full output.\n",
      "Cause: could not get source code\n",
      "To silence this warning, decorate the function with @tf.autograph.experimental.do_not_convert\n",
      "4/4 [==============================] - 9s 7ms/step - loss: 0.0000e+00 - accuracy: 0.7172\n",
      "loss: 0.0000\n",
      "accuracy: 0.7172\n"
     ]
    }
   ],
   "source": [
    "evaluation = evaluate_model(model, data_set)\n",
    "\n",
    "for name, value in evaluation.items():\n",
    "    print(f\"{name}: {value:.4f}\")"
   ],
   "metadata": {
    "collapsed": false,
    "ExecuteTime": {
     "end_time": "2023-05-18T20:25:13.653725Z",
     "start_time": "2023-05-18T20:25:04.386831Z"
    }
   }
  },
  {
   "cell_type": "markdown",
   "source": [
    "## Plot Accuracy and Loss"
   ],
   "metadata": {
    "collapsed": false
   }
  },
  {
   "cell_type": "code",
   "execution_count": 15,
   "outputs": [
    {
     "data": {
      "text/plain": "<Figure size 1200x400 with 2 Axes>",
      "image/png": "[encoded data removed]"
     },
     "metadata": {},
     "output_type": "display_data"
    }
   ],
   "source": [
    "logs = model.make_inspector().training_logs()\n",
    "\n",
    "plt.figure(figsize=(12, 4))\n",
    "\n",
    "plt.subplot(1, 2, 1)\n",
    "plt.plot([log.num_trees for log in logs], [log.evaluation.accuracy for log in logs])\n",
    "plt.xlabel(\"Number of trees\")\n",
    "plt.ylabel(\"Accuracy (out-of-bag)\")\n",
    "\n",
    "plt.subplot(1, 2, 2)\n",
    "plt.plot([log.num_trees for log in logs], [log.evaluation.loss for log in logs])\n",
    "plt.xlabel(\"Number of trees\")\n",
    "plt.ylabel(\"Logloss (out-of-bag)\")\n",
    "\n",
    "plt.show()"
   ],
   "metadata": {
    "collapsed": false,
    "ExecuteTime": {
     "end_time": "2023-05-18T20:25:14.051159Z",
     "start_time": "2023-05-18T20:25:13.658316Z"
    }
   }
  },
  {
   "cell_type": "markdown",
   "source": [
    "## Save Model"
   ],
   "metadata": {
    "collapsed": false
   }
  },
  {
   "cell_type": "code",
   "execution_count": 16,
   "outputs": [
    {
     "name": "stderr",
     "output_type": "stream",
     "text": [
      "WARNING:absl:Found untraced functions such as call_get_leaves, _update_step_xla while saving (showing 2 of 2). These functions will not be directly callable after loading.\n"
     ]
    },
    {
     "name": "stdout",
     "output_type": "stream",
     "text": [
      "INFO:tensorflow:Assets written to: ../saved_models/random_forest_2/assets\n"
     ]
    },
    {
     "name": "stderr",
     "output_type": "stream",
     "text": [
      "INFO:tensorflow:Assets written to: ../saved_models/random_forest_2/assets\n"
     ]
    }
   ],
   "source": [
    "model.save('../saved_models/random_forest_2')"
   ],
   "metadata": {
    "collapsed": false,
    "ExecuteTime": {
     "end_time": "2023-05-18T20:25:35.566423Z",
     "start_time": "2023-05-18T20:25:14.051503Z"
    }
   }
  },
  {
   "cell_type": "markdown",
   "source": [],
   "metadata": {
    "collapsed": false
   }
  }
 ],
 "metadata": {
  "kernelspec": {
   "display_name": "Python 3",
   "language": "python",
   "name": "python3"
  },
  "language_info": {
   "codemirror_mode": {
    "name": "ipython",
    "version": 2
   },
   "file_extension": ".py",
   "mimetype": "text/x-python",
   "name": "python",
   "nbconvert_exporter": "python",
   "pygments_lexer": "ipython2",
   "version": "2.7.6"
  }
 },
 "nbformat": 4,
 "nbformat_minor": 0
}
