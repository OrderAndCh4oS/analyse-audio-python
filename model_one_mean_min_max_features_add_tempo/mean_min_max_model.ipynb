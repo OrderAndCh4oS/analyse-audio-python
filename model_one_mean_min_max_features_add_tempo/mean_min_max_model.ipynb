{
 "cells": [
  {
   "cell_type": "code",
   "execution_count": 9,
   "metadata": {
    "collapsed": true,
    "ExecuteTime": {
     "end_time": "2023-05-18T11:07:22.345837Z",
     "start_time": "2023-05-18T11:07:22.334527Z"
    }
   },
   "outputs": [],
   "source": [
    "import pickle\n",
    "\n",
    "import librosa.feature\n",
    "import numpy as np\n",
    "import tensorflow as tf\n",
    "from keras import Input, Model\n",
    "from keras.layers import Dense, Dropout\n",
    "from keras.losses import CategoricalCrossentropy\n",
    "from keras.metrics import CategoricalAccuracy\n",
    "from keras.optimizers import Adam\n",
    "import scipy.stats\n",
    "\n",
    "from utilities.training_plots import plot_loss, plot_categorical_accuracy"
   ]
  },
  {
   "cell_type": "markdown",
   "source": [
    "## Define Feature Extraction"
   ],
   "metadata": {
    "collapsed": false
   }
  },
  {
   "cell_type": "code",
   "execution_count": 6,
   "outputs": [],
   "source": [
    "def get_mfcc(y, sr):\n",
    "    return np.array(librosa.feature.mfcc(y=y, sr=sr))\n",
    "\n",
    "\n",
    "def get_mel_spectrogram(y, sr):\n",
    "    return np.array(librosa.feature.melspectrogram(y=y, sr=sr))\n",
    "\n",
    "\n",
    "def get_chroma_vector(y, sr):\n",
    "    return np.array(librosa.feature.chroma_stft(y=y, sr=sr))\n",
    "\n",
    "\n",
    "def get_tonnetz(y, sr):\n",
    "    return np.array(librosa.feature.tonnetz(y=y, sr=sr))\n",
    "\n",
    "\n",
    "def get_zero_crossings(y):\n",
    "    return librosa.zero_crossings(y, pad=False)\n",
    "\n",
    "\n",
    "def get_zero_crossing_rate(y):\n",
    "    return librosa.feature.zero_crossing_rate(y)\n",
    "\n",
    "\n",
    "def get_tempo(y, sr):\n",
    "    onset_envelope = librosa.onset.onset_strength(y=y, sr=sr)\n",
    "    prior_lognorm = scipy.stats.lognorm(loc=np.log(120), scale=120, s=1)\n",
    "    return librosa.feature.tempo(\n",
    "        onset_envelope=onset_envelope,\n",
    "        sr=sr,\n",
    "        aggregate=None,\n",
    "        prior=prior_lognorm,\n",
    "    )\n",
    "\n",
    "\n",
    "def get_feature(y, sr):\n",
    "    mfcc = get_mfcc(y, sr)\n",
    "    mfcc_mean = mfcc.mean(axis=1)\n",
    "    mfcc_min = mfcc.min(axis=1)\n",
    "    mfcc_max = mfcc.max(axis=1)\n",
    "    mfcc_feature = np.concatenate((mfcc_mean, mfcc_min, mfcc_max))\n",
    "\n",
    "    mel_spectrogram = get_mel_spectrogram(y, sr)\n",
    "    mel_spectrogram_mean = mel_spectrogram.mean(axis=1)\n",
    "    mel_spectrogram_min = mel_spectrogram.min(axis=1)\n",
    "    mel_spectrogram_max = mel_spectrogram.max(axis=1)\n",
    "    mel_spectrogram_feature = np.concatenate((mel_spectrogram_mean, mel_spectrogram_min, mel_spectrogram_max))\n",
    "\n",
    "    chroma = get_chroma_vector(y, sr)\n",
    "    chroma_mean = chroma.mean(axis=1)\n",
    "    chroma_min = chroma.min(axis=1)\n",
    "    chroma_max = chroma.max(axis=1)\n",
    "    chroma_feature = np.concatenate((chroma_mean, chroma_min, chroma_max))\n",
    "\n",
    "    tonnetz = get_tonnetz(y, sr)\n",
    "    tonnetz_mean = tonnetz.mean(axis=1)\n",
    "    tonnetz_min = tonnetz.min(axis=1)\n",
    "    tonnetz_max = tonnetz.max(axis=1)\n",
    "    tonnetz_feature = np.concatenate((tonnetz_mean, tonnetz_min, tonnetz_max))\n",
    "\n",
    "    zero_crossing_rate = get_zero_crossing_rate(y)\n",
    "    zero_crossing_rate_mean = zero_crossing_rate.mean(axis=1)\n",
    "    zero_crossing_rate_min = zero_crossing_rate.min(axis=1)\n",
    "    zero_crossing_rate_max = zero_crossing_rate.max(axis=1)\n",
    "    zero_crossing_feature = np.concatenate((\n",
    "        zero_crossing_rate_mean,\n",
    "        zero_crossing_rate_min,\n",
    "        zero_crossing_rate_max\n",
    "    ))\n",
    "\n",
    "    tempo = get_tempo(y, sr)\n",
    "    tempo_mean = tempo.mean()\n",
    "    tempo_min = tempo.min()\n",
    "    tempo_max = tempo.max()\n",
    "    tempo_feature = np.array([tempo_mean, tempo_min, tempo_max])\n",
    "\n",
    "    return np.concatenate((\n",
    "        chroma_feature,\n",
    "        mel_spectrogram_feature,\n",
    "        mfcc_feature,\n",
    "        tonnetz_feature,\n",
    "        zero_crossing_feature,\n",
    "        tempo_feature\n",
    "    ))"
   ],
   "metadata": {
    "collapsed": false,
    "ExecuteTime": {
     "end_time": "2023-05-18T11:00:37.695888Z",
     "start_time": "2023-05-18T11:00:37.525638Z"
    }
   }
  },
  {
   "cell_type": "markdown",
   "source": [
    "## Make Training Data"
   ],
   "metadata": {
    "collapsed": false
   }
  },
  {
   "cell_type": "code",
   "execution_count": 7,
   "outputs": [],
   "source": [
    "def make_training_data():\n",
    "    with open('../pickles/processed_data.pkl', 'rb') as f:\n",
    "        data = pickle.load(f)\n",
    "    xs = []\n",
    "    ys = []\n",
    "    for label, y, sr, filename in data:\n",
    "        features = get_feature(y, sr)\n",
    "        xs.append(features)\n",
    "        ys.append(label)\n",
    "    xs = np.array(xs)\n",
    "    ys = tf.one_hot(np.array(ys), 10)\n",
    "    print(xs.shape)\n",
    "    print(ys.shape)\n",
    "\n",
    "    permutations = np.random.permutation(999)\n",
    "    features = np.array(xs)[permutations]\n",
    "    labels = np.array(ys)[permutations]\n",
    "    features_train = features[0:700]\n",
    "    labels_train = labels[0:700]\n",
    "    features_validate = features[700:850]\n",
    "    labels_validate = labels[700:850]\n",
    "    features_test = features[850:999]\n",
    "    labels_test = labels[850:999]\n",
    "    data_set = (\n",
    "        (labels_train, features_train),\n",
    "        (labels_validate, features_validate),\n",
    "        (labels_test, features_test)\n",
    "    )\n",
    "    with open('data_set.pkl', 'wb') as f:\n",
    "        pickle.dump(data_set, f)"
   ],
   "metadata": {
    "collapsed": false,
    "ExecuteTime": {
     "end_time": "2023-05-18T11:00:37.736411Z",
     "start_time": "2023-05-18T11:00:37.533542Z"
    }
   }
  },
  {
   "cell_type": "code",
   "execution_count": 22,
   "outputs": [
    {
     "name": "stdout",
     "output_type": "stream",
     "text": [
      "(999, 504)\n",
      "(999, 10)\n"
     ]
    }
   ],
   "source": [
    "make_training_data()"
   ],
   "metadata": {
    "collapsed": false,
    "ExecuteTime": {
     "end_time": "2023-05-18T12:00:06.076312Z",
     "start_time": "2023-05-18T11:31:02.742903Z"
    }
   }
  },
  {
   "cell_type": "markdown",
   "source": [
    "## Define Training Data Loader"
   ],
   "metadata": {
    "collapsed": false
   }
  },
  {
   "cell_type": "code",
   "execution_count": 12,
   "outputs": [],
   "source": [
    "def load_data():\n",
    "    with open('data_set.pkl', 'rb') as f:\n",
    "        data_set = pickle.load(f)\n",
    "\n",
    "    return data_set"
   ],
   "metadata": {
    "collapsed": false,
    "ExecuteTime": {
     "end_time": "2023-05-18T11:30:08.024631Z",
     "start_time": "2023-05-18T11:30:07.914351Z"
    }
   }
  },
  {
   "cell_type": "markdown",
   "source": [
    "## Define Build Model, Train and Evaluate Model"
   ],
   "metadata": {
    "collapsed": false
   }
  },
  {
   "cell_type": "code",
   "execution_count": 18,
   "outputs": [],
   "source": [
    "def build_model():\n",
    "    inputs = Input(shape=504, name=\"feature\")\n",
    "    x = Dense(512, activation=\"relu\", name=\"dense_1\")(inputs)\n",
    "    x = Dropout(0.1, name=\"dropout_1\")(x)\n",
    "    x = Dense(256, activation=\"relu\", name=\"dense_2\")(x)\n",
    "    x = Dropout(0.1, name=\"dropout_2\")(x)\n",
    "    x = Dense(128, activation=\"relu\", name=\"dense_3\")(x)\n",
    "    outputs = Dense(10, activation=\"softmax\", name=\"predictions\")(x)\n",
    "    model = Model(inputs=inputs, outputs=outputs)\n",
    "    model.compile(\n",
    "        optimizer=Adam(),\n",
    "        loss=CategoricalCrossentropy(),\n",
    "        metrics=[CategoricalAccuracy()],\n",
    "    )\n",
    "\n",
    "    return model\n",
    "\n",
    "\n",
    "def train(model, data_set):\n",
    "    return model.fit(\n",
    "        x=data_set[0][1].tolist(),\n",
    "        y=data_set[0][0].tolist(),\n",
    "        verbose=1,\n",
    "        validation_data=(data_set[1][1].tolist(), data_set[1][0].tolist()),\n",
    "        epochs=30\n",
    "    )\n",
    "\n",
    "\n",
    "def evaluate_model(model, data_set):\n",
    "    return model.evaluate(x=data_set[2][1].tolist(), y=data_set[2][0].tolist(), verbose=0, return_dict=True)\n"
   ],
   "metadata": {
    "collapsed": false,
    "ExecuteTime": {
     "end_time": "2023-05-18T11:30:33.276460Z",
     "start_time": "2023-05-18T11:30:33.272615Z"
    }
   }
  },
  {
   "cell_type": "markdown",
   "source": [
    "## Load Training Data"
   ],
   "metadata": {
    "collapsed": false
   }
  },
  {
   "cell_type": "code",
   "execution_count": 14,
   "outputs": [],
   "source": [
    "data_set = load_data()"
   ],
   "metadata": {
    "collapsed": false,
    "ExecuteTime": {
     "end_time": "2023-05-18T11:30:08.138134Z",
     "start_time": "2023-05-18T11:30:07.943972Z"
    }
   }
  },
  {
   "cell_type": "markdown",
   "source": [
    "## Build Model"
   ],
   "metadata": {
    "collapsed": false
   }
  },
  {
   "cell_type": "code",
   "execution_count": 23,
   "outputs": [
    {
     "name": "stdout",
     "output_type": "stream",
     "text": [
      "Model: \"model_1\"\n",
      "_________________________________________________________________\n",
      " Layer (type)                Output Shape              Param #   \n",
      "=================================================================\n",
      " feature (InputLayer)        [(None, 504)]             0         \n",
      "                                                                 \n",
      " dense_1 (Dense)             (None, 512)               258560    \n",
      "                                                                 \n",
      " dropout_1 (Dropout)         (None, 512)               0         \n",
      "                                                                 \n",
      " dense_2 (Dense)             (None, 256)               131328    \n",
      "                                                                 \n",
      " dropout_2 (Dropout)         (None, 256)               0         \n",
      "                                                                 \n",
      " dense_3 (Dense)             (None, 128)               32896     \n",
      "                                                                 \n",
      " predictions (Dense)         (None, 10)                1290      \n",
      "                                                                 \n",
      "=================================================================\n",
      "Total params: 424,074\n",
      "Trainable params: 424,074\n",
      "Non-trainable params: 0\n",
      "_________________________________________________________________\n"
     ]
    }
   ],
   "source": [
    "model = build_model()\n",
    "model.summary()"
   ],
   "metadata": {
    "collapsed": false,
    "ExecuteTime": {
     "end_time": "2023-05-18T12:14:49.901755Z",
     "start_time": "2023-05-18T12:14:49.783293Z"
    }
   }
  },
  {
   "cell_type": "markdown",
   "source": [
    "## Train"
   ],
   "metadata": {
    "collapsed": false
   }
  },
  {
   "cell_type": "code",
   "execution_count": 24,
   "outputs": [
    {
     "name": "stdout",
     "output_type": "stream",
     "text": [
      "Epoch 1/30\n",
      "22/22 [==============================] - 1s 25ms/step - loss: 70.3246 - categorical_accuracy: 0.2257 - val_loss: 36.1697 - val_categorical_accuracy: 0.2733\n",
      "Epoch 2/30\n",
      "22/22 [==============================] - 0s 6ms/step - loss: 21.2873 - categorical_accuracy: 0.3214 - val_loss: 16.0638 - val_categorical_accuracy: 0.3400\n",
      "Epoch 3/30\n",
      "22/22 [==============================] - 0s 6ms/step - loss: 10.5001 - categorical_accuracy: 0.3729 - val_loss: 10.9479 - val_categorical_accuracy: 0.3667\n",
      "Epoch 4/30\n",
      "22/22 [==============================] - 0s 6ms/step - loss: 7.3931 - categorical_accuracy: 0.4014 - val_loss: 8.9066 - val_categorical_accuracy: 0.3600\n",
      "Epoch 5/30\n",
      "22/22 [==============================] - 0s 7ms/step - loss: 6.1599 - categorical_accuracy: 0.4071 - val_loss: 6.6437 - val_categorical_accuracy: 0.4267\n",
      "Epoch 6/30\n",
      "22/22 [==============================] - 0s 7ms/step - loss: 4.5419 - categorical_accuracy: 0.4671 - val_loss: 6.7983 - val_categorical_accuracy: 0.3933\n",
      "Epoch 7/30\n",
      "22/22 [==============================] - 0s 6ms/step - loss: 4.2612 - categorical_accuracy: 0.4671 - val_loss: 5.1000 - val_categorical_accuracy: 0.4467\n",
      "Epoch 8/30\n",
      "22/22 [==============================] - 0s 6ms/step - loss: 3.1378 - categorical_accuracy: 0.4957 - val_loss: 4.9603 - val_categorical_accuracy: 0.4000\n",
      "Epoch 9/30\n",
      "22/22 [==============================] - 0s 5ms/step - loss: 2.7902 - categorical_accuracy: 0.5500 - val_loss: 4.7165 - val_categorical_accuracy: 0.4600\n",
      "Epoch 10/30\n",
      "22/22 [==============================] - 0s 6ms/step - loss: 2.5433 - categorical_accuracy: 0.5529 - val_loss: 3.8717 - val_categorical_accuracy: 0.4333\n",
      "Epoch 11/30\n",
      "22/22 [==============================] - 0s 6ms/step - loss: 2.4662 - categorical_accuracy: 0.5957 - val_loss: 4.5812 - val_categorical_accuracy: 0.4200\n",
      "Epoch 12/30\n",
      "22/22 [==============================] - 0s 6ms/step - loss: 1.9111 - categorical_accuracy: 0.6143 - val_loss: 4.3986 - val_categorical_accuracy: 0.4400\n",
      "Epoch 13/30\n",
      "22/22 [==============================] - 0s 6ms/step - loss: 1.9388 - categorical_accuracy: 0.6471 - val_loss: 4.0697 - val_categorical_accuracy: 0.4400\n",
      "Epoch 14/30\n",
      "22/22 [==============================] - 0s 6ms/step - loss: 1.6646 - categorical_accuracy: 0.6571 - val_loss: 3.8707 - val_categorical_accuracy: 0.4733\n",
      "Epoch 15/30\n",
      "22/22 [==============================] - 0s 6ms/step - loss: 1.4472 - categorical_accuracy: 0.7000 - val_loss: 3.7466 - val_categorical_accuracy: 0.5000\n",
      "Epoch 16/30\n",
      "22/22 [==============================] - 0s 6ms/step - loss: 1.4108 - categorical_accuracy: 0.6614 - val_loss: 3.6225 - val_categorical_accuracy: 0.4733\n",
      "Epoch 17/30\n",
      "22/22 [==============================] - 0s 6ms/step - loss: 1.3326 - categorical_accuracy: 0.6943 - val_loss: 3.8166 - val_categorical_accuracy: 0.4667\n",
      "Epoch 18/30\n",
      "22/22 [==============================] - 0s 5ms/step - loss: 1.3083 - categorical_accuracy: 0.6871 - val_loss: 3.1540 - val_categorical_accuracy: 0.5400\n",
      "Epoch 19/30\n",
      "22/22 [==============================] - 0s 5ms/step - loss: 1.0266 - categorical_accuracy: 0.7171 - val_loss: 3.5660 - val_categorical_accuracy: 0.5200\n",
      "Epoch 20/30\n",
      "22/22 [==============================] - 0s 6ms/step - loss: 1.0595 - categorical_accuracy: 0.7457 - val_loss: 4.2242 - val_categorical_accuracy: 0.5267\n",
      "Epoch 21/30\n",
      "22/22 [==============================] - 0s 6ms/step - loss: 1.0979 - categorical_accuracy: 0.7429 - val_loss: 3.3812 - val_categorical_accuracy: 0.5400\n",
      "Epoch 22/30\n",
      "22/22 [==============================] - 0s 6ms/step - loss: 0.9612 - categorical_accuracy: 0.7514 - val_loss: 3.2564 - val_categorical_accuracy: 0.5200\n",
      "Epoch 23/30\n",
      "22/22 [==============================] - 0s 5ms/step - loss: 0.7640 - categorical_accuracy: 0.7914 - val_loss: 3.3945 - val_categorical_accuracy: 0.5400\n",
      "Epoch 24/30\n",
      "22/22 [==============================] - 0s 6ms/step - loss: 0.9133 - categorical_accuracy: 0.7700 - val_loss: 3.0631 - val_categorical_accuracy: 0.5867\n",
      "Epoch 25/30\n",
      "22/22 [==============================] - 0s 6ms/step - loss: 0.8645 - categorical_accuracy: 0.7814 - val_loss: 3.6267 - val_categorical_accuracy: 0.5067\n",
      "Epoch 26/30\n",
      "22/22 [==============================] - 0s 6ms/step - loss: 0.7861 - categorical_accuracy: 0.7857 - val_loss: 3.2632 - val_categorical_accuracy: 0.5400\n",
      "Epoch 27/30\n",
      "22/22 [==============================] - 0s 6ms/step - loss: 0.7371 - categorical_accuracy: 0.8114 - val_loss: 3.7136 - val_categorical_accuracy: 0.5133\n",
      "Epoch 28/30\n",
      "22/22 [==============================] - 0s 6ms/step - loss: 0.6463 - categorical_accuracy: 0.8314 - val_loss: 3.2753 - val_categorical_accuracy: 0.5333\n",
      "Epoch 29/30\n",
      "22/22 [==============================] - 0s 6ms/step - loss: 0.6292 - categorical_accuracy: 0.8257 - val_loss: 3.7015 - val_categorical_accuracy: 0.4933\n",
      "Epoch 30/30\n",
      "22/22 [==============================] - 0s 6ms/step - loss: 0.5710 - categorical_accuracy: 0.8457 - val_loss: 3.5049 - val_categorical_accuracy: 0.5600\n"
     ]
    }
   ],
   "source": [
    "history = train(model, data_set)"
   ],
   "metadata": {
    "collapsed": false,
    "ExecuteTime": {
     "end_time": "2023-05-18T12:14:56.345295Z",
     "start_time": "2023-05-18T12:14:50.118249Z"
    }
   }
  },
  {
   "cell_type": "markdown",
   "source": [
    "## Evaluate"
   ],
   "metadata": {
    "collapsed": false
   }
  },
  {
   "cell_type": "code",
   "execution_count": 25,
   "outputs": [
    {
     "name": "stdout",
     "output_type": "stream",
     "text": [
      "loss: 3.8307\n",
      "categorical_accuracy: 0.5168\n"
     ]
    }
   ],
   "source": [
    "evaluation = evaluate_model(model, data_set)\n",
    "\n",
    "for name, value in evaluation.items():\n",
    "    print(f\"{name}: {value:.4f}\")"
   ],
   "metadata": {
    "collapsed": false,
    "ExecuteTime": {
     "end_time": "2023-05-18T12:14:56.643449Z",
     "start_time": "2023-05-18T12:14:56.425907Z"
    }
   }
  },
  {
   "cell_type": "markdown",
   "source": [
    "## Plot Accuracy and Loss"
   ],
   "metadata": {
    "collapsed": false
   }
  },
  {
   "cell_type": "code",
   "execution_count": 26,
   "outputs": [
    {
     "data": {
      "text/plain": "<Figure size 640x480 with 1 Axes>",
      "image/png": "[encoded data removed]"
     },
     "metadata": {},
     "output_type": "display_data"
    },
    {
     "data": {
      "text/plain": "<Figure size 640x480 with 1 Axes>",
      "image/png": "[encoded data removed]"
     },
     "metadata": {},
     "output_type": "display_data"
    }
   ],
   "source": [
    "plot_categorical_accuracy(history)\n",
    "plot_loss(history)\n",
    "# plot_history(history)"
   ],
   "metadata": {
    "collapsed": false,
    "ExecuteTime": {
     "end_time": "2023-05-18T12:14:57.052819Z",
     "start_time": "2023-05-18T12:14:56.676317Z"
    }
   }
  },
  {
   "cell_type": "markdown",
   "source": [
    "## Save Model"
   ],
   "metadata": {
    "collapsed": false
   }
  },
  {
   "cell_type": "code",
   "execution_count": 27,
   "outputs": [
    {
     "name": "stderr",
     "output_type": "stream",
     "text": [
      "2023-05-18 13:14:57.211920: I tensorflow/core/common_runtime/executor.cc:1197] [/device:CPU:0] (DEBUG INFO) Executor start aborting (this does not indicate an error and you can ignore this message): INVALID_ARGUMENT: You must feed a value for placeholder tensor 'inputs' with dtype float and shape [?,512]\n",
      "\t [[{{node inputs}}]]\n",
      "2023-05-18 13:14:57.226620: I tensorflow/core/common_runtime/executor.cc:1197] [/device:CPU:0] (DEBUG INFO) Executor start aborting (this does not indicate an error and you can ignore this message): INVALID_ARGUMENT: You must feed a value for placeholder tensor 'inputs' with dtype float and shape [?,256]\n",
      "\t [[{{node inputs}}]]\n",
      "2023-05-18 13:14:57.367959: I tensorflow/core/common_runtime/executor.cc:1197] [/device:CPU:0] (DEBUG INFO) Executor start aborting (this does not indicate an error and you can ignore this message): INVALID_ARGUMENT: You must feed a value for placeholder tensor 'inputs' with dtype float and shape [?,512]\n",
      "\t [[{{node inputs}}]]\n",
      "2023-05-18 13:14:57.391006: I tensorflow/core/common_runtime/executor.cc:1197] [/device:CPU:0] (DEBUG INFO) Executor start aborting (this does not indicate an error and you can ignore this message): INVALID_ARGUMENT: You must feed a value for placeholder tensor 'inputs' with dtype float and shape [?,256]\n",
      "\t [[{{node inputs}}]]\n"
     ]
    },
    {
     "name": "stdout",
     "output_type": "stream",
     "text": [
      "INFO:tensorflow:Assets written to: ../saved_models/mean_min_max_model_3/assets\n"
     ]
    }
   ],
   "source": [
    "model.save('../saved_models/mean_min_max_model_3')"
   ],
   "metadata": {
    "collapsed": false,
    "ExecuteTime": {
     "end_time": "2023-05-18T12:14:57.744970Z",
     "start_time": "2023-05-18T12:14:57.052617Z"
    }
   }
  },
  {
   "cell_type": "markdown",
   "source": [],
   "metadata": {
    "collapsed": false
   }
  }
 ],
 "metadata": {
  "kernelspec": {
   "display_name": "Python 3",
   "language": "python",
   "name": "python3"
  },
  "language_info": {
   "codemirror_mode": {
    "name": "ipython",
    "version": 2
   },
   "file_extension": ".py",
   "mimetype": "text/x-python",
   "name": "python",
   "nbconvert_exporter": "python",
   "pygments_lexer": "ipython2",
   "version": "2.7.6"
  }
 },
 "nbformat": 4,
 "nbformat_minor": 0
}
