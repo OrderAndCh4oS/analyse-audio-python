{
 "cells": [
  {
   "cell_type": "code",
   "execution_count": 2,
   "metadata": {
    "collapsed": true,
    "ExecuteTime": {
     "end_time": "2023-05-18T10:00:14.938255Z",
     "start_time": "2023-05-18T10:00:01.147282Z"
    }
   },
   "outputs": [
    {
     "name": "stderr",
     "output_type": "stream",
     "text": [
      "2023-05-18 11:00:08.756661: I tensorflow/core/platform/cpu_feature_guard.cc:182] This TensorFlow binary is optimized to use available CPU instructions in performance-critical operations.\n",
      "To enable the following instructions: AVX2 FMA, in other operations, rebuild TensorFlow with the appropriate compiler flags.\n"
     ]
    }
   ],
   "source": [
    "import pickle\n",
    "\n",
    "import librosa.feature\n",
    "import numpy as np\n",
    "import scipy.stats\n",
    "\n",
    "import matplotlib.pyplot as plt\n",
    "import tensorflow_decision_forests as tfdf"
   ]
  },
  {
   "cell_type": "markdown",
   "source": [
    "## Define Feature Extraction"
   ],
   "metadata": {
    "collapsed": false
   }
  },
  {
   "cell_type": "code",
   "execution_count": 3,
   "outputs": [],
   "source": [
    "def get_mfcc(y, sr):\n",
    "    return np.array(librosa.feature.mfcc(y=y, sr=sr))\n",
    "\n",
    "\n",
    "def get_mel_spectrogram(y, sr):\n",
    "    return np.array(librosa.feature.melspectrogram(y=y, sr=sr))\n",
    "\n",
    "\n",
    "def get_chroma_vector(y, sr):\n",
    "    return np.array(librosa.feature.chroma_stft(y=y, sr=sr))\n",
    "\n",
    "\n",
    "def get_tonnetz(y, sr):\n",
    "    return np.array(librosa.feature.tonnetz(y=y, sr=sr))\n",
    "\n",
    "\n",
    "def get_zero_crossings(y):\n",
    "    return librosa.zero_crossings(y, pad=False)\n",
    "\n",
    "\n",
    "def get_zero_crossing_rate(y):\n",
    "    return librosa.feature.zero_crossing_rate(y)\n",
    "\n",
    "\n",
    "def get_tempo(y, sr):\n",
    "    onset_envelope = librosa.onset.onset_strength(y=y, sr=sr)\n",
    "    prior_lognorm = scipy.stats.lognorm(loc=np.log(120), scale=120, s=1)\n",
    "    return librosa.feature.tempo(\n",
    "        onset_envelope=onset_envelope,\n",
    "        sr=sr,\n",
    "        aggregate=None,\n",
    "        prior=prior_lognorm,\n",
    "    )\n",
    "\n",
    "\n",
    "def get_feature(y, sr):\n",
    "    mfcc = get_mfcc(y, sr)\n",
    "    mfcc_mean = mfcc.mean(axis=1)\n",
    "    mfcc_min = mfcc.min(axis=1)\n",
    "    mfcc_max = mfcc.max(axis=1)\n",
    "    mfcc_feature = np.concatenate((mfcc_mean, mfcc_min, mfcc_max))\n",
    "\n",
    "    mel_spectrogram = get_mel_spectrogram(y, sr)\n",
    "    mel_spectrogram_mean = mel_spectrogram.mean(axis=1)\n",
    "    mel_spectrogram_min = mel_spectrogram.min(axis=1)\n",
    "    mel_spectrogram_max = mel_spectrogram.max(axis=1)\n",
    "    mel_spectrogram_feature = np.concatenate((mel_spectrogram_mean, mel_spectrogram_min, mel_spectrogram_max))\n",
    "\n",
    "    chroma = get_chroma_vector(y, sr)\n",
    "    chroma_mean = chroma.mean(axis=1)\n",
    "    chroma_min = chroma.min(axis=1)\n",
    "    chroma_max = chroma.max(axis=1)\n",
    "    chroma_feature = np.concatenate((chroma_mean, chroma_min, chroma_max))\n",
    "\n",
    "    tonnetz = get_tonnetz(y, sr)\n",
    "    tonnetz_mean = tonnetz.mean(axis=1)\n",
    "    tonnetz_min = tonnetz.min(axis=1)\n",
    "    tonnetz_max = tonnetz.max(axis=1)\n",
    "    tonnetz_feature = np.concatenate((tonnetz_mean, tonnetz_min, tonnetz_max))\n",
    "\n",
    "    zero_crossing_rate = get_zero_crossing_rate(y)\n",
    "    zero_crossing_rate_mean = zero_crossing_rate.mean(axis=1)\n",
    "    zero_crossing_rate_min = zero_crossing_rate.min(axis=1)\n",
    "    zero_crossing_rate_max = zero_crossing_rate.max(axis=1)\n",
    "    zero_crossing_feature = np.concatenate((\n",
    "        zero_crossing_rate_mean,\n",
    "        zero_crossing_rate_min,\n",
    "        zero_crossing_rate_max\n",
    "    ))\n",
    "\n",
    "    tempo = get_tempo(y, sr)\n",
    "    tempo_mean = tempo.mean()\n",
    "    tempo_min = tempo.min()\n",
    "    tempo_max = tempo.max()\n",
    "    tempo_feature = np.array([tempo_mean, tempo_min, tempo_max])\n",
    "\n",
    "    return np.concatenate((\n",
    "        chroma_feature,\n",
    "        mel_spectrogram_feature,\n",
    "        mfcc_feature,\n",
    "        tonnetz_feature,\n",
    "        zero_crossing_feature,\n",
    "        tempo_feature\n",
    "    ))"
   ],
   "metadata": {
    "collapsed": false,
    "ExecuteTime": {
     "end_time": "2023-05-18T10:00:14.952131Z",
     "start_time": "2023-05-18T10:00:14.950215Z"
    }
   }
  },
  {
   "cell_type": "markdown",
   "source": [
    "## Make Training Data"
   ],
   "metadata": {
    "collapsed": false
   }
  },
  {
   "cell_type": "code",
   "execution_count": 4,
   "outputs": [],
   "source": [
    "def make_training_data():\n",
    "    with open('../pickles/processed_data.pkl', 'rb') as f:\n",
    "        data = pickle.load(f)\n",
    "    xs = []\n",
    "    ys = []\n",
    "    for label, y, sr in data:\n",
    "        features = get_feature(y, sr)\n",
    "        xs.append(features)\n",
    "        ys.append(label)\n",
    "    xs = np.array(xs)\n",
    "    ys = np.array(ys)\n",
    "    print(xs.shape)\n",
    "    print(ys.shape)\n",
    "    permutations = np.random.permutation(999)\n",
    "    features = np.array(xs)[permutations]\n",
    "    labels = np.array(ys)[permutations]\n",
    "    features_train = features[0:900]\n",
    "    labels_train = labels[0:900]\n",
    "    features_test = features[900:999]\n",
    "    labels_test = labels[900:999]\n",
    "    data_set = (\n",
    "        (labels_train, features_train),\n",
    "        (labels_test, features_test)\n",
    "    )\n",
    "    with open('data_set.pkl', 'wb') as f:\n",
    "        pickle.dump(data_set, f)"
   ],
   "metadata": {
    "collapsed": false,
    "ExecuteTime": {
     "end_time": "2023-05-18T10:00:14.980840Z",
     "start_time": "2023-05-18T10:00:14.955744Z"
    }
   }
  },
  {
   "cell_type": "code",
   "execution_count": 5,
   "outputs": [
    {
     "name": "stdout",
     "output_type": "stream",
     "text": [
      "(999, 504)\n",
      "(999,)\n"
     ]
    }
   ],
   "source": [
    "make_training_data()"
   ],
   "metadata": {
    "collapsed": false,
    "ExecuteTime": {
     "end_time": "2023-05-18T10:11:17.719052Z",
     "start_time": "2023-05-18T10:00:14.975748Z"
    }
   }
  },
  {
   "cell_type": "markdown",
   "source": [
    "## Define Training Data Loader"
   ],
   "metadata": {
    "collapsed": false
   }
  },
  {
   "cell_type": "code",
   "execution_count": 6,
   "outputs": [],
   "source": [
    "def load_data():\n",
    "    with open('data_set.pkl', 'rb') as f:\n",
    "        data_set = pickle.load(f)\n",
    "\n",
    "    return data_set"
   ],
   "metadata": {
    "collapsed": false,
    "ExecuteTime": {
     "end_time": "2023-05-18T10:11:17.725258Z",
     "start_time": "2023-05-18T10:11:17.719903Z"
    }
   }
  },
  {
   "cell_type": "markdown",
   "source": [
    "## Define Build Model, Train and Evaluate Model"
   ],
   "metadata": {
    "collapsed": false
   }
  },
  {
   "cell_type": "code",
   "execution_count": 7,
   "outputs": [],
   "source": [
    "def build_model():\n",
    "    \"\"\"\n",
    "    https://www.tensorflow.org/decision_forests/tutorials/beginner_colab\n",
    "    \"\"\"\n",
    "\n",
    "    model = tfdf.keras.RandomForestModel(task=tfdf.keras.Task.CLASSIFICATION)\n",
    "    model.compile(metrics=[\"accuracy\"])\n",
    "\n",
    "    return model\n",
    "\n",
    "\n",
    "def train(model, data_set):\n",
    "    return model.fit(\n",
    "        x=data_set[0][1].tolist(),\n",
    "        y=data_set[0][0].tolist(),\n",
    "    )\n",
    "\n",
    "\n",
    "def evaluate_model(model, data_set):\n",
    "    return model.evaluate(x=data_set[1][1].tolist(), y=data_set[1][0].tolist(), return_dict=True)\n"
   ],
   "metadata": {
    "collapsed": false,
    "ExecuteTime": {
     "end_time": "2023-05-18T10:11:17.732083Z",
     "start_time": "2023-05-18T10:11:17.728523Z"
    }
   }
  },
  {
   "cell_type": "markdown",
   "source": [
    "## Load Training Data"
   ],
   "metadata": {
    "collapsed": false
   }
  },
  {
   "cell_type": "code",
   "execution_count": 8,
   "outputs": [],
   "source": [
    "data_set = load_data()"
   ],
   "metadata": {
    "collapsed": false,
    "ExecuteTime": {
     "end_time": "2023-05-18T10:11:17.739778Z",
     "start_time": "2023-05-18T10:11:17.734350Z"
    }
   }
  },
  {
   "cell_type": "markdown",
   "source": [
    "## Build Model"
   ],
   "metadata": {
    "collapsed": false
   }
  },
  {
   "cell_type": "code",
   "execution_count": 9,
   "outputs": [
    {
     "name": "stdout",
     "output_type": "stream",
     "text": [
      "Use /var/folders/kr/_kzfl2bd0_b4qw4dj2c4l_x00000gn/T/tmpflh3b4lh as temporary training directory\n"
     ]
    }
   ],
   "source": [
    "model = build_model()"
   ],
   "metadata": {
    "collapsed": false,
    "ExecuteTime": {
     "end_time": "2023-05-18T10:11:17.801789Z",
     "start_time": "2023-05-18T10:11:17.769382Z"
    }
   }
  },
  {
   "cell_type": "markdown",
   "source": [
    "## Train"
   ],
   "metadata": {
    "collapsed": false
   }
  },
  {
   "cell_type": "code",
   "execution_count": 10,
   "outputs": [
    {
     "name": "stdout",
     "output_type": "stream",
     "text": [
      "Reading training dataset...\n",
      "Training dataset read in 0:00:10.498991. Found 900 examples.\n",
      "Training model...\n"
     ]
    },
    {
     "name": "stderr",
     "output_type": "stream",
     "text": [
      "[INFO 23-05-18 11:11:29.5362 BST kernel.cc:1242] Loading model from path /var/folders/kr/_kzfl2bd0_b4qw4dj2c4l_x00000gn/T/tmpflh3b4lh/model/ with prefix db8b55ffaa0c4506\n"
     ]
    },
    {
     "name": "stdout",
     "output_type": "stream",
     "text": [
      "Model trained in 0:00:01.529227\n",
      "Compiling model...\n"
     ]
    },
    {
     "name": "stderr",
     "output_type": "stream",
     "text": [
      "IOPub data rate exceeded.\n",
      "The notebook server will temporarily stop sending output\n",
      "to the client in order to avoid crashing it.\n",
      "To change this limit, set the config variable\n",
      "`--NotebookApp.iopub_data_rate_limit`.\n",
      "\n",
      "Current values:\n",
      "NotebookApp.iopub_data_rate_limit=1000000.0 (bytes/sec)\n",
      "NotebookApp.rate_limit_window=3.0 (secs)\n",
      "\n",
      "[INFO 23-05-18 11:11:29.8288 BST decision_forest.cc:660] Model loaded with 300 root(s), 59348 node(s), and 494 input feature(s).\n",
      "[INFO 23-05-18 11:11:29.8290 BST abstract_model.cc:1312] Engine \"RandomForestGeneric\" built\n",
      "[INFO 23-05-18 11:11:29.8291 BST kernel.cc:1074] Use fast generic engine\n",
      "IOPub data rate exceeded.\n",
      "The notebook server will temporarily stop sending output\n",
      "to the client in order to avoid crashing it.\n",
      "To change this limit, set the config variable\n",
      "`--NotebookApp.iopub_data_rate_limit`.\n",
      "\n",
      "Current values:\n",
      "NotebookApp.iopub_data_rate_limit=1000000.0 (bytes/sec)\n",
      "NotebookApp.rate_limit_window=3.0 (secs)\n",
      "\n"
     ]
    },
    {
     "name": "stdout",
     "output_type": "stream",
     "text": [
      "Model compiled.\n"
     ]
    }
   ],
   "source": [
    "history = train(model, data_set)"
   ],
   "metadata": {
    "collapsed": false,
    "ExecuteTime": {
     "end_time": "2023-05-18T10:11:31.140346Z",
     "start_time": "2023-05-18T10:11:17.824543Z"
    }
   }
  },
  {
   "cell_type": "markdown",
   "source": [
    "## Evaluate"
   ],
   "metadata": {
    "collapsed": false
   }
  },
  {
   "cell_type": "code",
   "execution_count": 11,
   "outputs": [
    {
     "name": "stdout",
     "output_type": "stream",
     "text": [
      "WARNING:tensorflow:AutoGraph could not transform <function simple_ml_inference_op_with_handle at 0x144b81160> and will run it as-is.\n",
      "Please report this to the TensorFlow team. When filing the bug, set the verbosity to 10 (on Linux, `export AUTOGRAPH_VERBOSITY=10`) and attach the full output.\n",
      "Cause: could not get source code\n",
      "To silence this warning, decorate the function with @tf.autograph.experimental.do_not_convert\n"
     ]
    },
    {
     "name": "stderr",
     "output_type": "stream",
     "text": [
      "WARNING:tensorflow:AutoGraph could not transform <function simple_ml_inference_op_with_handle at 0x144b81160> and will run it as-is.\n",
      "Please report this to the TensorFlow team. When filing the bug, set the verbosity to 10 (on Linux, `export AUTOGRAPH_VERBOSITY=10`) and attach the full output.\n",
      "Cause: could not get source code\n",
      "To silence this warning, decorate the function with @tf.autograph.experimental.do_not_convert\n"
     ]
    },
    {
     "name": "stdout",
     "output_type": "stream",
     "text": [
      "WARNING: AutoGraph could not transform <function simple_ml_inference_op_with_handle at 0x144b81160> and will run it as-is.\n",
      "Please report this to the TensorFlow team. When filing the bug, set the verbosity to 10 (on Linux, `export AUTOGRAPH_VERBOSITY=10`) and attach the full output.\n",
      "Cause: could not get source code\n",
      "To silence this warning, decorate the function with @tf.autograph.experimental.do_not_convert\n",
      "4/4 [==============================] - 6s 5ms/step - loss: 0.0000e+00 - accuracy: 0.6162\n",
      "loss: 0.0000\n",
      "accuracy: 0.6162\n"
     ]
    }
   ],
   "source": [
    "evaluation = evaluate_model(model, data_set)\n",
    "\n",
    "for name, value in evaluation.items():\n",
    "    print(f\"{name}: {value:.4f}\")"
   ],
   "metadata": {
    "collapsed": false,
    "ExecuteTime": {
     "end_time": "2023-05-18T10:11:37.121045Z",
     "start_time": "2023-05-18T10:11:31.134393Z"
    }
   }
  },
  {
   "cell_type": "markdown",
   "source": [
    "## Plot Accuracy and Loss"
   ],
   "metadata": {
    "collapsed": false
   }
  },
  {
   "cell_type": "code",
   "execution_count": 12,
   "outputs": [
    {
     "data": {
      "text/plain": "<Figure size 1200x400 with 2 Axes>",
      "image/png": "[encoded data removed]"
     },
     "metadata": {},
     "output_type": "display_data"
    }
   ],
   "source": [
    "logs = model.make_inspector().training_logs()\n",
    "\n",
    "plt.figure(figsize=(12, 4))\n",
    "\n",
    "plt.subplot(1, 2, 1)\n",
    "plt.plot([log.num_trees for log in logs], [log.evaluation.accuracy for log in logs])\n",
    "plt.xlabel(\"Number of trees\")\n",
    "plt.ylabel(\"Accuracy (out-of-bag)\")\n",
    "\n",
    "plt.subplot(1, 2, 2)\n",
    "plt.plot([log.num_trees for log in logs], [log.evaluation.loss for log in logs])\n",
    "plt.xlabel(\"Number of trees\")\n",
    "plt.ylabel(\"Logloss (out-of-bag)\")\n",
    "\n",
    "plt.show()"
   ],
   "metadata": {
    "collapsed": false,
    "ExecuteTime": {
     "end_time": "2023-05-18T10:11:37.688823Z",
     "start_time": "2023-05-18T10:11:37.126669Z"
    }
   }
  },
  {
   "cell_type": "markdown",
   "source": [
    "## Save Model"
   ],
   "metadata": {
    "collapsed": false
   }
  },
  {
   "cell_type": "code",
   "execution_count": 15,
   "outputs": [
    {
     "name": "stderr",
     "output_type": "stream",
     "text": [
      "WARNING:absl:Found untraced functions such as call_get_leaves, _update_step_xla while saving (showing 2 of 2). These functions will not be directly callable after loading.\n"
     ]
    },
    {
     "name": "stdout",
     "output_type": "stream",
     "text": [
      "INFO:tensorflow:Assets written to: ../saved_models/random_forest_1/assets\n"
     ]
    },
    {
     "name": "stderr",
     "output_type": "stream",
     "text": [
      "INFO:tensorflow:Assets written to: ../saved_models/random_forest_1/assets\n"
     ]
    }
   ],
   "source": [
    "model.save('../saved_models/random_forest_1')"
   ],
   "metadata": {
    "collapsed": false,
    "ExecuteTime": {
     "end_time": "2023-05-18T16:04:44.715060Z",
     "start_time": "2023-05-18T16:04:37.011705Z"
    }
   }
  },
  {
   "cell_type": "markdown",
   "source": [],
   "metadata": {
    "collapsed": false
   }
  }
 ],
 "metadata": {
  "kernelspec": {
   "display_name": "Python 3",
   "language": "python",
   "name": "python3"
  },
  "language_info": {
   "codemirror_mode": {
    "name": "ipython",
    "version": 2
   },
   "file_extension": ".py",
   "mimetype": "text/x-python",
   "name": "python",
   "nbconvert_exporter": "python",
   "pygments_lexer": "ipython2",
   "version": "2.7.6"
  }
 },
 "nbformat": 4,
 "nbformat_minor": 0
}
