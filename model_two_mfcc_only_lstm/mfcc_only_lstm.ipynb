{
 "cells": [
  {
   "cell_type": "code",
   "execution_count": 5,
   "metadata": {
    "collapsed": true,
    "ExecuteTime": {
     "end_time": "2023-05-28T15:53:16.987517Z",
     "start_time": "2023-05-28T15:53:16.944019Z"
    }
   },
   "outputs": [],
   "source": [
    "import math\n",
    "import pickle\n",
    "\n",
    "import librosa.feature\n",
    "import numpy as np\n",
    "import tensorflow as tf\n"
   ]
  },
  {
   "cell_type": "code",
   "execution_count": 6,
   "outputs": [],
   "source": [
    "def get_feature(\n",
    "        y,\n",
    "        sr,\n",
    "        num_mfcc=13,\n",
    "        n_fft=2048,\n",
    "        hop_length=512,\n",
    "        num_segment=5\n",
    "):\n",
    "    samples_per_track = sr * 30\n",
    "    samples_per_segment = int(samples_per_track / num_segment)\n",
    "    num_mfcc_vectors_per_segment = math.ceil(samples_per_segment / hop_length)\n",
    "\n",
    "    for n in range(num_segment):\n",
    "        start = samples_per_segment * n\n",
    "        finish = start + samples_per_segment\n",
    "        mfcc = librosa.feature.mfcc(\n",
    "            y=y[start:finish],\n",
    "            sr=sr,\n",
    "            n_mfcc=num_mfcc,\n",
    "            n_fft=n_fft,\n",
    "            hop_length=hop_length\n",
    "        )\n",
    "        mfcc = mfcc.T\n",
    "\n",
    "        if len(mfcc) != num_mfcc_vectors_per_segment:\n",
    "            return None\n",
    "\n",
    "        return mfcc.tolist()"
   ],
   "metadata": {
    "collapsed": false,
    "ExecuteTime": {
     "end_time": "2023-05-28T15:53:16.987914Z",
     "start_time": "2023-05-28T15:53:16.952572Z"
    }
   }
  },
  {
   "cell_type": "code",
   "execution_count": 7,
   "outputs": [],
   "source": [
    "def make_features():\n",
    "    with open('../pickles/processed_data.pkl', 'rb') as f:\n",
    "        data = pickle.load(f)\n",
    "    xs = []\n",
    "    ys = []\n",
    "    for label, y, sr, filename in data:\n",
    "        feature = get_feature(y, sr)\n",
    "        if not feature:\n",
    "            continue\n",
    "        xs.append(feature)\n",
    "        ys.append(label)\n",
    "    xs = np.array(xs)\n",
    "    ys = tf.one_hot(np.array(ys), 10)\n",
    "    print(xs.shape)\n",
    "    print(ys.shape)\n",
    "\n",
    "    with open('features.pkl', 'wb') as f:\n",
    "        pickle.dump((xs, ys), f)\n"
   ],
   "metadata": {
    "collapsed": false,
    "ExecuteTime": {
     "end_time": "2023-05-28T15:53:16.995539Z",
     "start_time": "2023-05-28T15:53:16.959369Z"
    }
   }
  },
  {
   "cell_type": "code",
   "execution_count": 8,
   "outputs": [
    {
     "name": "stdout",
     "output_type": "stream",
     "text": [
      "(999, 259, 13)\n",
      "(999, 10)\n"
     ]
    }
   ],
   "source": [
    "make_features()\n"
   ],
   "metadata": {
    "collapsed": false,
    "ExecuteTime": {
     "end_time": "2023-05-28T15:53:34.627397Z",
     "start_time": "2023-05-28T15:53:16.963928Z"
    }
   }
  },
  {
   "cell_type": "code",
   "execution_count": 9,
   "outputs": [],
   "source": [
    "def make_training_data(features_pickle):\n",
    "    with open(features_pickle, 'rb') as f:\n",
    "        xs, ys = pickle.load(f)\n",
    "    total = len(xs)\n",
    "    permutations = np.random.permutation(total)\n",
    "    features = np.array(xs)[permutations]\n",
    "    labels = np.array(ys)[permutations]\n",
    "    features_train = features[0:700]\n",
    "    labels_train = labels[0:700]\n",
    "    features_validate = features[700:850]\n",
    "    labels_validate = labels[700:850]\n",
    "    features_test = features[850:total]\n",
    "    labels_test = labels[850:total]\n",
    "    data_set = (\n",
    "        (labels_train, features_train),\n",
    "        (labels_validate, features_validate),\n",
    "        (labels_test, features_test)\n",
    "    )\n",
    "    with open('data_set.pkl', 'wb') as f:\n",
    "        pickle.dump(data_set, f)\n"
   ],
   "metadata": {
    "collapsed": false,
    "ExecuteTime": {
     "end_time": "2023-05-28T15:55:43.353446Z",
     "start_time": "2023-05-28T15:55:43.336994Z"
    }
   }
  },
  {
   "cell_type": "code",
   "execution_count": 10,
   "outputs": [],
   "source": [
    " make_training_data('./features.pkl')\n"
   ],
   "metadata": {
    "collapsed": false,
    "ExecuteTime": {
     "end_time": "2023-05-28T15:56:07.078650Z",
     "start_time": "2023-05-28T15:56:06.999998Z"
    }
   }
  },
  {
   "cell_type": "code",
   "execution_count": 11,
   "outputs": [],
   "source": [
    "def load_data():\n",
    "    with open('data_set.pkl', 'rb') as f:\n",
    "        data_set = pickle.load(f)\n",
    "\n",
    "    return data_set\n"
   ],
   "metadata": {
    "collapsed": false,
    "ExecuteTime": {
     "end_time": "2023-05-28T15:56:49.853131Z",
     "start_time": "2023-05-28T15:56:49.840824Z"
    }
   }
  },
  {
   "cell_type": "code",
   "execution_count": 12,
   "outputs": [],
   "source": [
    "data_set = load_data()"
   ],
   "metadata": {
    "collapsed": false,
    "ExecuteTime": {
     "end_time": "2023-05-28T15:59:19.128554Z",
     "start_time": "2023-05-28T15:59:19.115600Z"
    }
   }
  },
  {
   "cell_type": "code",
   "execution_count": 19,
   "outputs": [],
   "source": [
    "from keras import Input, Model\n",
    "\n",
    "from keras.layers import LSTM, Dense\n",
    "\n",
    "\n",
    "def build_model(input_shape):\n",
    "    inputs = Input(shape=(259, 13), name=\"feature\")\n",
    "    x = LSTM(64, return_sequences=True, name=\"lstm_1\")(inputs)\n",
    "    x = LSTM(64, name=\"lstm_2\")(x)\n",
    "    x = Dense(64, activation=\"relu\", name=\"dense_1\")(x)\n",
    "    outputs = Dense(10, activation=\"softmax\", name=\"predictions\")(x)\n",
    "\n",
    "    return Model(inputs=inputs, outputs=outputs)\n"
   ],
   "metadata": {
    "collapsed": false,
    "ExecuteTime": {
     "end_time": "2023-05-28T16:04:34.700519Z",
     "start_time": "2023-05-28T16:04:34.696572Z"
    }
   }
  },
  {
   "cell_type": "code",
   "execution_count": 20,
   "outputs": [
    {
     "name": "stderr",
     "output_type": "stream",
     "text": [
      "2023-05-28 17:04:35.173004: I tensorflow/core/common_runtime/executor.cc:1197] [/device:CPU:0] (DEBUG INFO) Executor start aborting (this does not indicate an error and you can ignore this message): INVALID_ARGUMENT: You must feed a value for placeholder tensor 'gradients/split_2_grad/concat/split_2/split_dim' with dtype int32\n",
      "\t [[{{node gradients/split_2_grad/concat/split_2/split_dim}}]]\n",
      "2023-05-28 17:04:35.174449: I tensorflow/core/common_runtime/executor.cc:1197] [/device:CPU:0] (DEBUG INFO) Executor start aborting (this does not indicate an error and you can ignore this message): INVALID_ARGUMENT: You must feed a value for placeholder tensor 'gradients/split_grad/concat/split/split_dim' with dtype int32\n",
      "\t [[{{node gradients/split_grad/concat/split/split_dim}}]]\n",
      "2023-05-28 17:04:35.175416: I tensorflow/core/common_runtime/executor.cc:1197] [/device:CPU:0] (DEBUG INFO) Executor start aborting (this does not indicate an error and you can ignore this message): INVALID_ARGUMENT: You must feed a value for placeholder tensor 'gradients/split_1_grad/concat/split_1/split_dim' with dtype int32\n",
      "\t [[{{node gradients/split_1_grad/concat/split_1/split_dim}}]]\n",
      "2023-05-28 17:04:35.329239: I tensorflow/core/common_runtime/executor.cc:1197] [/device:CPU:0] (DEBUG INFO) Executor start aborting (this does not indicate an error and you can ignore this message): INVALID_ARGUMENT: You must feed a value for placeholder tensor 'gradients/split_2_grad/concat/split_2/split_dim' with dtype int32\n",
      "\t [[{{node gradients/split_2_grad/concat/split_2/split_dim}}]]\n",
      "2023-05-28 17:04:35.330169: I tensorflow/core/common_runtime/executor.cc:1197] [/device:CPU:0] (DEBUG INFO) Executor start aborting (this does not indicate an error and you can ignore this message): INVALID_ARGUMENT: You must feed a value for placeholder tensor 'gradients/split_grad/concat/split/split_dim' with dtype int32\n",
      "\t [[{{node gradients/split_grad/concat/split/split_dim}}]]\n",
      "2023-05-28 17:04:35.331474: I tensorflow/core/common_runtime/executor.cc:1197] [/device:CPU:0] (DEBUG INFO) Executor start aborting (this does not indicate an error and you can ignore this message): INVALID_ARGUMENT: You must feed a value for placeholder tensor 'gradients/split_1_grad/concat/split_1/split_dim' with dtype int32\n",
      "\t [[{{node gradients/split_1_grad/concat/split_1/split_dim}}]]\n"
     ]
    }
   ],
   "source": [
    "model = build_model((259, 13))\n"
   ],
   "metadata": {
    "collapsed": false,
    "ExecuteTime": {
     "end_time": "2023-05-28T16:04:35.393306Z",
     "start_time": "2023-05-28T16:04:35.011977Z"
    }
   }
  },
  {
   "cell_type": "code",
   "execution_count": 22,
   "outputs": [],
   "source": [
    "optimiser = tf.keras.optimizers.Adam(learning_rate=0.001)"
   ],
   "metadata": {
    "collapsed": false,
    "ExecuteTime": {
     "end_time": "2023-05-28T16:05:20.498059Z",
     "start_time": "2023-05-28T16:05:20.494475Z"
    }
   }
  },
  {
   "cell_type": "code",
   "execution_count": 23,
   "outputs": [],
   "source": [
    "model.compile(optimizer=optimiser,\n",
    "              loss=\"categorical_crossentropy\",\n",
    "              metrics=[\"accuracy\"])\n"
   ],
   "metadata": {
    "collapsed": false,
    "ExecuteTime": {
     "end_time": "2023-05-28T16:06:00.567714Z",
     "start_time": "2023-05-28T16:06:00.561691Z"
    }
   }
  },
  {
   "cell_type": "code",
   "execution_count": 24,
   "outputs": [
    {
     "name": "stdout",
     "output_type": "stream",
     "text": [
      "Model: \"model\"\n",
      "_________________________________________________________________\n",
      " Layer (type)                Output Shape              Param #   \n",
      "=================================================================\n",
      " feature (InputLayer)        [(None, 259, 13)]         0         \n",
      "                                                                 \n",
      " lstm_1 (LSTM)               (None, 259, 64)           19968     \n",
      "                                                                 \n",
      " lstm_2 (LSTM)               (None, 64)                33024     \n",
      "                                                                 \n",
      " dense_1 (Dense)             (None, 64)                4160      \n",
      "                                                                 \n",
      " predictions (Dense)         (None, 10)                650       \n",
      "                                                                 \n",
      "=================================================================\n",
      "Total params: 57,802\n",
      "Trainable params: 57,802\n",
      "Non-trainable params: 0\n",
      "_________________________________________________________________\n"
     ]
    }
   ],
   "source": [
    "model.summary()\n"
   ],
   "metadata": {
    "collapsed": false,
    "ExecuteTime": {
     "end_time": "2023-05-28T16:06:09.983957Z",
     "start_time": "2023-05-28T16:06:09.956003Z"
    }
   }
  },
  {
   "cell_type": "code",
   "execution_count": 25,
   "outputs": [],
   "source": [
    "def train(model, data_set):\n",
    "    return model.fit(\n",
    "        x=data_set[0][1].tolist(),\n",
    "        y=data_set[0][0].tolist(),\n",
    "        verbose=1,\n",
    "        validation_data=(data_set[1][1].tolist(), data_set[1][0].tolist()),\n",
    "        batch_size=32,\n",
    "        epochs=50\n",
    "    )"
   ],
   "metadata": {
    "collapsed": false,
    "ExecuteTime": {
     "end_time": "2023-05-28T16:08:37.658543Z",
     "start_time": "2023-05-28T16:08:37.650532Z"
    }
   }
  },
  {
   "cell_type": "code",
   "execution_count": 26,
   "outputs": [
    {
     "name": "stdout",
     "output_type": "stream",
     "text": [
      "Epoch 1/50\n"
     ]
    },
    {
     "name": "stderr",
     "output_type": "stream",
     "text": [
      "2023-05-28 17:08:50.509062: I tensorflow/core/common_runtime/executor.cc:1197] [/device:CPU:0] (DEBUG INFO) Executor start aborting (this does not indicate an error and you can ignore this message): INVALID_ARGUMENT: You must feed a value for placeholder tensor 'gradients/split_2_grad/concat/split_2/split_dim' with dtype int32\n",
      "\t [[{{node gradients/split_2_grad/concat/split_2/split_dim}}]]\n",
      "2023-05-28 17:08:50.510589: I tensorflow/core/common_runtime/executor.cc:1197] [/device:CPU:0] (DEBUG INFO) Executor start aborting (this does not indicate an error and you can ignore this message): INVALID_ARGUMENT: You must feed a value for placeholder tensor 'gradients/split_grad/concat/split/split_dim' with dtype int32\n",
      "\t [[{{node gradients/split_grad/concat/split/split_dim}}]]\n",
      "2023-05-28 17:08:50.511741: I tensorflow/core/common_runtime/executor.cc:1197] [/device:CPU:0] (DEBUG INFO) Executor start aborting (this does not indicate an error and you can ignore this message): INVALID_ARGUMENT: You must feed a value for placeholder tensor 'gradients/split_1_grad/concat/split_1/split_dim' with dtype int32\n",
      "\t [[{{node gradients/split_1_grad/concat/split_1/split_dim}}]]\n",
      "2023-05-28 17:08:50.674927: I tensorflow/core/common_runtime/executor.cc:1197] [/device:CPU:0] (DEBUG INFO) Executor start aborting (this does not indicate an error and you can ignore this message): INVALID_ARGUMENT: You must feed a value for placeholder tensor 'gradients/split_2_grad/concat/split_2/split_dim' with dtype int32\n",
      "\t [[{{node gradients/split_2_grad/concat/split_2/split_dim}}]]\n",
      "2023-05-28 17:08:50.675910: I tensorflow/core/common_runtime/executor.cc:1197] [/device:CPU:0] (DEBUG INFO) Executor start aborting (this does not indicate an error and you can ignore this message): INVALID_ARGUMENT: You must feed a value for placeholder tensor 'gradients/split_grad/concat/split/split_dim' with dtype int32\n",
      "\t [[{{node gradients/split_grad/concat/split/split_dim}}]]\n",
      "2023-05-28 17:08:50.676799: I tensorflow/core/common_runtime/executor.cc:1197] [/device:CPU:0] (DEBUG INFO) Executor start aborting (this does not indicate an error and you can ignore this message): INVALID_ARGUMENT: You must feed a value for placeholder tensor 'gradients/split_1_grad/concat/split_1/split_dim' with dtype int32\n",
      "\t [[{{node gradients/split_1_grad/concat/split_1/split_dim}}]]\n",
      "2023-05-28 17:08:51.595184: I tensorflow/core/common_runtime/executor.cc:1197] [/device:CPU:0] (DEBUG INFO) Executor start aborting (this does not indicate an error and you can ignore this message): INVALID_ARGUMENT: You must feed a value for placeholder tensor 'gradients/split_2_grad/concat/split_2/split_dim' with dtype int32\n",
      "\t [[{{node gradients/split_2_grad/concat/split_2/split_dim}}]]\n",
      "2023-05-28 17:08:51.596453: I tensorflow/core/common_runtime/executor.cc:1197] [/device:CPU:0] (DEBUG INFO) Executor start aborting (this does not indicate an error and you can ignore this message): INVALID_ARGUMENT: You must feed a value for placeholder tensor 'gradients/split_grad/concat/split/split_dim' with dtype int32\n",
      "\t [[{{node gradients/split_grad/concat/split/split_dim}}]]\n",
      "2023-05-28 17:08:51.597768: I tensorflow/core/common_runtime/executor.cc:1197] [/device:CPU:0] (DEBUG INFO) Executor start aborting (this does not indicate an error and you can ignore this message): INVALID_ARGUMENT: You must feed a value for placeholder tensor 'gradients/split_1_grad/concat/split_1/split_dim' with dtype int32\n",
      "\t [[{{node gradients/split_1_grad/concat/split_1/split_dim}}]]\n",
      "2023-05-28 17:08:51.784957: I tensorflow/core/common_runtime/executor.cc:1197] [/device:CPU:0] (DEBUG INFO) Executor start aborting (this does not indicate an error and you can ignore this message): INVALID_ARGUMENT: You must feed a value for placeholder tensor 'gradients/split_2_grad/concat/split_2/split_dim' with dtype int32\n",
      "\t [[{{node gradients/split_2_grad/concat/split_2/split_dim}}]]\n",
      "2023-05-28 17:08:51.786303: I tensorflow/core/common_runtime/executor.cc:1197] [/device:CPU:0] (DEBUG INFO) Executor start aborting (this does not indicate an error and you can ignore this message): INVALID_ARGUMENT: You must feed a value for placeholder tensor 'gradients/split_grad/concat/split/split_dim' with dtype int32\n",
      "\t [[{{node gradients/split_grad/concat/split/split_dim}}]]\n",
      "2023-05-28 17:08:51.787669: I tensorflow/core/common_runtime/executor.cc:1197] [/device:CPU:0] (DEBUG INFO) Executor start aborting (this does not indicate an error and you can ignore this message): INVALID_ARGUMENT: You must feed a value for placeholder tensor 'gradients/split_1_grad/concat/split_1/split_dim' with dtype int32\n",
      "\t [[{{node gradients/split_1_grad/concat/split_1/split_dim}}]]\n"
     ]
    },
    {
     "name": "stdout",
     "output_type": "stream",
     "text": [
      "22/22 [==============================] - ETA: 0s - loss: 2.2075 - accuracy: 0.2029"
     ]
    },
    {
     "name": "stderr",
     "output_type": "stream",
     "text": [
      "2023-05-28 17:08:57.633955: I tensorflow/core/common_runtime/executor.cc:1197] [/device:CPU:0] (DEBUG INFO) Executor start aborting (this does not indicate an error and you can ignore this message): INVALID_ARGUMENT: You must feed a value for placeholder tensor 'gradients/split_2_grad/concat/split_2/split_dim' with dtype int32\n",
      "\t [[{{node gradients/split_2_grad/concat/split_2/split_dim}}]]\n",
      "2023-05-28 17:08:57.635501: I tensorflow/core/common_runtime/executor.cc:1197] [/device:CPU:0] (DEBUG INFO) Executor start aborting (this does not indicate an error and you can ignore this message): INVALID_ARGUMENT: You must feed a value for placeholder tensor 'gradients/split_grad/concat/split/split_dim' with dtype int32\n",
      "\t [[{{node gradients/split_grad/concat/split/split_dim}}]]\n",
      "2023-05-28 17:08:57.636350: I tensorflow/core/common_runtime/executor.cc:1197] [/device:CPU:0] (DEBUG INFO) Executor start aborting (this does not indicate an error and you can ignore this message): INVALID_ARGUMENT: You must feed a value for placeholder tensor 'gradients/split_1_grad/concat/split_1/split_dim' with dtype int32\n",
      "\t [[{{node gradients/split_1_grad/concat/split_1/split_dim}}]]\n",
      "2023-05-28 17:08:57.788016: I tensorflow/core/common_runtime/executor.cc:1197] [/device:CPU:0] (DEBUG INFO) Executor start aborting (this does not indicate an error and you can ignore this message): INVALID_ARGUMENT: You must feed a value for placeholder tensor 'gradients/split_2_grad/concat/split_2/split_dim' with dtype int32\n",
      "\t [[{{node gradients/split_2_grad/concat/split_2/split_dim}}]]\n",
      "2023-05-28 17:08:57.789111: I tensorflow/core/common_runtime/executor.cc:1197] [/device:CPU:0] (DEBUG INFO) Executor start aborting (this does not indicate an error and you can ignore this message): INVALID_ARGUMENT: You must feed a value for placeholder tensor 'gradients/split_grad/concat/split/split_dim' with dtype int32\n",
      "\t [[{{node gradients/split_grad/concat/split/split_dim}}]]\n",
      "2023-05-28 17:08:57.789990: I tensorflow/core/common_runtime/executor.cc:1197] [/device:CPU:0] (DEBUG INFO) Executor start aborting (this does not indicate an error and you can ignore this message): INVALID_ARGUMENT: You must feed a value for placeholder tensor 'gradients/split_1_grad/concat/split_1/split_dim' with dtype int32\n",
      "\t [[{{node gradients/split_1_grad/concat/split_1/split_dim}}]]\n"
     ]
    },
    {
     "name": "stdout",
     "output_type": "stream",
     "text": [
      "22/22 [==============================] - 8s 218ms/step - loss: 2.2075 - accuracy: 0.2029 - val_loss: 2.1062 - val_accuracy: 0.2600\n",
      "Epoch 2/50\n",
      "22/22 [==============================] - 3s 118ms/step - loss: 1.9415 - accuracy: 0.3557 - val_loss: 1.8905 - val_accuracy: 0.3267\n",
      "Epoch 3/50\n",
      "22/22 [==============================] - 3s 117ms/step - loss: 1.7075 - accuracy: 0.3971 - val_loss: 1.7045 - val_accuracy: 0.3867\n",
      "Epoch 4/50\n",
      "22/22 [==============================] - 3s 118ms/step - loss: 1.5329 - accuracy: 0.4571 - val_loss: 1.5894 - val_accuracy: 0.4133\n",
      "Epoch 5/50\n",
      "22/22 [==============================] - 3s 116ms/step - loss: 1.3834 - accuracy: 0.5129 - val_loss: 1.6750 - val_accuracy: 0.4333\n",
      "Epoch 6/50\n",
      "22/22 [==============================] - 3s 116ms/step - loss: 1.3514 - accuracy: 0.5257 - val_loss: 1.6467 - val_accuracy: 0.4600\n",
      "Epoch 7/50\n",
      "22/22 [==============================] - 3s 116ms/step - loss: 1.2530 - accuracy: 0.5600 - val_loss: 1.5969 - val_accuracy: 0.4533\n",
      "Epoch 8/50\n",
      "22/22 [==============================] - 3s 119ms/step - loss: 1.2613 - accuracy: 0.5529 - val_loss: 1.5482 - val_accuracy: 0.4667\n",
      "Epoch 9/50\n",
      "22/22 [==============================] - 3s 118ms/step - loss: 1.1624 - accuracy: 0.5886 - val_loss: 1.4731 - val_accuracy: 0.5267\n",
      "Epoch 10/50\n",
      "22/22 [==============================] - 3s 124ms/step - loss: 1.0893 - accuracy: 0.6057 - val_loss: 1.6320 - val_accuracy: 0.4133\n",
      "Epoch 11/50\n",
      "22/22 [==============================] - 3s 130ms/step - loss: 1.0628 - accuracy: 0.6286 - val_loss: 1.6019 - val_accuracy: 0.4867\n",
      "Epoch 12/50\n",
      "22/22 [==============================] - 3s 121ms/step - loss: 0.9707 - accuracy: 0.6686 - val_loss: 1.5741 - val_accuracy: 0.4600\n",
      "Epoch 13/50\n",
      "22/22 [==============================] - 3s 117ms/step - loss: 0.8920 - accuracy: 0.6757 - val_loss: 1.6631 - val_accuracy: 0.4733\n",
      "Epoch 14/50\n",
      "22/22 [==============================] - 3s 121ms/step - loss: 0.8774 - accuracy: 0.6743 - val_loss: 1.5121 - val_accuracy: 0.4867\n",
      "Epoch 15/50\n",
      "22/22 [==============================] - 3s 118ms/step - loss: 0.9697 - accuracy: 0.6829 - val_loss: 1.5395 - val_accuracy: 0.5067\n",
      "Epoch 16/50\n",
      "22/22 [==============================] - 3s 119ms/step - loss: 0.8443 - accuracy: 0.7200 - val_loss: 1.6196 - val_accuracy: 0.4933\n",
      "Epoch 17/50\n",
      "22/22 [==============================] - 3s 117ms/step - loss: 0.9701 - accuracy: 0.6729 - val_loss: 1.7208 - val_accuracy: 0.4533\n",
      "Epoch 18/50\n",
      "22/22 [==============================] - 3s 117ms/step - loss: 0.8474 - accuracy: 0.7100 - val_loss: 1.7186 - val_accuracy: 0.5000\n",
      "Epoch 19/50\n",
      "22/22 [==============================] - 3s 119ms/step - loss: 0.6783 - accuracy: 0.7843 - val_loss: 1.7483 - val_accuracy: 0.5133\n",
      "Epoch 20/50\n",
      "22/22 [==============================] - 3s 119ms/step - loss: 0.6656 - accuracy: 0.7786 - val_loss: 1.7236 - val_accuracy: 0.4600\n",
      "Epoch 21/50\n",
      "22/22 [==============================] - 3s 119ms/step - loss: 0.6038 - accuracy: 0.7871 - val_loss: 1.7431 - val_accuracy: 0.4867\n",
      "Epoch 22/50\n",
      "22/22 [==============================] - 3s 117ms/step - loss: 0.5431 - accuracy: 0.8214 - val_loss: 1.6926 - val_accuracy: 0.5600\n",
      "Epoch 23/50\n",
      "22/22 [==============================] - 3s 118ms/step - loss: 0.5197 - accuracy: 0.8243 - val_loss: 1.8701 - val_accuracy: 0.4533\n",
      "Epoch 24/50\n",
      "22/22 [==============================] - 3s 119ms/step - loss: 0.4658 - accuracy: 0.8529 - val_loss: 1.7149 - val_accuracy: 0.5067\n",
      "Epoch 25/50\n",
      "22/22 [==============================] - 3s 118ms/step - loss: 0.4004 - accuracy: 0.8800 - val_loss: 1.9021 - val_accuracy: 0.4667\n",
      "Epoch 26/50\n",
      "22/22 [==============================] - 3s 118ms/step - loss: 0.4958 - accuracy: 0.8357 - val_loss: 1.9406 - val_accuracy: 0.4867\n",
      "Epoch 27/50\n",
      "22/22 [==============================] - 3s 118ms/step - loss: 0.3977 - accuracy: 0.8700 - val_loss: 2.0323 - val_accuracy: 0.4667\n",
      "Epoch 28/50\n",
      "22/22 [==============================] - 3s 118ms/step - loss: 0.3223 - accuracy: 0.9043 - val_loss: 1.9747 - val_accuracy: 0.5467\n",
      "Epoch 29/50\n",
      "22/22 [==============================] - 3s 118ms/step - loss: 0.2494 - accuracy: 0.9357 - val_loss: 2.0592 - val_accuracy: 0.5000\n",
      "Epoch 30/50\n",
      "22/22 [==============================] - 3s 119ms/step - loss: 0.2584 - accuracy: 0.9314 - val_loss: 2.0791 - val_accuracy: 0.5133\n",
      "Epoch 31/50\n",
      "22/22 [==============================] - 3s 132ms/step - loss: 0.3081 - accuracy: 0.9000 - val_loss: 2.0696 - val_accuracy: 0.4867\n",
      "Epoch 32/50\n",
      "22/22 [==============================] - 3s 136ms/step - loss: 0.3181 - accuracy: 0.9029 - val_loss: 2.0860 - val_accuracy: 0.4933\n",
      "Epoch 33/50\n",
      "22/22 [==============================] - 3s 119ms/step - loss: 0.3106 - accuracy: 0.9143 - val_loss: 2.3425 - val_accuracy: 0.4600\n",
      "Epoch 34/50\n",
      "22/22 [==============================] - 3s 115ms/step - loss: 0.2095 - accuracy: 0.9457 - val_loss: 2.2556 - val_accuracy: 0.4667\n",
      "Epoch 35/50\n",
      "22/22 [==============================] - 3s 116ms/step - loss: 0.1678 - accuracy: 0.9500 - val_loss: 2.3625 - val_accuracy: 0.5067\n",
      "Epoch 36/50\n",
      "22/22 [==============================] - 3s 117ms/step - loss: 0.1942 - accuracy: 0.9429 - val_loss: 2.3309 - val_accuracy: 0.4867\n",
      "Epoch 37/50\n",
      "22/22 [==============================] - 3s 117ms/step - loss: 0.1635 - accuracy: 0.9543 - val_loss: 2.3261 - val_accuracy: 0.5133\n",
      "Epoch 38/50\n",
      "22/22 [==============================] - 3s 125ms/step - loss: 0.1404 - accuracy: 0.9657 - val_loss: 2.3811 - val_accuracy: 0.5067\n",
      "Epoch 39/50\n",
      "22/22 [==============================] - 3s 117ms/step - loss: 0.1280 - accuracy: 0.9700 - val_loss: 2.4012 - val_accuracy: 0.5000\n",
      "Epoch 40/50\n",
      "22/22 [==============================] - 3s 127ms/step - loss: 0.1119 - accuracy: 0.9671 - val_loss: 2.2592 - val_accuracy: 0.5133\n",
      "Epoch 41/50\n",
      "22/22 [==============================] - 3s 116ms/step - loss: 0.1208 - accuracy: 0.9629 - val_loss: 2.5785 - val_accuracy: 0.5067\n",
      "Epoch 42/50\n",
      "22/22 [==============================] - 3s 115ms/step - loss: 0.1286 - accuracy: 0.9657 - val_loss: 2.5548 - val_accuracy: 0.4867\n",
      "Epoch 43/50\n",
      "22/22 [==============================] - 3s 116ms/step - loss: 0.1596 - accuracy: 0.9471 - val_loss: 2.6651 - val_accuracy: 0.5200\n",
      "Epoch 44/50\n",
      "22/22 [==============================] - 3s 116ms/step - loss: 0.0950 - accuracy: 0.9771 - val_loss: 2.3864 - val_accuracy: 0.5467\n",
      "Epoch 45/50\n",
      "22/22 [==============================] - 3s 115ms/step - loss: 0.0869 - accuracy: 0.9771 - val_loss: 2.4193 - val_accuracy: 0.5200\n",
      "Epoch 46/50\n",
      "22/22 [==============================] - 3s 116ms/step - loss: 0.0560 - accuracy: 0.9871 - val_loss: 2.4482 - val_accuracy: 0.5333\n",
      "Epoch 47/50\n",
      "22/22 [==============================] - 3s 115ms/step - loss: 0.0860 - accuracy: 0.9800 - val_loss: 2.5674 - val_accuracy: 0.5200\n",
      "Epoch 48/50\n",
      "22/22 [==============================] - 3s 116ms/step - loss: 0.0796 - accuracy: 0.9786 - val_loss: 2.5303 - val_accuracy: 0.5200\n",
      "Epoch 49/50\n",
      "22/22 [==============================] - 3s 115ms/step - loss: 0.2759 - accuracy: 0.9029 - val_loss: 2.4772 - val_accuracy: 0.5267\n",
      "Epoch 50/50\n",
      "22/22 [==============================] - 3s 116ms/step - loss: 0.4107 - accuracy: 0.8714 - val_loss: 2.3753 - val_accuracy: 0.4467\n"
     ]
    }
   ],
   "source": [
    "history = train(model, data_set)\n"
   ],
   "metadata": {
    "collapsed": false,
    "ExecuteTime": {
     "end_time": "2023-05-28T16:11:06.903273Z",
     "start_time": "2023-05-28T16:08:42.035881Z"
    }
   }
  },
  {
   "cell_type": "code",
   "execution_count": 27,
   "outputs": [],
   "source": [
    "def evaluate_model(model, data_set):\n",
    "    return model.evaluate(x=data_set[2][1].tolist(), y=data_set[2][0].tolist(), verbose=0, return_dict=True)\n"
   ],
   "metadata": {
    "collapsed": false,
    "ExecuteTime": {
     "end_time": "2023-05-28T16:13:38.910146Z",
     "start_time": "2023-05-28T16:13:38.903250Z"
    }
   }
  },
  {
   "cell_type": "code",
   "execution_count": 28,
   "outputs": [
    {
     "name": "stdout",
     "output_type": "stream",
     "text": [
      "loss: 2.5181\n",
      "accuracy: 0.4497\n"
     ]
    }
   ],
   "source": [
    "evaluation = evaluate_model(model, data_set)\n",
    "\n",
    "for name, value in evaluation.items():\n",
    "    print(f\"{name}: {value:.4f}\")\n"
   ],
   "metadata": {
    "collapsed": false,
    "ExecuteTime": {
     "end_time": "2023-05-28T16:13:43.165202Z",
     "start_time": "2023-05-28T16:13:41.474841Z"
    }
   }
  },
  {
   "cell_type": "code",
   "execution_count": 34,
   "outputs": [
    {
     "data": {
      "text/plain": "<Figure size 640x480 with 1 Axes>",
      "image/png": "[encoded data removed]"
     },
     "metadata": {},
     "output_type": "display_data"
    }
   ],
   "source": [
    "from utilities.training_plots import plot_loss\n",
    "\n",
    "plot_loss(history)\n"
   ],
   "metadata": {
    "collapsed": false,
    "ExecuteTime": {
     "end_time": "2023-05-28T16:16:09.959277Z",
     "start_time": "2023-05-28T16:16:09.809469Z"
    }
   }
  }
 ],
 "metadata": {
  "kernelspec": {
   "display_name": "Python 3",
   "language": "python",
   "name": "python3"
  },
  "language_info": {
   "codemirror_mode": {
    "name": "ipython",
    "version": 2
   },
   "file_extension": ".py",
   "mimetype": "text/x-python",
   "name": "python",
   "nbconvert_exporter": "python",
   "pygments_lexer": "ipython2",
   "version": "2.7.6"
  }
 },
 "nbformat": 4,
 "nbformat_minor": 0
}
