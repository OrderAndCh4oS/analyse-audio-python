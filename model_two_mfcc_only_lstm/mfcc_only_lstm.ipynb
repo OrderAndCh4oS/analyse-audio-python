{
 "cells": [
  {
   "cell_type": "code",
   "execution_count": 5,
   "metadata": {
    "collapsed": true,
    "ExecuteTime": {
     "end_time": "2023-05-28T15:53:16.987517Z",
     "start_time": "2023-05-28T15:53:16.944019Z"
    }
   },
   "outputs": [],
   "source": [
    "import math\n",
    "import pickle\n",
    "\n",
    "import librosa.feature\n",
    "import numpy as np\n",
    "import tensorflow as tf\n",
    "\n",
    "import tensorboard\n"
   ]
  },
  {
   "cell_type": "code",
   "execution_count": 6,
   "outputs": [],
   "source": [
    "def get_feature(\n",
    "        y,\n",
    "        sr,\n",
    "        num_mfcc=13,\n",
    "        n_fft=2048,\n",
    "        hop_length=512,\n",
    "        num_segment=5\n",
    "):\n",
    "    samples_per_track = sr * 30\n",
    "    samples_per_segment = int(samples_per_track / num_segment)\n",
    "    num_mfcc_vectors_per_segment = math.ceil(samples_per_segment / hop_length)\n",
    "\n",
    "    for n in range(num_segment):\n",
    "        start = samples_per_segment * n\n",
    "        finish = start + samples_per_segment\n",
    "        mfcc = librosa.feature.mfcc(\n",
    "            y=y[start:finish],\n",
    "            sr=sr,\n",
    "            n_mfcc=num_mfcc,\n",
    "            n_fft=n_fft,\n",
    "            hop_length=hop_length\n",
    "        )\n",
    "        mfcc = mfcc.T\n",
    "\n",
    "        if len(mfcc) != num_mfcc_vectors_per_segment:\n",
    "            return None\n",
    "\n",
    "        return mfcc.tolist()"
   ],
   "metadata": {
    "collapsed": false,
    "ExecuteTime": {
     "end_time": "2023-05-28T15:53:16.987914Z",
     "start_time": "2023-05-28T15:53:16.952572Z"
    }
   }
  },
  {
   "cell_type": "code",
   "execution_count": 7,
   "outputs": [],
   "source": [
    "def make_features():\n",
    "    with open('../pickles/processed_data.pkl', 'rb') as f:\n",
    "        data = pickle.load(f)\n",
    "    xs = []\n",
    "    ys = []\n",
    "    for label, y, sr, filename in data:\n",
    "        feature = get_feature(y, sr)\n",
    "        if not feature:\n",
    "            continue\n",
    "        xs.append(feature)\n",
    "        ys.append(label)\n",
    "    xs = np.array(xs)\n",
    "    ys = tf.one_hot(np.array(ys), 10)\n",
    "    print(xs.shape)\n",
    "    print(ys.shape)\n",
    "\n",
    "    with open('features.pkl', 'wb') as f:\n",
    "        pickle.dump((xs, ys), f)\n"
   ],
   "metadata": {
    "collapsed": false,
    "ExecuteTime": {
     "end_time": "2023-05-28T15:53:16.995539Z",
     "start_time": "2023-05-28T15:53:16.959369Z"
    }
   }
  },
  {
   "cell_type": "code",
   "execution_count": 8,
   "outputs": [
    {
     "name": "stdout",
     "output_type": "stream",
     "text": [
      "(999, 259, 13)\n",
      "(999, 10)\n"
     ]
    }
   ],
   "source": [
    "make_features()\n"
   ],
   "metadata": {
    "collapsed": false,
    "ExecuteTime": {
     "end_time": "2023-05-28T15:53:34.627397Z",
     "start_time": "2023-05-28T15:53:16.963928Z"
    }
   }
  },
  {
   "cell_type": "code",
   "execution_count": 9,
   "outputs": [],
   "source": [
    "def make_training_data(features_pickle):\n",
    "    with open(features_pickle, 'rb') as f:\n",
    "        xs, ys = pickle.load(f)\n",
    "    total = len(xs)\n",
    "    permutations = np.random.permutation(total)\n",
    "    features = np.array(xs)[permutations]\n",
    "    labels = np.array(ys)[permutations]\n",
    "    features_train = features[0:700]\n",
    "    labels_train = labels[0:700]\n",
    "    features_validate = features[700:850]\n",
    "    labels_validate = labels[700:850]\n",
    "    features_test = features[850:total]\n",
    "    labels_test = labels[850:total]\n",
    "    data_set = (\n",
    "        (labels_train, features_train),\n",
    "        (labels_validate, features_validate),\n",
    "        (labels_test, features_test)\n",
    "    )\n",
    "    with open('data_set.pkl', 'wb') as f:\n",
    "        pickle.dump(data_set, f)\n"
   ],
   "metadata": {
    "collapsed": false,
    "ExecuteTime": {
     "end_time": "2023-05-28T15:55:43.353446Z",
     "start_time": "2023-05-28T15:55:43.336994Z"
    }
   }
  },
  {
   "cell_type": "code",
   "execution_count": 10,
   "outputs": [],
   "source": [
    " make_training_data('./features.pkl')\n"
   ],
   "metadata": {
    "collapsed": false,
    "ExecuteTime": {
     "end_time": "2023-05-28T15:56:07.078650Z",
     "start_time": "2023-05-28T15:56:06.999998Z"
    }
   }
  },
  {
   "cell_type": "code",
   "execution_count": 45,
   "outputs": [],
   "source": [
    "def load_data():\n",
    "    with open('data_set.pkl', 'rb') as f:\n",
    "        data_set = pickle.load(f)\n",
    "\n",
    "    return data_set\n"
   ],
   "metadata": {
    "collapsed": false,
    "ExecuteTime": {
     "end_time": "2023-05-29T09:59:41.449287Z",
     "start_time": "2023-05-29T09:59:41.406479Z"
    }
   }
  },
  {
   "cell_type": "code",
   "execution_count": 46,
   "outputs": [],
   "source": [
    "data_set = load_data()"
   ],
   "metadata": {
    "collapsed": false,
    "ExecuteTime": {
     "end_time": "2023-05-29T09:59:41.479170Z",
     "start_time": "2023-05-29T09:59:41.409603Z"
    }
   }
  },
  {
   "cell_type": "code",
   "execution_count": 47,
   "outputs": [],
   "source": [
    "from keras import Input, Model\n",
    "\n",
    "from keras.layers import LSTM, Dense\n",
    "\n",
    "\n",
    "def build_model(input_shape):\n",
    "    inputs = Input(shape=(259, 13), name=\"feature\")\n",
    "    x = LSTM(64, return_sequences=True, name=\"lstm_1\")(inputs)\n",
    "    x = LSTM(64, name=\"lstm_2\")(x)\n",
    "    x = Dense(64, activation=\"relu\", name=\"dense_1\")(x)\n",
    "    outputs = Dense(10, activation=\"softmax\", name=\"predictions\")(x)\n",
    "\n",
    "    return Model(inputs=inputs, outputs=outputs)\n"
   ],
   "metadata": {
    "collapsed": false,
    "ExecuteTime": {
     "end_time": "2023-05-29T09:59:41.479423Z",
     "start_time": "2023-05-29T09:59:41.468695Z"
    }
   }
  },
  {
   "cell_type": "code",
   "execution_count": 48,
   "outputs": [
    {
     "name": "stderr",
     "output_type": "stream",
     "text": [
      "2023-05-29 10:59:41.630788: I tensorflow/core/common_runtime/executor.cc:1197] [/device:CPU:0] (DEBUG INFO) Executor start aborting (this does not indicate an error and you can ignore this message): INVALID_ARGUMENT: You must feed a value for placeholder tensor 'gradients/split_2_grad/concat/split_2/split_dim' with dtype int32\n",
      "\t [[{{node gradients/split_2_grad/concat/split_2/split_dim}}]]\n",
      "2023-05-29 10:59:41.632517: I tensorflow/core/common_runtime/executor.cc:1197] [/device:CPU:0] (DEBUG INFO) Executor start aborting (this does not indicate an error and you can ignore this message): INVALID_ARGUMENT: You must feed a value for placeholder tensor 'gradients/split_grad/concat/split/split_dim' with dtype int32\n",
      "\t [[{{node gradients/split_grad/concat/split/split_dim}}]]\n",
      "2023-05-29 10:59:41.633763: I tensorflow/core/common_runtime/executor.cc:1197] [/device:CPU:0] (DEBUG INFO) Executor start aborting (this does not indicate an error and you can ignore this message): INVALID_ARGUMENT: You must feed a value for placeholder tensor 'gradients/split_1_grad/concat/split_1/split_dim' with dtype int32\n",
      "\t [[{{node gradients/split_1_grad/concat/split_1/split_dim}}]]\n",
      "2023-05-29 10:59:41.793678: I tensorflow/core/common_runtime/executor.cc:1197] [/device:CPU:0] (DEBUG INFO) Executor start aborting (this does not indicate an error and you can ignore this message): INVALID_ARGUMENT: You must feed a value for placeholder tensor 'gradients/split_2_grad/concat/split_2/split_dim' with dtype int32\n",
      "\t [[{{node gradients/split_2_grad/concat/split_2/split_dim}}]]\n",
      "2023-05-29 10:59:41.794526: I tensorflow/core/common_runtime/executor.cc:1197] [/device:CPU:0] (DEBUG INFO) Executor start aborting (this does not indicate an error and you can ignore this message): INVALID_ARGUMENT: You must feed a value for placeholder tensor 'gradients/split_grad/concat/split/split_dim' with dtype int32\n",
      "\t [[{{node gradients/split_grad/concat/split/split_dim}}]]\n",
      "2023-05-29 10:59:41.795378: I tensorflow/core/common_runtime/executor.cc:1197] [/device:CPU:0] (DEBUG INFO) Executor start aborting (this does not indicate an error and you can ignore this message): INVALID_ARGUMENT: You must feed a value for placeholder tensor 'gradients/split_1_grad/concat/split_1/split_dim' with dtype int32\n",
      "\t [[{{node gradients/split_1_grad/concat/split_1/split_dim}}]]\n"
     ]
    }
   ],
   "source": [
    "model = build_model((259, 13))\n"
   ],
   "metadata": {
    "collapsed": false,
    "ExecuteTime": {
     "end_time": "2023-05-29T09:59:41.863965Z",
     "start_time": "2023-05-29T09:59:41.479547Z"
    }
   }
  },
  {
   "cell_type": "code",
   "execution_count": 49,
   "outputs": [],
   "source": [
    "optimiser = tf.keras.optimizers.Adam(learning_rate=0.001)"
   ],
   "metadata": {
    "collapsed": false,
    "ExecuteTime": {
     "end_time": "2023-05-29T09:59:41.870167Z",
     "start_time": "2023-05-29T09:59:41.866423Z"
    }
   }
  },
  {
   "cell_type": "code",
   "execution_count": 50,
   "outputs": [],
   "source": [
    "model.compile(optimizer=optimiser,\n",
    "              loss=\"categorical_crossentropy\",\n",
    "              metrics=[\"accuracy\"])\n"
   ],
   "metadata": {
    "collapsed": false,
    "ExecuteTime": {
     "end_time": "2023-05-29T09:59:41.877564Z",
     "start_time": "2023-05-29T09:59:41.874699Z"
    }
   }
  },
  {
   "cell_type": "code",
   "execution_count": 51,
   "outputs": [
    {
     "name": "stdout",
     "output_type": "stream",
     "text": [
      "Model: \"model_2\"\n",
      "_________________________________________________________________\n",
      " Layer (type)                Output Shape              Param #   \n",
      "=================================================================\n",
      " feature (InputLayer)        [(None, 259, 13)]         0         \n",
      "                                                                 \n",
      " lstm_1 (LSTM)               (None, 259, 64)           19968     \n",
      "                                                                 \n",
      " lstm_2 (LSTM)               (None, 64)                33024     \n",
      "                                                                 \n",
      " dense_1 (Dense)             (None, 64)                4160      \n",
      "                                                                 \n",
      " predictions (Dense)         (None, 10)                650       \n",
      "                                                                 \n",
      "=================================================================\n",
      "Total params: 57,802\n",
      "Trainable params: 57,802\n",
      "Non-trainable params: 0\n",
      "_________________________________________________________________\n"
     ]
    }
   ],
   "source": [
    "model.summary()\n"
   ],
   "metadata": {
    "collapsed": false,
    "ExecuteTime": {
     "end_time": "2023-05-29T09:59:41.931643Z",
     "start_time": "2023-05-29T09:59:41.879837Z"
    }
   }
  },
  {
   "cell_type": "code",
   "execution_count": 52,
   "outputs": [],
   "source": [
    "from keras.callbacks import TensorBoard\n",
    "from datetime import datetime\n",
    "\n",
    "logdir=\"./logs/fit/\" + datetime.now().strftime(\"%Y%m%d-%H%M%S\")\n",
    "tensorboard_callback = TensorBoard(log_dir=logdir)"
   ],
   "metadata": {
    "collapsed": false,
    "ExecuteTime": {
     "end_time": "2023-05-29T09:59:41.932642Z",
     "start_time": "2023-05-29T09:59:41.901831Z"
    }
   }
  },
  {
   "cell_type": "code",
   "execution_count": 53,
   "outputs": [],
   "source": [
    "def train(model, data_set):\n",
    "    return model.fit(\n",
    "        x=data_set[0][1].tolist(),\n",
    "        y=data_set[0][0].tolist(),\n",
    "        verbose=1,\n",
    "        validation_data=(data_set[1][1].tolist(), data_set[1][0].tolist()),\n",
    "        batch_size=32,\n",
    "        epochs=50,\n",
    "        callbacks=[tensorboard_callback]\n",
    "    )"
   ],
   "metadata": {
    "collapsed": false,
    "ExecuteTime": {
     "end_time": "2023-05-29T09:59:41.932973Z",
     "start_time": "2023-05-29T09:59:41.904330Z"
    }
   }
  },
  {
   "cell_type": "code",
   "execution_count": 54,
   "outputs": [
    {
     "name": "stdout",
     "output_type": "stream",
     "text": [
      "Epoch 1/50\n"
     ]
    },
    {
     "name": "stderr",
     "output_type": "stream",
     "text": [
      "2023-05-29 10:59:50.825993: I tensorflow/core/common_runtime/executor.cc:1197] [/device:CPU:0] (DEBUG INFO) Executor start aborting (this does not indicate an error and you can ignore this message): INVALID_ARGUMENT: You must feed a value for placeholder tensor 'gradients/split_2_grad/concat/split_2/split_dim' with dtype int32\n",
      "\t [[{{node gradients/split_2_grad/concat/split_2/split_dim}}]]\n",
      "2023-05-29 10:59:50.827335: I tensorflow/core/common_runtime/executor.cc:1197] [/device:CPU:0] (DEBUG INFO) Executor start aborting (this does not indicate an error and you can ignore this message): INVALID_ARGUMENT: You must feed a value for placeholder tensor 'gradients/split_grad/concat/split/split_dim' with dtype int32\n",
      "\t [[{{node gradients/split_grad/concat/split/split_dim}}]]\n",
      "2023-05-29 10:59:50.829938: I tensorflow/core/common_runtime/executor.cc:1197] [/device:CPU:0] (DEBUG INFO) Executor start aborting (this does not indicate an error and you can ignore this message): INVALID_ARGUMENT: You must feed a value for placeholder tensor 'gradients/split_1_grad/concat/split_1/split_dim' with dtype int32\n",
      "\t [[{{node gradients/split_1_grad/concat/split_1/split_dim}}]]\n",
      "2023-05-29 10:59:51.009850: I tensorflow/core/common_runtime/executor.cc:1197] [/device:CPU:0] (DEBUG INFO) Executor start aborting (this does not indicate an error and you can ignore this message): INVALID_ARGUMENT: You must feed a value for placeholder tensor 'gradients/split_2_grad/concat/split_2/split_dim' with dtype int32\n",
      "\t [[{{node gradients/split_2_grad/concat/split_2/split_dim}}]]\n",
      "2023-05-29 10:59:51.011122: I tensorflow/core/common_runtime/executor.cc:1197] [/device:CPU:0] (DEBUG INFO) Executor start aborting (this does not indicate an error and you can ignore this message): INVALID_ARGUMENT: You must feed a value for placeholder tensor 'gradients/split_grad/concat/split/split_dim' with dtype int32\n",
      "\t [[{{node gradients/split_grad/concat/split/split_dim}}]]\n",
      "2023-05-29 10:59:51.012312: I tensorflow/core/common_runtime/executor.cc:1197] [/device:CPU:0] (DEBUG INFO) Executor start aborting (this does not indicate an error and you can ignore this message): INVALID_ARGUMENT: You must feed a value for placeholder tensor 'gradients/split_1_grad/concat/split_1/split_dim' with dtype int32\n",
      "\t [[{{node gradients/split_1_grad/concat/split_1/split_dim}}]]\n",
      "2023-05-29 10:59:51.903225: I tensorflow/core/common_runtime/executor.cc:1197] [/device:CPU:0] (DEBUG INFO) Executor start aborting (this does not indicate an error and you can ignore this message): INVALID_ARGUMENT: You must feed a value for placeholder tensor 'gradients/split_2_grad/concat/split_2/split_dim' with dtype int32\n",
      "\t [[{{node gradients/split_2_grad/concat/split_2/split_dim}}]]\n",
      "2023-05-29 10:59:51.905878: I tensorflow/core/common_runtime/executor.cc:1197] [/device:CPU:0] (DEBUG INFO) Executor start aborting (this does not indicate an error and you can ignore this message): INVALID_ARGUMENT: You must feed a value for placeholder tensor 'gradients/split_grad/concat/split/split_dim' with dtype int32\n",
      "\t [[{{node gradients/split_grad/concat/split/split_dim}}]]\n",
      "2023-05-29 10:59:51.907421: I tensorflow/core/common_runtime/executor.cc:1197] [/device:CPU:0] (DEBUG INFO) Executor start aborting (this does not indicate an error and you can ignore this message): INVALID_ARGUMENT: You must feed a value for placeholder tensor 'gradients/split_1_grad/concat/split_1/split_dim' with dtype int32\n",
      "\t [[{{node gradients/split_1_grad/concat/split_1/split_dim}}]]\n",
      "2023-05-29 10:59:52.129273: I tensorflow/core/common_runtime/executor.cc:1197] [/device:CPU:0] (DEBUG INFO) Executor start aborting (this does not indicate an error and you can ignore this message): INVALID_ARGUMENT: You must feed a value for placeholder tensor 'gradients/split_2_grad/concat/split_2/split_dim' with dtype int32\n",
      "\t [[{{node gradients/split_2_grad/concat/split_2/split_dim}}]]\n",
      "2023-05-29 10:59:52.130741: I tensorflow/core/common_runtime/executor.cc:1197] [/device:CPU:0] (DEBUG INFO) Executor start aborting (this does not indicate an error and you can ignore this message): INVALID_ARGUMENT: You must feed a value for placeholder tensor 'gradients/split_grad/concat/split/split_dim' with dtype int32\n",
      "\t [[{{node gradients/split_grad/concat/split/split_dim}}]]\n",
      "2023-05-29 10:59:52.132767: I tensorflow/core/common_runtime/executor.cc:1197] [/device:CPU:0] (DEBUG INFO) Executor start aborting (this does not indicate an error and you can ignore this message): INVALID_ARGUMENT: You must feed a value for placeholder tensor 'gradients/split_1_grad/concat/split_1/split_dim' with dtype int32\n",
      "\t [[{{node gradients/split_1_grad/concat/split_1/split_dim}}]]\n"
     ]
    },
    {
     "name": "stdout",
     "output_type": "stream",
     "text": [
      "22/22 [==============================] - ETA: 0s - loss: 2.2175 - accuracy: 0.2314"
     ]
    },
    {
     "name": "stderr",
     "output_type": "stream",
     "text": [
      "2023-05-29 10:59:58.056704: I tensorflow/core/common_runtime/executor.cc:1197] [/device:CPU:0] (DEBUG INFO) Executor start aborting (this does not indicate an error and you can ignore this message): INVALID_ARGUMENT: You must feed a value for placeholder tensor 'gradients/split_2_grad/concat/split_2/split_dim' with dtype int32\n",
      "\t [[{{node gradients/split_2_grad/concat/split_2/split_dim}}]]\n",
      "2023-05-29 10:59:58.057833: I tensorflow/core/common_runtime/executor.cc:1197] [/device:CPU:0] (DEBUG INFO) Executor start aborting (this does not indicate an error and you can ignore this message): INVALID_ARGUMENT: You must feed a value for placeholder tensor 'gradients/split_grad/concat/split/split_dim' with dtype int32\n",
      "\t [[{{node gradients/split_grad/concat/split/split_dim}}]]\n",
      "2023-05-29 10:59:58.059141: I tensorflow/core/common_runtime/executor.cc:1197] [/device:CPU:0] (DEBUG INFO) Executor start aborting (this does not indicate an error and you can ignore this message): INVALID_ARGUMENT: You must feed a value for placeholder tensor 'gradients/split_1_grad/concat/split_1/split_dim' with dtype int32\n",
      "\t [[{{node gradients/split_1_grad/concat/split_1/split_dim}}]]\n",
      "2023-05-29 10:59:58.235877: I tensorflow/core/common_runtime/executor.cc:1197] [/device:CPU:0] (DEBUG INFO) Executor start aborting (this does not indicate an error and you can ignore this message): INVALID_ARGUMENT: You must feed a value for placeholder tensor 'gradients/split_2_grad/concat/split_2/split_dim' with dtype int32\n",
      "\t [[{{node gradients/split_2_grad/concat/split_2/split_dim}}]]\n",
      "2023-05-29 10:59:58.237146: I tensorflow/core/common_runtime/executor.cc:1197] [/device:CPU:0] (DEBUG INFO) Executor start aborting (this does not indicate an error and you can ignore this message): INVALID_ARGUMENT: You must feed a value for placeholder tensor 'gradients/split_grad/concat/split/split_dim' with dtype int32\n",
      "\t [[{{node gradients/split_grad/concat/split/split_dim}}]]\n",
      "2023-05-29 10:59:58.238281: I tensorflow/core/common_runtime/executor.cc:1197] [/device:CPU:0] (DEBUG INFO) Executor start aborting (this does not indicate an error and you can ignore this message): INVALID_ARGUMENT: You must feed a value for placeholder tensor 'gradients/split_1_grad/concat/split_1/split_dim' with dtype int32\n",
      "\t [[{{node gradients/split_1_grad/concat/split_1/split_dim}}]]\n"
     ]
    },
    {
     "name": "stdout",
     "output_type": "stream",
     "text": [
      "22/22 [==============================] - 8s 235ms/step - loss: 2.2175 - accuracy: 0.2314 - val_loss: 2.1215 - val_accuracy: 0.3067\n",
      "Epoch 2/50\n",
      "22/22 [==============================] - 3s 123ms/step - loss: 1.9678 - accuracy: 0.3214 - val_loss: 1.9041 - val_accuracy: 0.3333\n",
      "Epoch 3/50\n",
      "22/22 [==============================] - 3s 120ms/step - loss: 1.7249 - accuracy: 0.4000 - val_loss: 1.7605 - val_accuracy: 0.3467\n",
      "Epoch 4/50\n",
      "22/22 [==============================] - 3s 131ms/step - loss: 1.5611 - accuracy: 0.4429 - val_loss: 1.8102 - val_accuracy: 0.2800\n",
      "Epoch 5/50\n",
      "22/22 [==============================] - 3s 121ms/step - loss: 1.4702 - accuracy: 0.4629 - val_loss: 1.7111 - val_accuracy: 0.3667\n",
      "Epoch 6/50\n",
      "22/22 [==============================] - 3s 127ms/step - loss: 1.4098 - accuracy: 0.4943 - val_loss: 1.7289 - val_accuracy: 0.4400\n",
      "Epoch 7/50\n",
      "22/22 [==============================] - 3s 118ms/step - loss: 1.3301 - accuracy: 0.5114 - val_loss: 1.6401 - val_accuracy: 0.4133\n",
      "Epoch 8/50\n",
      "22/22 [==============================] - 3s 115ms/step - loss: 1.2976 - accuracy: 0.5386 - val_loss: 1.6842 - val_accuracy: 0.3800\n",
      "Epoch 9/50\n",
      "22/22 [==============================] - 3s 114ms/step - loss: 1.2034 - accuracy: 0.5900 - val_loss: 1.6480 - val_accuracy: 0.4067\n",
      "Epoch 10/50\n",
      "22/22 [==============================] - 3s 118ms/step - loss: 1.1049 - accuracy: 0.6086 - val_loss: 1.6334 - val_accuracy: 0.4200\n",
      "Epoch 11/50\n",
      "22/22 [==============================] - 3s 118ms/step - loss: 1.0535 - accuracy: 0.6129 - val_loss: 1.6262 - val_accuracy: 0.4067\n",
      "Epoch 12/50\n",
      "22/22 [==============================] - 3s 114ms/step - loss: 0.9747 - accuracy: 0.6500 - val_loss: 1.6746 - val_accuracy: 0.4200\n",
      "Epoch 13/50\n",
      "22/22 [==============================] - 3s 117ms/step - loss: 0.9562 - accuracy: 0.6571 - val_loss: 1.6319 - val_accuracy: 0.4467\n",
      "Epoch 14/50\n",
      "22/22 [==============================] - 3s 116ms/step - loss: 0.9482 - accuracy: 0.6657 - val_loss: 1.6415 - val_accuracy: 0.4867\n",
      "Epoch 15/50\n",
      "22/22 [==============================] - 2s 113ms/step - loss: 0.8570 - accuracy: 0.7143 - val_loss: 1.7899 - val_accuracy: 0.4400\n",
      "Epoch 16/50\n",
      "22/22 [==============================] - 3s 116ms/step - loss: 0.8145 - accuracy: 0.7186 - val_loss: 1.8957 - val_accuracy: 0.3667\n",
      "Epoch 17/50\n",
      "22/22 [==============================] - 3s 123ms/step - loss: 0.8115 - accuracy: 0.7157 - val_loss: 1.8851 - val_accuracy: 0.4133\n",
      "Epoch 18/50\n",
      "22/22 [==============================] - 3s 121ms/step - loss: 0.7287 - accuracy: 0.7514 - val_loss: 1.8555 - val_accuracy: 0.4267\n",
      "Epoch 19/50\n",
      "22/22 [==============================] - 3s 125ms/step - loss: 0.7081 - accuracy: 0.7543 - val_loss: 1.8629 - val_accuracy: 0.4333\n",
      "Epoch 20/50\n",
      "22/22 [==============================] - 3s 133ms/step - loss: 0.7732 - accuracy: 0.7457 - val_loss: 1.8299 - val_accuracy: 0.4200\n",
      "Epoch 21/50\n",
      "22/22 [==============================] - 2s 112ms/step - loss: 0.7195 - accuracy: 0.7500 - val_loss: 1.8446 - val_accuracy: 0.4533\n",
      "Epoch 22/50\n",
      "22/22 [==============================] - 3s 117ms/step - loss: 0.6465 - accuracy: 0.7800 - val_loss: 1.8592 - val_accuracy: 0.4600\n",
      "Epoch 23/50\n",
      "22/22 [==============================] - 3s 120ms/step - loss: 0.6398 - accuracy: 0.7871 - val_loss: 1.8796 - val_accuracy: 0.4467\n",
      "Epoch 24/50\n",
      "22/22 [==============================] - 2s 110ms/step - loss: 0.6613 - accuracy: 0.7729 - val_loss: 2.1450 - val_accuracy: 0.3933\n",
      "Epoch 25/50\n",
      "22/22 [==============================] - 3s 114ms/step - loss: 0.7248 - accuracy: 0.7529 - val_loss: 1.9560 - val_accuracy: 0.3933\n",
      "Epoch 26/50\n",
      "22/22 [==============================] - 3s 114ms/step - loss: 0.5449 - accuracy: 0.8257 - val_loss: 1.9892 - val_accuracy: 0.4400\n",
      "Epoch 27/50\n",
      "22/22 [==============================] - 3s 120ms/step - loss: 0.4712 - accuracy: 0.8629 - val_loss: 2.1621 - val_accuracy: 0.4133\n",
      "Epoch 28/50\n",
      "22/22 [==============================] - 2s 111ms/step - loss: 0.4149 - accuracy: 0.8714 - val_loss: 2.1217 - val_accuracy: 0.4400\n",
      "Epoch 29/50\n",
      "22/22 [==============================] - 2s 113ms/step - loss: 0.3964 - accuracy: 0.8743 - val_loss: 2.1986 - val_accuracy: 0.4533\n",
      "Epoch 30/50\n",
      "22/22 [==============================] - 3s 119ms/step - loss: 0.3407 - accuracy: 0.9057 - val_loss: 2.3471 - val_accuracy: 0.4600\n",
      "Epoch 31/50\n",
      "22/22 [==============================] - 3s 116ms/step - loss: 0.3329 - accuracy: 0.8914 - val_loss: 2.4687 - val_accuracy: 0.4200\n",
      "Epoch 32/50\n",
      "22/22 [==============================] - 3s 119ms/step - loss: 0.4190 - accuracy: 0.8614 - val_loss: 2.1535 - val_accuracy: 0.4533\n",
      "Epoch 33/50\n",
      "22/22 [==============================] - 3s 117ms/step - loss: 0.4250 - accuracy: 0.8686 - val_loss: 2.2918 - val_accuracy: 0.4267\n",
      "Epoch 34/50\n",
      "22/22 [==============================] - 3s 115ms/step - loss: 0.3220 - accuracy: 0.9029 - val_loss: 2.3150 - val_accuracy: 0.4333\n",
      "Epoch 35/50\n",
      "22/22 [==============================] - 3s 115ms/step - loss: 0.2803 - accuracy: 0.9271 - val_loss: 2.3684 - val_accuracy: 0.4467\n",
      "Epoch 36/50\n",
      "22/22 [==============================] - 2s 113ms/step - loss: 0.2771 - accuracy: 0.9143 - val_loss: 2.2909 - val_accuracy: 0.4400\n",
      "Epoch 37/50\n",
      "22/22 [==============================] - 3s 117ms/step - loss: 0.2477 - accuracy: 0.9257 - val_loss: 2.5099 - val_accuracy: 0.4733\n",
      "Epoch 38/50\n",
      "22/22 [==============================] - 2s 111ms/step - loss: 0.2563 - accuracy: 0.9257 - val_loss: 2.4531 - val_accuracy: 0.4667\n",
      "Epoch 39/50\n",
      "22/22 [==============================] - 3s 115ms/step - loss: 0.3432 - accuracy: 0.8986 - val_loss: 2.4267 - val_accuracy: 0.4400\n",
      "Epoch 40/50\n",
      "22/22 [==============================] - 3s 117ms/step - loss: 0.2901 - accuracy: 0.9071 - val_loss: 2.4204 - val_accuracy: 0.4333\n",
      "Epoch 41/50\n",
      "22/22 [==============================] - 2s 110ms/step - loss: 0.2289 - accuracy: 0.9400 - val_loss: 2.5625 - val_accuracy: 0.4067\n",
      "Epoch 42/50\n",
      "22/22 [==============================] - 3s 116ms/step - loss: 0.2136 - accuracy: 0.9400 - val_loss: 2.5403 - val_accuracy: 0.4733\n",
      "Epoch 43/50\n",
      "22/22 [==============================] - 3s 116ms/step - loss: 0.1668 - accuracy: 0.9614 - val_loss: 2.5780 - val_accuracy: 0.4267\n",
      "Epoch 44/50\n",
      "22/22 [==============================] - 3s 114ms/step - loss: 0.1347 - accuracy: 0.9671 - val_loss: 2.6076 - val_accuracy: 0.4467\n",
      "Epoch 45/50\n",
      "22/22 [==============================] - 2s 109ms/step - loss: 0.1243 - accuracy: 0.9671 - val_loss: 2.7559 - val_accuracy: 0.4000\n",
      "Epoch 46/50\n",
      "22/22 [==============================] - 2s 111ms/step - loss: 0.1473 - accuracy: 0.9686 - val_loss: 2.7039 - val_accuracy: 0.4200\n",
      "Epoch 47/50\n",
      "22/22 [==============================] - 2s 113ms/step - loss: 0.1309 - accuracy: 0.9729 - val_loss: 2.6297 - val_accuracy: 0.4467\n",
      "Epoch 48/50\n",
      "22/22 [==============================] - 2s 109ms/step - loss: 0.1644 - accuracy: 0.9486 - val_loss: 2.7339 - val_accuracy: 0.4267\n",
      "Epoch 49/50\n",
      "22/22 [==============================] - 2s 108ms/step - loss: 0.1797 - accuracy: 0.9514 - val_loss: 2.8947 - val_accuracy: 0.3933\n",
      "Epoch 50/50\n",
      "22/22 [==============================] - 2s 109ms/step - loss: 0.1922 - accuracy: 0.9357 - val_loss: 2.7571 - val_accuracy: 0.4400\n"
     ]
    }
   ],
   "source": [
    "history = train(model, data_set)\n"
   ],
   "metadata": {
    "collapsed": false,
    "ExecuteTime": {
     "end_time": "2023-05-29T10:02:04.891473Z",
     "start_time": "2023-05-29T09:59:41.914990Z"
    }
   }
  },
  {
   "cell_type": "code",
   "execution_count": 55,
   "outputs": [],
   "source": [
    "def evaluate_model(model, data_set):\n",
    "    return model.evaluate(x=data_set[2][1].tolist(), y=data_set[2][0].tolist(), verbose=0, return_dict=True)\n"
   ],
   "metadata": {
    "collapsed": false,
    "ExecuteTime": {
     "end_time": "2023-05-29T10:02:04.893121Z",
     "start_time": "2023-05-29T10:02:04.891715Z"
    }
   }
  },
  {
   "cell_type": "code",
   "execution_count": 56,
   "outputs": [
    {
     "name": "stdout",
     "output_type": "stream",
     "text": [
      "loss: 2.6783\n",
      "accuracy: 0.4295\n"
     ]
    }
   ],
   "source": [
    "evaluation = evaluate_model(model, data_set)\n",
    "\n",
    "for name, value in evaluation.items():\n",
    "    print(f\"{name}: {value:.4f}\")\n"
   ],
   "metadata": {
    "collapsed": false,
    "ExecuteTime": {
     "end_time": "2023-05-29T10:02:06.591639Z",
     "start_time": "2023-05-29T10:02:05.241115Z"
    }
   }
  },
  {
   "cell_type": "code",
   "execution_count": 57,
   "outputs": [
    {
     "data": {
      "text/plain": "<Figure size 640x480 with 1 Axes>",
      "image/png": "[encoded data removed]"
     },
     "metadata": {},
     "output_type": "display_data"
    }
   ],
   "source": [
    "from utilities.training_plots import plot_loss\n",
    "\n",
    "plot_loss(history)\n"
   ],
   "metadata": {
    "collapsed": false,
    "ExecuteTime": {
     "end_time": "2023-05-29T10:02:06.792847Z",
     "start_time": "2023-05-29T10:02:06.591483Z"
    }
   }
  },
  {
   "cell_type": "code",
   "execution_count": 60,
   "outputs": [
    {
     "data": {
      "image/png": "[encoded data removed]",
      "text/plain": "<IPython.core.display.Image object>"
     },
     "execution_count": 60,
     "metadata": {},
     "output_type": "execute_result"
    }
   ],
   "source": [
    "from keras.utils import plot_model\n",
    "\n",
    "plot_model(model, to_file='model.png', show_shapes=True, show_layer_names=True)\n"
   ],
   "metadata": {
    "collapsed": false,
    "ExecuteTime": {
     "end_time": "2023-05-29T10:13:06.383364Z",
     "start_time": "2023-05-29T10:13:04.611224Z"
    }
   }
  }
 ],
 "metadata": {
  "kernelspec": {
   "display_name": "Python 3",
   "language": "python",
   "name": "python3"
  },
  "language_info": {
   "codemirror_mode": {
    "name": "ipython",
    "version": 2
   },
   "file_extension": ".py",
   "mimetype": "text/x-python",
   "name": "python",
   "nbconvert_exporter": "python",
   "pygments_lexer": "ipython2",
   "version": "2.7.6"
  }
 },
 "nbformat": 4,
 "nbformat_minor": 0
}
